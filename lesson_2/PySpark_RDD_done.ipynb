{
 "cells": [
  {
   "cell_type": "markdown",
   "metadata": {},
   "source": [
    "# Библиотеки"
   ]
  },
  {
   "cell_type": "code",
   "execution_count": 1,
   "metadata": {},
   "outputs": [],
   "source": [
    "import re\n",
    "import os\n",
    "import sys\n",
    "import string\n",
    "import shutil\n",
    "import multiprocessing\n",
    "\n",
    "import findspark\n",
    "import numpy as np\n",
    "import pandas as pd\n",
    "\n",
    "from pathlib import Path"
   ]
  },
  {
   "cell_type": "code",
   "execution_count": 2,
   "metadata": {},
   "outputs": [],
   "source": [
    "import matplotlib.pyplot as plt\n",
    "%matplotlib inline"
   ]
  },
  {
   "cell_type": "code",
   "execution_count": 3,
   "metadata": {
    "colab": {
     "base_uri": "https://localhost:8080/"
    },
    "id": "vQJQt0g6e_Cj",
    "outputId": "43d6935e-767d-4576-fcc1-ede94d9cb3a2"
   },
   "outputs": [
    {
     "name": "stderr",
     "output_type": "stream",
     "text": [
      "[nltk_data] Downloading package punkt to\n",
      "[nltk_data]     C:\\Users\\Admin\\AppData\\Roaming\\nltk_data...\n",
      "[nltk_data]   Package punkt is already up-to-date!\n",
      "[nltk_data] Downloading package stopwords to\n",
      "[nltk_data]     C:\\Users\\Admin\\AppData\\Roaming\\nltk_data...\n",
      "[nltk_data]   Package stopwords is already up-to-date!\n"
     ]
    }
   ],
   "source": [
    "import nltk\n",
    "nltk.download('punkt')\n",
    "nltk.download('stopwords')\n",
    "from nltk.corpus import stopwords"
   ]
  },
  {
   "cell_type": "markdown",
   "metadata": {},
   "source": [
    "# PySpark контекст"
   ]
  },
  {
   "cell_type": "markdown",
   "metadata": {},
   "source": [
    "Как установить PySpark на Windows - [Полный гид](https://www.machinelearningplus.com/pyspark/install-pyspark-on-windows/)"
   ]
  },
  {
   "cell_type": "markdown",
   "metadata": {},
   "source": [
    "Добавим `PYSPARK_PYTHON` и `PYSPARK_DRIVER_PYTHON` в PATH. [Подробнее](https://stackoverflow.com/questions/48260412/environment-variables-pyspark-python-and-pyspark-driver-python):"
   ]
  },
  {
   "cell_type": "code",
   "execution_count": 4,
   "metadata": {},
   "outputs": [],
   "source": [
    "os.environ['PYSPARK_PYTHON'] = sys.executable\n",
    "os.environ['PYSPARK_DRIVER_PYTHON'] = sys.executable"
   ]
  },
  {
   "cell_type": "markdown",
   "metadata": {},
   "source": [
    "Скачаем бинарники `hadoop.dll` и `winutils.exe` последних версий с [гитхаба](https://github.com/kontext-tech/winutils). Оба файла поместим в папку, укажем путь до неё в переменной среды `HADOOP_HOME`. Помимо этого, файл `hadoop.dll` поместим в папку `C:\\Windows\\System32`. Подробнее [здесь](https://stackoverflow.com/questions/41851066/exception-in-thread-main-java-lang-unsatisfiedlinkerror-org-apache-hadoop-io)."
   ]
  },
  {
   "cell_type": "code",
   "execution_count": 5,
   "metadata": {},
   "outputs": [],
   "source": [
    "os.environ['HADOOP_HOME'] = \"C:\\\\hadoop\""
   ]
  },
  {
   "cell_type": "code",
   "execution_count": 6,
   "metadata": {
    "id": "hvkEEKu5e-Th"
   },
   "outputs": [
    {
     "data": {
      "text/html": [
       "\n",
       "            <div>\n",
       "                <p><b>SparkSession - in-memory</b></p>\n",
       "                \n",
       "        <div>\n",
       "            <p><b>SparkContext</b></p>\n",
       "\n",
       "            <p><a href=\"http://DESKTOP-TS0U1T0:4050\">Spark UI</a></p>\n",
       "\n",
       "            <dl>\n",
       "              <dt>Version</dt>\n",
       "                <dd><code>v3.5.1</code></dd>\n",
       "              <dt>Master</dt>\n",
       "                <dd><code>local[*]</code></dd>\n",
       "              <dt>AppName</dt>\n",
       "                <dd><code>pyspark-shell</code></dd>\n",
       "            </dl>\n",
       "        </div>\n",
       "        \n",
       "            </div>\n",
       "        "
      ],
      "text/plain": [
       "<pyspark.sql.session.SparkSession at 0x1dcce80f790>"
      ]
     },
     "metadata": {},
     "output_type": "display_data"
    }
   ],
   "source": [
    "import pyspark\n",
    "from pyspark.sql import SparkSession\n",
    "from pyspark import SparkContext, SparkConf\n",
    "\n",
    "conf = SparkConf().set('spark.ui.port', '4050')\\\n",
    "                  .set('spark.serializer', 'org.apache.spark.serializer.KryoSerializer')\\\n",
    "                  .set('spark.dynamicAllocation.enabled', 'true')\\\n",
    "                  .set('spark.shuffle.service.enabled', 'true') #трекер, чтобы возвращать ресурсы\n",
    "\n",
    "sc = SparkContext(conf=conf)\n",
    "spark = SparkSession.builder.master('local[*]').getOrCreate()\n",
    "display(spark)"
   ]
  },
  {
   "cell_type": "code",
   "execution_count": 7,
   "metadata": {},
   "outputs": [
    {
     "name": "stdout",
     "output_type": "stream",
     "text": [
      "JDK version: java 22 2024-03-19\n",
      "Java(TM) SE Runtime Environment (build 22+36-2370)\n",
      "Java HotSpot(TM) 64-Bit Server VM (build 22+36-2370, mixed mode, sharing)\n",
      "\n",
      "Python version: 3.11.8 (tags/v3.11.8:db85d51, Feb  6 2024, 22:03:32) [MSC v.1937 64 bit (AMD64)]\n",
      "Spark version: 3.5.1\n",
      "Hadoop version = 3.3.4\n"
     ]
    }
   ],
   "source": [
    "print(f\"JDK version: {os.popen('java --version').read()}\")\n",
    "print(f\"Python version: {sys.version}\")\n",
    "print(f\"Spark version: {pyspark.__version__}\")\n",
    "print(f\"Hadoop version = {sc._jvm.org.apache.hadoop.util.VersionInfo.getVersion()}\")"
   ]
  },
  {
   "cell_type": "markdown",
   "metadata": {},
   "source": [
    "# Lesson"
   ]
  },
  {
   "cell_type": "markdown",
   "metadata": {},
   "source": [
    "## Create RDD & Num of partitions"
   ]
  },
  {
   "cell_type": "markdown",
   "metadata": {
    "id": "ysb-yADyseDE"
   },
   "source": [
    "Как проще всего создать RDD? Вызвать метод и передать ему нужный объект:"
   ]
  },
  {
   "cell_type": "code",
   "execution_count": 8,
   "metadata": {
    "id": "459H4QvujHKR"
   },
   "outputs": [],
   "source": [
    "first_rdd  = sc.parallelize(range(1000000))"
   ]
  },
  {
   "cell_type": "code",
   "execution_count": 9,
   "metadata": {
    "colab": {
     "base_uri": "https://localhost:8080/"
    },
    "id": "CRhiwucq51Sl",
    "outputId": "596c7a7c-f394-4f63-d632-19f003d73e7a"
   },
   "outputs": [
    {
     "data": {
      "text/plain": [
       "8"
      ]
     },
     "execution_count": 9,
     "metadata": {},
     "output_type": "execute_result"
    }
   ],
   "source": [
    "first_rdd.getNumPartitions()"
   ]
  },
  {
   "cell_type": "markdown",
   "metadata": {
    "id": "cmi41EwXy1gI"
   },
   "source": [
    "А можно ли менять количество партиций? Да, для этого есть два метода: `repartition()` и `coalesce()`. Первый используется для увеличения и уменьшения количества партиций, второй только для снижения, причем `coalesce` будет работать эффективнее. Много партиций - дольше будет считаться, но если данных много, то обязательно нужно"
   ]
  },
  {
   "cell_type": "markdown",
   "metadata": {
    "id": "ajdioFzEsgZB"
   },
   "source": [
    "`repartition()` всегда приводит к равномерному перераспределению данных, что ведет к shuffle. Если Вы уменьшаете число партиций, то стоит использовать `coalesce()`, который может избежать shuffle"
   ]
  },
  {
   "cell_type": "code",
   "execution_count": 10,
   "metadata": {
    "colab": {
     "base_uri": "https://localhost:8080/"
    },
    "id": "rTL0MygY593s",
    "outputId": "5ee2d63f-c1e1-4410-c82e-1951e06d4c92"
   },
   "outputs": [
    {
     "name": "stdout",
     "output_type": "stream",
     "text": [
      "5\n"
     ]
    }
   ],
   "source": [
    "first_rdd = first_rdd.repartition(5)\n",
    "print(first_rdd.getNumPartitions())"
   ]
  },
  {
   "cell_type": "code",
   "execution_count": 11,
   "metadata": {
    "colab": {
     "base_uri": "https://localhost:8080/"
    },
    "id": "S72uRYdGtz6i",
    "outputId": "b6c307e8-6818-4191-8007-54d4b77117b9"
   },
   "outputs": [
    {
     "name": "stdout",
     "output_type": "stream",
     "text": [
      "2\n"
     ]
    }
   ],
   "source": [
    "first_rdd = first_rdd.repartition(2)\n",
    "print(first_rdd.getNumPartitions())"
   ]
  },
  {
   "cell_type": "code",
   "execution_count": 12,
   "metadata": {
    "colab": {
     "base_uri": "https://localhost:8080/"
    },
    "id": "6k45ZdHFt1uU",
    "outputId": "71bcbc56-32e2-491f-fee5-4b2cc81cad91"
   },
   "outputs": [
    {
     "name": "stdout",
     "output_type": "stream",
     "text": [
      "1\n"
     ]
    }
   ],
   "source": [
    "first_rdd = first_rdd.coalesce(1)\n",
    "print(first_rdd.getNumPartitions())"
   ]
  },
  {
   "cell_type": "code",
   "execution_count": 13,
   "metadata": {
    "colab": {
     "base_uri": "https://localhost:8080/"
    },
    "id": "VOjksB0guT4k",
    "outputId": "49186c1e-2e33-48fc-ef27-14c247632485"
   },
   "outputs": [
    {
     "name": "stdout",
     "output_type": "stream",
     "text": [
      "CPU times: total: 0 ns\n",
      "Wall time: 9.5 s\n"
     ]
    }
   ],
   "source": [
    "a = %time first_rdd.sum()"
   ]
  },
  {
   "cell_type": "markdown",
   "metadata": {
    "id": "i63A8-0uuDJ2"
   },
   "source": [
    "Посмотрим на время выполнения для разного числа партиций"
   ]
  },
  {
   "cell_type": "code",
   "execution_count": 14,
   "metadata": {
    "colab": {
     "base_uri": "https://localhost:8080/"
    },
    "id": "Os4QBpNTuBvk",
    "outputId": "04597f53-cebc-44d4-9213-214584fb7ef4"
   },
   "outputs": [
    {
     "name": "stdout",
     "output_type": "stream",
     "text": [
      "9.32 s ± 0 ns per loop (mean ± std. dev. of 1 run, 1 loop each)\n",
      "2.82 s ± 0 ns per loop (mean ± std. dev. of 1 run, 1 loop each)\n",
      "3.24 s ± 0 ns per loop (mean ± std. dev. of 1 run, 1 loop each)\n",
      "3.95 s ± 0 ns per loop (mean ± std. dev. of 1 run, 1 loop each)\n"
     ]
    }
   ],
   "source": [
    "result = []\n",
    "first_rdd  = sc.parallelize(range(5000000))\n",
    "for partition in range(1, 5):\n",
    "    first_rdd = first_rdd.repartition(partition)\n",
    "    time = %timeit -o  -n 1 -r 1 first_rdd.sum()\n",
    "    time = time.best\n",
    "    result.append((partition, time))"
   ]
  },
  {
   "cell_type": "code",
   "execution_count": 15,
   "metadata": {
    "colab": {
     "base_uri": "https://localhost:8080/",
     "height": 282
    },
    "id": "aMfCB5CLxFWP",
    "outputId": "516bd630-5e3f-42c9-d600-adc2728ab2b8"
   },
   "outputs": [
    {
     "data": {
      "image/png": "[encoded data removed]",
      "text/plain": [
       "<Figure size 640x480 with 1 Axes>"
      ]
     },
     "metadata": {},
     "output_type": "display_data"
    }
   ],
   "source": [
    "plt.plot([res[1] for res in result])\n",
    "plt.show()"
   ]
  },
  {
   "cell_type": "markdown",
   "metadata": {
    "id": "KKB8WZZ3z1if"
   },
   "source": [
    "А почему лучший результат при небольшом количестве партиций?"
   ]
  },
  {
   "cell_type": "code",
   "execution_count": 16,
   "metadata": {
    "colab": {
     "base_uri": "https://localhost:8080/"
    },
    "id": "kuiJd2Oqz0yY",
    "outputId": "0a6ac64a-5525-4c2a-86c2-153309754da6"
   },
   "outputs": [
    {
     "data": {
      "text/plain": [
       "8"
      ]
     },
     "execution_count": 16,
     "metadata": {},
     "output_type": "execute_result"
    }
   ],
   "source": [
    "multiprocessing.cpu_count()"
   ]
  },
  {
   "cell_type": "markdown",
   "metadata": {
    "id": "2s8tP7e-y_ib"
   },
   "source": [
    "Из list также можно создавать RDD"
   ]
  },
  {
   "cell_type": "code",
   "execution_count": 17,
   "metadata": {
    "id": "Xo5auCMsy7aH"
   },
   "outputs": [],
   "source": [
    "bad_list = [1, 2, 3, 'a', 10, 'b']"
   ]
  },
  {
   "cell_type": "code",
   "execution_count": 18,
   "metadata": {
    "id": "VCpu1vIWzHYT"
   },
   "outputs": [],
   "source": [
    "bad_list_rdd = sc.parallelize(bad_list)"
   ]
  },
  {
   "cell_type": "code",
   "execution_count": 19,
   "metadata": {
    "colab": {
     "base_uri": "https://localhost:8080/"
    },
    "id": "gFHIC38GzbAT",
    "outputId": "1686512f-6393-4843-aa0b-60db63b2268d"
   },
   "outputs": [
    {
     "data": {
      "text/plain": [
       "[1, 2, 3, 'a', 10, 'b']"
      ]
     },
     "execution_count": 19,
     "metadata": {},
     "output_type": "execute_result"
    }
   ],
   "source": [
    "bad_list_rdd.collect()"
   ]
  },
  {
   "cell_type": "markdown",
   "metadata": {
    "id": "6gQxsxLd0UTH"
   },
   "source": [
    "Еще можно создать RDD через textFile и wholeTextFiles"
   ]
  },
  {
   "cell_type": "code",
   "execution_count": 20,
   "metadata": {
    "id": "0l5oE92a1q2z"
   },
   "outputs": [],
   "source": [
    "text_rdd = sc.textFile('spark_text.txt')"
   ]
  },
  {
   "cell_type": "code",
   "execution_count": 21,
   "metadata": {
    "colab": {
     "base_uri": "https://localhost:8080/"
    },
    "id": "2FKzdhuh10Z2",
    "outputId": "58f4b5ab-9431-438d-e9b6-f5bbe96135e2"
   },
   "outputs": [
    {
     "data": {
      "text/plain": [
       "['Apache Spark is an open-source unified analytics engine for large-scale data processing. Spark provides an interface for programming entire clusters with implicit data parallelism and fault tolerance. Originally developed at the University of California, Berkeley AMPLab, the Spark codebase was later donated to the Apache Software Foundation, which has maintained it since.']"
      ]
     },
     "execution_count": 21,
     "metadata": {},
     "output_type": "execute_result"
    }
   ],
   "source": [
    "text_rdd.take(1)"
   ]
  },
  {
   "cell_type": "markdown",
   "metadata": {
    "id": "065n4emo2Kuf"
   },
   "source": [
    "wholeTextFiles создает PairRDD в формате key-value, где ключ - имя файла, а значения - то, что находистя в файле. Имена файлов считываются из папки через wholeTextFiles"
   ]
  },
  {
   "cell_type": "code",
   "execution_count": 22,
   "metadata": {
    "id": "cTGV-Tk42nNT"
   },
   "outputs": [],
   "source": [
    "dirPath = Path('files')\n",
    "dirPath.mkdir(exist_ok=True)\n",
    "\n",
    "with open(dirPath / \"1.txt\", \"w\") as file1:\n",
    "    _ = file1.write(\"[1 2 3]\")\n",
    "    \n",
    "with open(dirPath / \"2.txt\", \"w\") as file2:\n",
    "    _ = file2.write(\"[4 5 6]\")\n",
    "\n",
    "textFiles = sc.wholeTextFiles(str(dirPath))"
   ]
  },
  {
   "cell_type": "code",
   "execution_count": 23,
   "metadata": {
    "colab": {
     "base_uri": "https://localhost:8080/"
    },
    "id": "2odeXS186wbv",
    "outputId": "526bb8df-6731-417c-d4c3-b6b2e12a0f0e"
   },
   "outputs": [
    {
     "data": {
      "text/plain": [
       "org.apache.spark.api.java.JavaPairRDD@44d86ded"
      ]
     },
     "execution_count": 23,
     "metadata": {},
     "output_type": "execute_result"
    }
   ],
   "source": [
    "textFiles"
   ]
  },
  {
   "cell_type": "code",
   "execution_count": 24,
   "metadata": {
    "colab": {
     "base_uri": "https://localhost:8080/"
    },
    "id": "Q49V_P0M6fV-",
    "outputId": "333fa064-d46b-4bd0-b23f-8264b0eb4768"
   },
   "outputs": [
    {
     "data": {
      "text/plain": [
       "[('file:/C:/Users/Admin/Desktop/pyspark/lesson_2/files/1.txt', '[1 2 3]'),\n",
       " ('file:/C:/Users/Admin/Desktop/pyspark/lesson_2/files/2.txt', '[4 5 6]')]"
      ]
     },
     "execution_count": 24,
     "metadata": {},
     "output_type": "execute_result"
    }
   ],
   "source": [
    "textFiles.collect()"
   ]
  },
  {
   "cell_type": "markdown",
   "metadata": {
    "id": "AUEQ7fTh7KIg"
   },
   "source": [
    "У RDD есть стандартно 2 типа методов - actions и transformations"
   ]
  },
  {
   "cell_type": "markdown",
   "metadata": {},
   "source": [
    "## Actions"
   ]
  },
  {
   "cell_type": "markdown",
   "metadata": {
    "id": "S9xpZ-Ns7b-b"
   },
   "source": [
    "Начнем с actions, то есть того, что заставит посчитать"
   ]
  },
  {
   "cell_type": "code",
   "execution_count": 25,
   "metadata": {
    "id": "xn4EpCXJ7WWo"
   },
   "outputs": [],
   "source": [
    "first_rdd = first_rdd.coalesce(2)"
   ]
  },
  {
   "cell_type": "code",
   "execution_count": 26,
   "metadata": {
    "colab": {
     "base_uri": "https://localhost:8080/"
    },
    "id": "TMUv2tyh7ob4",
    "outputId": "6cb2eac0-3904-4dd3-d544-2b6cd70ac38c"
   },
   "outputs": [
    {
     "data": {
      "text/plain": [
       "12499997500000"
      ]
     },
     "execution_count": 26,
     "metadata": {},
     "output_type": "execute_result"
    }
   ],
   "source": [
    "first_rdd.sum()"
   ]
  },
  {
   "cell_type": "code",
   "execution_count": 27,
   "metadata": {
    "colab": {
     "base_uri": "https://localhost:8080/"
    },
    "id": "DUDdK1co7qQc",
    "outputId": "40d81031-2c94-4d95-d086-693f9ee19246"
   },
   "outputs": [
    {
     "data": {
      "text/plain": [
       "(0, 4999999)"
      ]
     },
     "execution_count": 27,
     "metadata": {},
     "output_type": "execute_result"
    }
   ],
   "source": [
    "first_rdd.min(), first_rdd.max()"
   ]
  },
  {
   "cell_type": "code",
   "execution_count": 28,
   "metadata": {
    "colab": {
     "base_uri": "https://localhost:8080/"
    },
    "id": "gKijZqmp8uir",
    "outputId": "b2f7a841-1d85-4627-bb41-3c81f5329f43"
   },
   "outputs": [
    {
     "data": {
      "text/plain": [
       "190"
      ]
     },
     "execution_count": 28,
     "metadata": {},
     "output_type": "execute_result"
    }
   ],
   "source": [
    "first_rdd.first()"
   ]
  },
  {
   "cell_type": "code",
   "execution_count": 29,
   "metadata": {
    "colab": {
     "base_uri": "https://localhost:8080/"
    },
    "id": "xUnqk-QI7wqE",
    "outputId": "6d9274f9-2c9f-4555-e170-25803aba770f"
   },
   "outputs": [
    {
     "data": {
      "text/plain": [
       "[190, 191]"
      ]
     },
     "execution_count": 29,
     "metadata": {},
     "output_type": "execute_result"
    }
   ],
   "source": [
    "first_rdd.take(2)"
   ]
  },
  {
   "cell_type": "code",
   "execution_count": 30,
   "metadata": {
    "colab": {
     "base_uri": "https://localhost:8080/"
    },
    "id": "aUZk1eg87zky",
    "outputId": "90038325-e83a-4c82-cb39-9170a2239df4"
   },
   "outputs": [
    {
     "data": {
      "text/plain": [
       "5000000"
      ]
     },
     "execution_count": 30,
     "metadata": {},
     "output_type": "execute_result"
    }
   ],
   "source": [
    "first_rdd.count()"
   ]
  },
  {
   "cell_type": "code",
   "execution_count": 31,
   "metadata": {
    "id": "CMCFnJjG76Q-"
   },
   "outputs": [],
   "source": [
    "a = first_rdd.collect()"
   ]
  },
  {
   "cell_type": "code",
   "execution_count": 32,
   "metadata": {
    "id": "oh1IT2cP8BPj"
   },
   "outputs": [
    {
     "data": {
      "text/plain": [
       "(<bound method RDD.saveAsTextFile of CoalescedRDD[40] at coalesce at DirectMethodHandleAccessor.java:103>,\n",
       " <bound method RDD.saveAsPickleFile of CoalescedRDD[40] at coalesce at DirectMethodHandleAccessor.java:103>)"
      ]
     },
     "execution_count": 32,
     "metadata": {},
     "output_type": "execute_result"
    }
   ],
   "source": [
    "first_rdd.saveAsTextFile, first_rdd.saveAsPickleFile"
   ]
  },
  {
   "cell_type": "code",
   "execution_count": 33,
   "metadata": {
    "colab": {
     "base_uri": "https://localhost:8080/"
    },
    "id": "TFXlzHqA8T1M",
    "outputId": "dcd6c160-f40a-472e-da0e-78e17c32710b"
   },
   "outputs": [
    {
     "data": {
      "text/plain": [
       "12499997500000"
      ]
     },
     "execution_count": 33,
     "metadata": {},
     "output_type": "execute_result"
    }
   ],
   "source": [
    "first_rdd.reduce(lambda x, y: x + y)"
   ]
  },
  {
   "cell_type": "markdown",
   "metadata": {
    "id": "Ev48GQfDqnrS"
   },
   "source": [
    "Если нужно получить небольшое число записей на драйвер и, при этом, сохранить распределение, то лучше сделать выборку"
   ]
  },
  {
   "cell_type": "code",
   "execution_count": 34,
   "metadata": {
    "colab": {
     "base_uri": "https://localhost:8080/"
    },
    "id": "pDHNH3H19Pib",
    "outputId": "1e2d95b3-8e4b-47ed-90cf-378e388b529a"
   },
   "outputs": [
    {
     "data": {
      "text/plain": [
       "[4357022, 2400100, 4590395, 1691486, 1120509]"
      ]
     },
     "execution_count": 34,
     "metadata": {},
     "output_type": "execute_result"
    }
   ],
   "source": [
    "first_rdd.takeSample(withReplacement=False, num=5, seed=5757)"
   ]
  },
  {
   "cell_type": "markdown",
   "metadata": {},
   "source": [
    "## Transformations"
   ]
  },
  {
   "cell_type": "markdown",
   "metadata": {
    "id": "Aiad4-a8ejvL"
   },
   "source": [
    "Это просто трансформации, которые не будут вычисляться до вызова actions"
   ]
  },
  {
   "cell_type": "code",
   "execution_count": 35,
   "metadata": {
    "id": "BMpdFk3W9P-E"
   },
   "outputs": [],
   "source": [
    "a = sc.parallelize([1, 2, 3])\n",
    "b = sc.parallelize([2, 3, 4])"
   ]
  },
  {
   "cell_type": "code",
   "execution_count": 36,
   "metadata": {
    "id": "SmJMLmCO9Xi2"
   },
   "outputs": [],
   "source": [
    "c = a + b"
   ]
  },
  {
   "cell_type": "code",
   "execution_count": 37,
   "metadata": {
    "colab": {
     "base_uri": "https://localhost:8080/"
    },
    "id": "X196_-ZQ9arZ",
    "outputId": "59d7e3a0-e2ae-4eae-eae5-f02e751565e8"
   },
   "outputs": [
    {
     "data": {
      "text/plain": [
       "[1, 2, 3, 2, 3, 4]"
      ]
     },
     "execution_count": 37,
     "metadata": {},
     "output_type": "execute_result"
    }
   ],
   "source": [
    "c.collect()"
   ]
  },
  {
   "cell_type": "markdown",
   "metadata": {
    "id": "tQNtnHNtfzEC"
   },
   "source": [
    "### filter"
   ]
  },
  {
   "cell_type": "code",
   "execution_count": 38,
   "metadata": {
    "colab": {
     "base_uri": "https://localhost:8080/"
    },
    "id": "M7qMFVREfxv8",
    "outputId": "fd7097ea-2e5d-444f-e8d8-2075f947a8b0"
   },
   "outputs": [
    {
     "data": {
      "text/plain": [
       "100"
      ]
     },
     "execution_count": 38,
     "metadata": {},
     "output_type": "execute_result"
    }
   ],
   "source": [
    "text_rdd.count()"
   ]
  },
  {
   "cell_type": "code",
   "execution_count": 39,
   "metadata": {
    "colab": {
     "base_uri": "https://localhost:8080/"
    },
    "id": "3wiJ08Frf-Jz",
    "outputId": "2ca426c3-e371-4e37-ae62-685f6d3f515d"
   },
   "outputs": [
    {
     "data": {
      "text/plain": [
       "60"
      ]
     },
     "execution_count": 39,
     "metadata": {},
     "output_type": "execute_result"
    }
   ],
   "source": [
    "text_rdd.filter(lambda x: x != '').count()"
   ]
  },
  {
   "cell_type": "code",
   "execution_count": 40,
   "metadata": {
    "id": "wYQT0S4ugRRp"
   },
   "outputs": [],
   "source": [
    "text_rdd = text_rdd.filter(lambda x: x != '')"
   ]
  },
  {
   "cell_type": "markdown",
   "metadata": {
    "id": "E41esva9ex2j"
   },
   "source": [
    "### map"
   ]
  },
  {
   "cell_type": "code",
   "execution_count": 41,
   "metadata": {
    "id": "JQ5yWa7yfUVv"
   },
   "outputs": [],
   "source": [
    "stop_words = stopwords.words(\"english\")\n",
    "stop_words = set(stop_words)"
   ]
  },
  {
   "cell_type": "code",
   "execution_count": 42,
   "metadata": {
    "id": "gny7-CMYgkQQ"
   },
   "outputs": [],
   "source": [
    "def mapper_text(text):\n",
    "    clean_text = re.sub(rf\"[{string.punctuation}]\", \"\", text)\n",
    "    words = nltk.word_tokenize(clean_text)\n",
    "    words_with_value = [(word.lower(), 1) for word in words \n",
    "                        if word not in stop_words]\n",
    "    return words_with_value"
   ]
  },
  {
   "cell_type": "code",
   "execution_count": 43,
   "metadata": {
    "colab": {
     "base_uri": "https://localhost:8080/"
    },
    "id": "-C7K6V3Sgw4-",
    "outputId": "66e8f456-1f9f-404f-fc9a-2399186e3329",
    "scrolled": true
   },
   "outputs": [
    {
     "data": {
      "text/plain": [
       "[[('apache', 1),\n",
       "  ('spark', 1),\n",
       "  ('opensource', 1),\n",
       "  ('unified', 1),\n",
       "  ('analytics', 1),\n",
       "  ('engine', 1),\n",
       "  ('largescale', 1),\n",
       "  ('data', 1),\n",
       "  ('processing', 1),\n",
       "  ('spark', 1),\n",
       "  ('provides', 1),\n",
       "  ('interface', 1),\n",
       "  ('programming', 1),\n",
       "  ('entire', 1),\n",
       "  ('clusters', 1),\n",
       "  ('implicit', 1),\n",
       "  ('data', 1),\n",
       "  ('parallelism', 1),\n",
       "  ('fault', 1),\n",
       "  ('tolerance', 1),\n",
       "  ('originally', 1),\n",
       "  ('developed', 1),\n",
       "  ('university', 1),\n",
       "  ('california', 1),\n",
       "  ('berkeley', 1),\n",
       "  ('amplab', 1),\n",
       "  ('spark', 1),\n",
       "  ('codebase', 1),\n",
       "  ('later', 1),\n",
       "  ('donated', 1),\n",
       "  ('apache', 1),\n",
       "  ('software', 1),\n",
       "  ('foundation', 1),\n",
       "  ('maintained', 1),\n",
       "  ('since', 1)]]"
      ]
     },
     "execution_count": 43,
     "metadata": {},
     "output_type": "execute_result"
    }
   ],
   "source": [
    "text_rdd.map(mapper_text).take(1)"
   ]
  },
  {
   "cell_type": "markdown",
   "metadata": {
    "id": "bw6eE6BnhC4G"
   },
   "source": [
    "### flatMap"
   ]
  },
  {
   "cell_type": "markdown",
   "metadata": {
    "id": "eTUOQWrZhS89"
   },
   "source": [
    "Попробуем применить map и flatMap"
   ]
  },
  {
   "cell_type": "code",
   "execution_count": 44,
   "metadata": {
    "colab": {
     "base_uri": "https://localhost:8080/"
    },
    "id": "7Zi_fYGfhEza",
    "outputId": "fabc51e4-41be-43b4-d15a-838f1bad5844"
   },
   "outputs": [
    {
     "data": {
      "text/plain": [
       "60"
      ]
     },
     "execution_count": 44,
     "metadata": {},
     "output_type": "execute_result"
    }
   ],
   "source": [
    "text_rdd.map(mapper_text).count()"
   ]
  },
  {
   "cell_type": "code",
   "execution_count": 45,
   "metadata": {
    "colab": {
     "base_uri": "https://localhost:8080/"
    },
    "id": "XUp5kQAnhMsW",
    "outputId": "3aa080cc-8cad-4636-d291-3ac210473b3a"
   },
   "outputs": [
    {
     "data": {
      "text/plain": [
       "1921"
      ]
     },
     "execution_count": 45,
     "metadata": {},
     "output_type": "execute_result"
    }
   ],
   "source": [
    "text_rdd.flatMap(mapper_text).count()"
   ]
  },
  {
   "cell_type": "markdown",
   "metadata": {
    "id": "tWVR-ueohXQ-"
   },
   "source": [
    "Как так?"
   ]
  },
  {
   "cell_type": "code",
   "execution_count": 46,
   "metadata": {
    "colab": {
     "base_uri": "https://localhost:8080/"
    },
    "id": "jKf-8WfLhscS",
    "outputId": "faf3d48c-e596-48c6-c210-8b2a1a194271"
   },
   "outputs": [
    {
     "data": {
      "text/plain": [
       "1921"
      ]
     },
     "execution_count": 46,
     "metadata": {},
     "output_type": "execute_result"
    }
   ],
   "source": [
    "text_rdd.map(mapper_text).map(len).sum()"
   ]
  },
  {
   "cell_type": "markdown",
   "metadata": {
    "id": "tm1g9-0EiN2x"
   },
   "source": [
    "вроде понятно что случилось, но давайте на игрушечном примере"
   ]
  },
  {
   "cell_type": "code",
   "execution_count": 47,
   "metadata": {
    "id": "ZwUcamJHiNJa"
   },
   "outputs": [],
   "source": [
    "simple_example = sc.parallelize([[1, 2, 3], [2, 3, 4], [4, 5, 6]])"
   ]
  },
  {
   "cell_type": "code",
   "execution_count": 48,
   "metadata": {
    "id": "4e95UYZri0P1"
   },
   "outputs": [],
   "source": [
    "def pow_elements(elements):\n",
    "    return [x**2 for x in elements]"
   ]
  },
  {
   "cell_type": "code",
   "execution_count": 49,
   "metadata": {
    "colab": {
     "base_uri": "https://localhost:8080/"
    },
    "id": "oRuQNwphilD7",
    "outputId": "b5b59b28-3e47-4f8c-b422-4294855b8684"
   },
   "outputs": [
    {
     "data": {
      "text/plain": [
       "[[1, 4, 9], [4, 9, 16], [16, 25, 36]]"
      ]
     },
     "execution_count": 49,
     "metadata": {},
     "output_type": "execute_result"
    }
   ],
   "source": [
    "simple_example.map(pow_elements).collect()"
   ]
  },
  {
   "cell_type": "code",
   "execution_count": 50,
   "metadata": {
    "colab": {
     "base_uri": "https://localhost:8080/"
    },
    "id": "9JQ0zRRmjC6Y",
    "outputId": "eefc2e9f-f7cf-451c-96df-53f9ad905b85"
   },
   "outputs": [
    {
     "data": {
      "text/plain": [
       "[1, 4, 9, 4, 9, 16, 16, 25, 36]"
      ]
     },
     "execution_count": 50,
     "metadata": {},
     "output_type": "execute_result"
    }
   ],
   "source": [
    "simple_example.flatMap(pow_elements).collect()"
   ]
  },
  {
   "cell_type": "markdown",
   "metadata": {
    "id": "GYbF8PgtkA5U"
   },
   "source": [
    "### groupByKey"
   ]
  },
  {
   "cell_type": "code",
   "execution_count": 51,
   "metadata": {
    "id": "NbY1SU54j_Ln"
   },
   "outputs": [],
   "source": [
    "text_rdd = text_rdd.flatMap(mapper_text)"
   ]
  },
  {
   "cell_type": "code",
   "execution_count": 52,
   "metadata": {
    "colab": {
     "base_uri": "https://localhost:8080/"
    },
    "id": "OSAVshc5jVlO",
    "outputId": "8e520a47-972d-4282-df1f-147234ed64ca",
    "scrolled": true
   },
   "outputs": [
    {
     "data": {
      "text/plain": [
       "[('apache', 56),\n",
       " ('opensource', 1),\n",
       " ('analytics', 5),\n",
       " ('largescale', 1),\n",
       " ('interface', 10),\n",
       " ('entire', 1),\n",
       " ('implicit', 1),\n",
       " ('fault', 1),\n",
       " ('tolerance', 1),\n",
       " ('codebase', 1),\n",
       " ('donated', 2),\n",
       " ('resilient', 2),\n",
       " ('distributed', 23),\n",
       " ('dataset', 7),\n",
       " ('rdd', 15),\n",
       " ('multiset', 1),\n",
       " ('machines', 1),\n",
       " ('faulttolerant', 1),\n",
       " ('way2', 1),\n",
       " ('dataframe', 3),\n",
       " ('api', 14),\n",
       " ('released', 1),\n",
       " ('1x', 1),\n",
       " ('primary', 1),\n",
       " ('use', 9),\n",
       " ('even', 5),\n",
       " ('though', 1),\n",
       " ('deprecated45', 1),\n",
       " ('technology', 2),\n",
       " ('still', 2),\n",
       " ('api67', 1),\n",
       " ('response', 2),\n",
       " ('limitations', 1),\n",
       " ('computing', 5),\n",
       " ('paradigm', 2),\n",
       " ('forces', 1),\n",
       " ('structure', 3),\n",
       " ('read', 1),\n",
       " ('input', 2),\n",
       " ('disk', 3),\n",
       " ('map', 6),\n",
       " ('results', 2),\n",
       " ('working', 1),\n",
       " ('set', 5),\n",
       " ('form', 2),\n",
       " ('shared', 2),\n",
       " ('memory8', 1),\n",
       " ('iterative', 2),\n",
       " ('algorithm', 1),\n",
       " ('ms', 1),\n",
       " ('multiple', 4),\n",
       " ('times', 4),\n",
       " ('interactiveexploratory', 1),\n",
       " ('analysis', 2),\n",
       " ('ie', 1),\n",
       " ('repeated', 1),\n",
       " ('databasestyle', 1),\n",
       " ('applications', 5),\n",
       " ('orders', 1),\n",
       " ('hadoop', 11),\n",
       " ('among', 2),\n",
       " ('class', 1),\n",
       " ('algorithms', 7),\n",
       " ('machine', 12),\n",
       " ('learning', 15),\n",
       " ('spark10', 1),\n",
       " ('requires', 2),\n",
       " ('storage', 3),\n",
       " ('for', 2),\n",
       " ('management', 2),\n",
       " ('supports', 5),\n",
       " ('launch', 2),\n",
       " ('manually', 1),\n",
       " ('scripts', 1),\n",
       " ('install', 1),\n",
       " ('it', 7),\n",
       " ('single', 3),\n",
       " ('testing', 2),\n",
       " ('mesos', 2),\n",
       " ('variety', 2),\n",
       " ('alluxio', 1),\n",
       " ('file', 4),\n",
       " ('cassandra14', 1),\n",
       " ('s3', 2),\n",
       " ('lustre', 1),\n",
       " ('pseudodistributed', 1),\n",
       " ('used', 8),\n",
       " ('instead', 1),\n",
       " ('scenario', 1),\n",
       " ('executor', 2),\n",
       " ('per', 1),\n",
       " ('core', 9),\n",
       " ('overall', 1),\n",
       " ('task', 1),\n",
       " ('dispatching', 1),\n",
       " ('basic', 2),\n",
       " ('io', 2),\n",
       " ('exposed', 1),\n",
       " ('java', 5),\n",
       " ('python', 8),\n",
       " ('available', 2),\n",
       " ('this', 3),\n",
       " ('mirrors', 1),\n",
       " ('functionalhigherorder', 1),\n",
       " ('model', 1),\n",
       " ('driver', 3),\n",
       " ('invokes', 1),\n",
       " ('parallel', 5),\n",
       " ('operations', 7),\n",
       " ('schedules', 1),\n",
       " ('cluster2', 1),\n",
       " ('these', 5),\n",
       " ('ones', 2),\n",
       " ('take', 3),\n",
       " ('produce', 1),\n",
       " ('new', 5),\n",
       " ('lazy', 1),\n",
       " ('faulttolerance', 1),\n",
       " ('track', 1),\n",
       " ('reconstructed', 1),\n",
       " ('contain', 1),\n",
       " ('type', 1),\n",
       " ('objects', 2),\n",
       " ('rddoriented', 1),\n",
       " ('functional', 2),\n",
       " ('style', 1),\n",
       " ('needs', 3),\n",
       " ('reductions', 1),\n",
       " ('imperative', 1),\n",
       " ('style2', 1),\n",
       " ('typical', 1),\n",
       " ('rddcentric', 1),\n",
       " ('frequencies', 1),\n",
       " ('words', 2),\n",
       " ('text', 2),\n",
       " ('prints', 1),\n",
       " ('variant', 1),\n",
       " ('reducebykey', 1),\n",
       " ('anonymous', 1),\n",
       " ('performs', 2),\n",
       " ('item', 1),\n",
       " ('transform', 1),\n",
       " ('introduced', 1),\n",
       " ('called', 2),\n",
       " ('dataframesa', 1),\n",
       " ('support', 8),\n",
       " ('structured', 13),\n",
       " ('language', 2),\n",
       " ('dsl', 1),\n",
       " ('manipulate', 1),\n",
       " ('dataframes', 4),\n",
       " ('commandline', 1),\n",
       " ('interfaces', 1),\n",
       " ('although', 1),\n",
       " ('lack', 1),\n",
       " ('compiletime', 1),\n",
       " ('supported', 3),\n",
       " ('well', 4),\n",
       " ('streaming', 36),\n",
       " ('uses', 1),\n",
       " ('fast', 3),\n",
       " ('capability', 1),\n",
       " ('ingests', 1),\n",
       " ('minibatches', 3),\n",
       " ('enables', 1),\n",
       " ('written', 2),\n",
       " ('batch', 6),\n",
       " ('easy', 2),\n",
       " ('lambda', 1),\n",
       " ('comes', 3),\n",
       " ('penalty', 1),\n",
       " ('other', 2),\n",
       " ('event', 2),\n",
       " ('rather', 2),\n",
       " ('include', 2),\n",
       " ('storm', 3),\n",
       " ('flink21', 1),\n",
       " ('builtin', 2),\n",
       " ('kafka', 1),\n",
       " ('zeromq', 1),\n",
       " ('separate', 4),\n",
       " ('datasets', 2),\n",
       " ('higherlevel', 3),\n",
       " ('streaming23', 1),\n",
       " ('center', 1),\n",
       " ('cloud', 3),\n",
       " ('machinelearning', 1),\n",
       " ('framework', 9),\n",
       " ('large', 4),\n",
       " ('part', 3),\n",
       " ('architecture', 1),\n",
       " ('nine', 1),\n",
       " ('diskbased', 2),\n",
       " ('mahout', 2),\n",
       " ('according', 1),\n",
       " ('done', 1),\n",
       " ('alternating', 1),\n",
       " ('least', 1),\n",
       " ('squares', 1),\n",
       " ('als', 1),\n",
       " ('implementations', 2),\n",
       " ('gained', 1),\n",
       " ('scales', 1),\n",
       " ('statistical', 1),\n",
       " ('simplifies', 1),\n",
       " ('pipelines', 6),\n",
       " ('because', 1),\n",
       " ('unsuitable', 1),\n",
       " ('updated', 1),\n",
       " ('manner', 2),\n",
       " ('like', 4),\n",
       " ('graph', 9),\n",
       " ('database26', 1),\n",
       " ('pagerank', 2),\n",
       " ('general', 1),\n",
       " ('api27', 1),\n",
       " ('predecessor', 1),\n",
       " ('formally', 1),\n",
       " ('deprecated', 1),\n",
       " ('16', 1),\n",
       " ('full', 1),\n",
       " ('property', 1),\n",
       " ('edges', 1),\n",
       " ('viewed', 1),\n",
       " ('version', 1),\n",
       " ('giraph', 1),\n",
       " ('utilized', 1),\n",
       " ('mapreduce29', 1),\n",
       " ('started', 1),\n",
       " ('tasks', 8),\n",
       " ('computers', 1),\n",
       " ('key', 2),\n",
       " ('big', 6),\n",
       " ('require', 2),\n",
       " ('massive', 1),\n",
       " ('power', 2),\n",
       " ('crunch', 1),\n",
       " ('stores', 3),\n",
       " ('burdens', 1),\n",
       " ('work', 2),\n",
       " ('from', 1),\n",
       " ('become', 3),\n",
       " ('frameworks', 3),\n",
       " ('world', 3),\n",
       " ('ways', 1),\n",
       " ('bindings', 1),\n",
       " ('you', 3),\n",
       " ('find', 2),\n",
       " ('banks', 1),\n",
       " ('governments', 1),\n",
       " ('apple', 1),\n",
       " ('facebook', 1),\n",
       " ('ibm', 1),\n",
       " ('microsoft', 2),\n",
       " ('at', 2),\n",
       " ('level', 1),\n",
       " ('main', 1),\n",
       " ('components', 2),\n",
       " ('executors', 2),\n",
       " ('necessary', 1),\n",
       " ('likely', 2),\n",
       " ('advantage', 4),\n",
       " ('robust', 1),\n",
       " ('resource', 1),\n",
       " ('normally', 1),\n",
       " ('mean', 1),\n",
       " ('running', 3),\n",
       " ('swarm', 1),\n",
       " ('seek', 1),\n",
       " ('found', 1),\n",
       " ('google', 2),\n",
       " ('azure', 1),\n",
       " ('hdinsight', 1),\n",
       " ('employs', 1),\n",
       " ('platform', 2),\n",
       " ('service', 1),\n",
       " ('webbased', 1),\n",
       " ('optimized', 1),\n",
       " ('performance', 2),\n",
       " ('standard', 3),\n",
       " ('distribution', 1),\n",
       " ('user', 1),\n",
       " ('dag', 3),\n",
       " ('worth', 1),\n",
       " ('pointing', 1),\n",
       " ('bit', 1),\n",
       " ('misnomer', 1),\n",
       " ('days', 1),\n",
       " ('but', 3),\n",
       " ('advantages', 1),\n",
       " ('choice', 1),\n",
       " ('overtaking', 1),\n",
       " ('old', 1),\n",
       " ('brought', 1),\n",
       " ('prominence', 1),\n",
       " ('5g', 1),\n",
       " ('first', 1),\n",
       " ('speed', 1),\n",
       " ('means', 1),\n",
       " ('faster', 2),\n",
       " ('certain', 1),\n",
       " ('situations', 1),\n",
       " ('particularly', 1),\n",
       " ('writing', 5),\n",
       " ('state', 1),\n",
       " ('back', 1),\n",
       " ('essence', 1),\n",
       " ('creates', 1),\n",
       " ('mapping', 1),\n",
       " ('reducing', 2),\n",
       " ('efficiently', 1),\n",
       " ('contained', 1),\n",
       " ('memory', 1),\n",
       " ('around', 1),\n",
       " ('10', 1),\n",
       " ('developerfriendly', 1),\n",
       " ('as', 2),\n",
       " ('important', 3),\n",
       " ('could', 2),\n",
       " ('friendliness', 1),\n",
       " ('comparison', 1),\n",
       " ('behind', 1),\n",
       " ('method', 3),\n",
       " ('canonical', 1),\n",
       " ('almost', 1),\n",
       " ('lines', 3),\n",
       " ('heart', 1),\n",
       " ('split', 2),\n",
       " ('nosql', 1),\n",
       " ('cassandra', 2),\n",
       " ('mongodb', 2),\n",
       " ('buckets', 1),\n",
       " ('built', 2),\n",
       " ('providing', 1),\n",
       " ('filtering', 2),\n",
       " ('sampling', 1),\n",
       " ('runs', 1),\n",
       " ('fashion', 1),\n",
       " ('combining', 1),\n",
       " ('processes', 1),\n",
       " ('known', 1),\n",
       " ('focused', 1),\n",
       " ('using', 5),\n",
       " ('approach', 3),\n",
       " ('name', 1),\n",
       " ('suggests', 1),\n",
       " ('sql2003compliant', 1),\n",
       " ('bringing', 1),\n",
       " ('reading', 1),\n",
       " ('datastores', 1),\n",
       " ('hive', 1),\n",
       " ('jdbc', 1),\n",
       " ('orc', 1),\n",
       " ('popular', 1),\n",
       " ('pulling', 1),\n",
       " ('columns', 1),\n",
       " ('line', 1),\n",
       " ('allowing', 3),\n",
       " ('feature', 1),\n",
       " ('extraction', 1),\n",
       " ('classification', 2),\n",
       " ('random', 1),\n",
       " ('swapped', 1),\n",
       " ('ease', 1),\n",
       " ('models', 4),\n",
       " ('trained', 1),\n",
       " ('saved', 1),\n",
       " ('imported', 1),\n",
       " ('javabased', 1),\n",
       " ('production', 1),\n",
       " ('covers', 1),\n",
       " ('regression', 1),\n",
       " ('modeling', 2),\n",
       " ('see', 1),\n",
       " ('infoworld', 1),\n",
       " ('review', 1),\n",
       " ('works', 2),\n",
       " ('structures', 1),\n",
       " ('optimizer', 2),\n",
       " ('queries', 4),\n",
       " ('helped', 1),\n",
       " ('realtime', 3),\n",
       " ('would', 1),\n",
       " ('write', 1),\n",
       " ('something', 1),\n",
       " ('requirements', 1),\n",
       " ('leads', 1),\n",
       " ('disparate', 1),\n",
       " ('codebases', 1),\n",
       " ('sync', 1),\n",
       " ('domain', 1),\n",
       " ('involving', 1),\n",
       " ('concerns', 1),\n",
       " ('extended', 1),\n",
       " ('continuous', 4),\n",
       " ('manipulated', 1),\n",
       " ('share', 1),\n",
       " ('mostly', 1),\n",
       " ('everybody', 1),\n",
       " ('wins', 1),\n",
       " ('criticism', 1),\n",
       " ('microbatching', 2),\n",
       " ('apex', 1),\n",
       " ('added', 2),\n",
       " ('easier', 1),\n",
       " ('pain', 1),\n",
       " ('points', 1),\n",
       " ('struggled', 1),\n",
       " ('especially', 1),\n",
       " ('concerning', 1),\n",
       " ('messages', 1),\n",
       " ('streams', 1),\n",
       " ('query', 1),\n",
       " ('interactive', 1),\n",
       " ('live', 1),\n",
       " ('relied', 1),\n",
       " ('handle', 1),\n",
       " ('low', 1),\n",
       " ('impressive', 1),\n",
       " ('24', 1),\n",
       " ('considered', 1),\n",
       " ('experimental', 1),\n",
       " ('while', 1),\n",
       " ('future', 1),\n",
       " ('legacy', 1),\n",
       " ('continue', 1),\n",
       " ('recommends', 1),\n",
       " ('porting', 1),\n",
       " ('bearable', 1),\n",
       " ('via', 1),\n",
       " ('existing', 1),\n",
       " ('lowerlevel', 1),\n",
       " ('construct', 1),\n",
       " ('apply', 1),\n",
       " ('tensorflow', 1),\n",
       " ('registered', 1),\n",
       " ('udfs', 1),\n",
       " ('applied', 1),\n",
       " ('ready', 1),\n",
       " ('dive', 1),\n",
       " ('learn', 1),\n",
       " ('highly', 1),\n",
       " ('recommend', 1),\n",
       " ('neanderthal', 1),\n",
       " ('relatively', 1),\n",
       " ('perspective', 1),\n",
       " ('science', 1),\n",
       " ('spark', 110),\n",
       " ('unified', 2),\n",
       " ('engine', 4),\n",
       " ('data', 44),\n",
       " ('processing', 19),\n",
       " ('provides', 10),\n",
       " ('programming', 9),\n",
       " ('clusters', 2),\n",
       " ('parallelism', 1),\n",
       " ('originally', 3),\n",
       " ('developed', 2),\n",
       " ('university', 1),\n",
       " ('california', 1),\n",
       " ('berkeley', 2),\n",
       " ('amplab', 3),\n",
       " ('later', 2),\n",
       " ('software', 2),\n",
       " ('foundation', 4),\n",
       " ('maintained', 2),\n",
       " ('since', 1),\n",
       " ('architectural', 1),\n",
       " ('readonly', 2),\n",
       " ('items', 2),\n",
       " ('cluster', 12),\n",
       " ('the', 9),\n",
       " ('abstraction', 6),\n",
       " ('top', 5),\n",
       " ('followed', 1),\n",
       " ('in', 7),\n",
       " ('application', 8),\n",
       " ('2x', 3),\n",
       " ('encouraged3', 1),\n",
       " ('underlies', 1),\n",
       " ('rdds', 10),\n",
       " ('2012', 1),\n",
       " ('mapreduce', 10),\n",
       " ('particular', 1),\n",
       " ('linear', 1),\n",
       " ('dataflow', 1),\n",
       " ('programs', 3),\n",
       " ('function', 4),\n",
       " ('across', 5),\n",
       " ('reduce', 3),\n",
       " ('store', 1),\n",
       " ('reduction', 1),\n",
       " ('offers', 3),\n",
       " ('deliberately', 1),\n",
       " ('restricted', 3),\n",
       " ('facilitates', 1),\n",
       " ('implementation', 6),\n",
       " ('visit', 1),\n",
       " ('loop', 1),\n",
       " ('querying', 2),\n",
       " ('latency', 2),\n",
       " ('may', 2),\n",
       " ('reduced', 2),\n",
       " ('several', 1),\n",
       " ('magnitude', 1),\n",
       " ('compared', 2),\n",
       " ('implementation29', 1),\n",
       " ('training', 2),\n",
       " ('systems', 1),\n",
       " ('formed', 1),\n",
       " ('initial', 1),\n",
       " ('impetus', 1),\n",
       " ('developing', 1),\n",
       " ('manager', 2),\n",
       " ('system', 5),\n",
       " ('standalone', 2),\n",
       " ('native', 2),\n",
       " ('either', 2),\n",
       " ('provided', 2),\n",
       " ('package', 2),\n",
       " ('also', 15),\n",
       " ('possible', 1),\n",
       " ('run', 7),\n",
       " ('daemons', 1),\n",
       " ('yarn', 2),\n",
       " ('kubernetes', 2),\n",
       " ('11', 1),\n",
       " ('wide', 1),\n",
       " ('including', 6),\n",
       " ('hdfs12', 1),\n",
       " ('mapr', 1),\n",
       " ('maprfs13', 1),\n",
       " ('openstack', 1),\n",
       " ('swift', 1),\n",
       " ('amazon', 3),\n",
       " ('kudu', 1),\n",
       " ('system15', 1),\n",
       " ('custom', 4),\n",
       " ('solution', 2),\n",
       " ('implemented', 2),\n",
       " ('local', 2),\n",
       " ('mode', 3),\n",
       " ('usually', 1),\n",
       " ('development', 2),\n",
       " ('purposes', 1),\n",
       " ('required', 4),\n",
       " ('one', 4),\n",
       " ('cpu', 1),\n",
       " ('project', 5),\n",
       " ('scheduling', 3),\n",
       " ('functionalities', 1),\n",
       " ('scala', 6),\n",
       " ('net16', 2),\n",
       " ('r', 4),\n",
       " ('centered', 1),\n",
       " ('jvm', 3),\n",
       " ('languages', 3),\n",
       " ('usable', 1),\n",
       " ('nonjvm', 1),\n",
       " ('connect', 1),\n",
       " ('julia17', 1),\n",
       " ('program', 3),\n",
       " ('filter', 1),\n",
       " ('passing', 1),\n",
       " ('functions', 2),\n",
       " ('execution', 2),\n",
       " ('additional', 1),\n",
       " ('joins', 1),\n",
       " ('immutable', 4),\n",
       " ('achieved', 1),\n",
       " ('keeping', 1),\n",
       " ('lineage', 1),\n",
       " ('sequence', 2),\n",
       " ('produced', 1),\n",
       " ('case', 2),\n",
       " ('loss', 1),\n",
       " ('net', 1),\n",
       " ('besides', 2),\n",
       " ('two', 6),\n",
       " ('forms', 1),\n",
       " ('variables', 2),\n",
       " ('broadcast', 1),\n",
       " ('reference', 1),\n",
       " ('nodes', 4),\n",
       " ('accumulators', 1),\n",
       " ('a', 4),\n",
       " ('example', 2),\n",
       " ('following', 1),\n",
       " ('computes', 1),\n",
       " ('occurring', 1),\n",
       " ('files', 2),\n",
       " ('common', 2),\n",
       " ('each', 1),\n",
       " ('flatmap', 1),\n",
       " ('takes', 2),\n",
       " ('simple', 6),\n",
       " ('operation', 1),\n",
       " ('pair', 1),\n",
       " ('applies', 1),\n",
       " ('argument', 1),\n",
       " ('sql', 17),\n",
       " ('component', 2),\n",
       " ('semistructured', 1),\n",
       " ('domainspecific', 1),\n",
       " ('odbcjdbc', 1),\n",
       " ('server', 1),\n",
       " ('typechecking', 1),\n",
       " ('afforded', 1),\n",
       " ('20', 1),\n",
       " ('strongly', 1),\n",
       " ('typed', 1),\n",
       " ('fully', 1),\n",
       " ('cores', 1),\n",
       " ('perform', 4),\n",
       " ('transformations', 2),\n",
       " ('design', 1),\n",
       " ('code', 8),\n",
       " ('thus', 3),\n",
       " ('facilitating', 1),\n",
       " ('architecture1920', 1),\n",
       " ('however', 3),\n",
       " ('convenience', 1),\n",
       " ('equal', 1),\n",
       " ('minibatch', 1),\n",
       " ('duration', 1),\n",
       " ('engines', 1),\n",
       " ('process', 4),\n",
       " ('consume', 1),\n",
       " ('flume', 1),\n",
       " ('twitter', 1),\n",
       " ('kinesis', 1),\n",
       " ('tcpip', 1),\n",
       " ('sockets22', 1),\n",
       " ('based', 3),\n",
       " ('deployed', 2),\n",
       " ('traditional', 2),\n",
       " ('onpremises', 1),\n",
       " ('mllib', 9),\n",
       " ('due', 2),\n",
       " ('memorybased', 1),\n",
       " ('much', 5),\n",
       " ('benchmarks', 1),\n",
       " ('developers', 6),\n",
       " ('better', 1),\n",
       " ('vowpal', 1),\n",
       " ('wabbit24', 1),\n",
       " ('many', 3),\n",
       " ('shipped', 1),\n",
       " ('scale', 2),\n",
       " ('graphx', 7),\n",
       " ('graphprocessing', 1),\n",
       " ('graphs', 6),\n",
       " ('need', 2),\n",
       " ('let', 1),\n",
       " ('alone', 1),\n",
       " ('transactional', 1),\n",
       " ('apis', 3),\n",
       " ('massively', 1),\n",
       " ('pregel', 1),\n",
       " ('mapreducestyle', 1),\n",
       " ('unlike', 1),\n",
       " ('bagel', 1),\n",
       " ('properties', 1),\n",
       " ('attached', 1),\n",
       " ('vertices28', 1),\n",
       " ('inmemory', 2),\n",
       " ('initially', 1),\n",
       " ('research', 1),\n",
       " ('uc', 2),\n",
       " ('berkeleys', 1),\n",
       " ('databricks', 3),\n",
       " ('quickly', 1),\n",
       " ('sets', 2),\n",
       " ('distribute', 1),\n",
       " ('tandem', 1),\n",
       " ('tools', 1),\n",
       " ('qualities', 1),\n",
       " ('worlds', 1),\n",
       " ('marshalling', 1),\n",
       " ('shoulders', 1),\n",
       " ('easytouse', 1),\n",
       " ('abstracts', 1),\n",
       " ('away', 1),\n",
       " ('grunt', 1),\n",
       " ('humble', 1),\n",
       " ('beginnings', 1),\n",
       " ('2009', 1),\n",
       " ('telecommunications', 1),\n",
       " ('companies', 2),\n",
       " ('games', 1),\n",
       " ('major', 1),\n",
       " ('tech', 1),\n",
       " ('giants', 1),\n",
       " ('fundamental', 1),\n",
       " ('consists', 1),\n",
       " ('converts', 1),\n",
       " ('users', 3),\n",
       " ('worker', 1),\n",
       " ('execute', 1),\n",
       " ('assigned', 1),\n",
       " ('some', 1),\n",
       " ('mediate', 1),\n",
       " ('out', 1),\n",
       " ('box', 2),\n",
       " ('simply', 1),\n",
       " ('want', 1),\n",
       " ('care', 1),\n",
       " ('allocating', 1),\n",
       " ('workers', 1),\n",
       " ('demand', 1),\n",
       " ('enterprise', 2),\n",
       " ('cloudera', 1),\n",
       " ('hortonworks', 1),\n",
       " ('distributions', 2),\n",
       " ('jobs', 3),\n",
       " ('docker', 1),\n",
       " ('if', 1),\n",
       " ('managed', 2),\n",
       " ('emr', 1),\n",
       " ('dataproc', 1),\n",
       " ('company', 1),\n",
       " ('founders', 1),\n",
       " ('comprehensive', 1),\n",
       " ('integrated', 1),\n",
       " ('notebook', 1),\n",
       " ('builds', 1),\n",
       " ('commands', 1),\n",
       " ('directed', 1),\n",
       " ('acyclic', 1),\n",
       " ('layer', 1),\n",
       " ('determines', 1),\n",
       " ('executed', 2),\n",
       " ('vs', 2),\n",
       " ('why', 1),\n",
       " ('included', 1),\n",
       " ('download', 1),\n",
       " ('cio', 1),\n",
       " ('roadmap', 1),\n",
       " ('report', 1),\n",
       " ('hundred', 1),\n",
       " ('multistage', 1),\n",
       " ('stages', 2),\n",
       " ('twostage', 1),\n",
       " ('consisting', 1),\n",
       " ('whereas', 1),\n",
       " ('completely', 2),\n",
       " ('within', 1),\n",
       " ('tend', 1),\n",
       " ('counterpart', 1),\n",
       " ('second', 1),\n",
       " ('speedup', 1),\n",
       " ('argue', 1),\n",
       " ('friendly', 1),\n",
       " ('hiding', 1),\n",
       " ('complexity', 1),\n",
       " ('calls', 1),\n",
       " ('50', 1),\n",
       " ('count', 1),\n",
       " ('document', 1),\n",
       " ('shown', 1),\n",
       " ('concept', 3),\n",
       " ('represents', 1),\n",
       " ('collection', 1),\n",
       " ('leading', 1),\n",
       " ('scalable', 1),\n",
       " ('created', 1),\n",
       " ('databases', 1),\n",
       " ('enabling', 1),\n",
       " ('functionality', 1),\n",
       " ('joining', 1),\n",
       " ('aggregation', 1),\n",
       " ('splits', 1),\n",
       " ('distributes', 1),\n",
       " ('scaled', 1),\n",
       " ('shark', 1),\n",
       " ('commonly', 1),\n",
       " ('today', 1),\n",
       " ('creating', 2),\n",
       " ('borrowed', 1),\n",
       " ('pandas', 1),\n",
       " ('analysts', 1),\n",
       " ('alongside', 1),\n",
       " ('json', 1),\n",
       " ('hdfs', 1),\n",
       " ('parquet', 1),\n",
       " ('hbase', 1),\n",
       " ('others', 1),\n",
       " ('connectors', 1),\n",
       " ('packages', 1),\n",
       " ('ecosystem', 1),\n",
       " ('selecting', 1),\n",
       " ('bundles', 1),\n",
       " ('libraries', 2),\n",
       " ('applying', 1),\n",
       " ('techniques', 1),\n",
       " ('includes', 1),\n",
       " ('selections', 1),\n",
       " ('clustering', 3),\n",
       " ('kmeans', 1),\n",
       " ('forests', 1),\n",
       " ('scientists', 1),\n",
       " ('scalabased', 1),\n",
       " ('pipeline', 2),\n",
       " ('note', 1),\n",
       " ('facilities', 1),\n",
       " ('deep', 7),\n",
       " ('neural', 1),\n",
       " ('networks', 1),\n",
       " ('details', 1),\n",
       " ('selection', 1),\n",
       " ('graphframes', 1),\n",
       " ('allows', 2),\n",
       " ('taking', 1),\n",
       " ('catalyst', 2),\n",
       " ('early', 1),\n",
       " ('addition', 1),\n",
       " ('gain', 1),\n",
       " ('traction', 1),\n",
       " ('environments', 1),\n",
       " ('near', 1),\n",
       " ('previously', 1),\n",
       " ('stream', 2),\n",
       " ('things', 1),\n",
       " ('obviously', 1),\n",
       " ('kept', 1),\n",
       " ('despite', 1),\n",
       " ('different', 3),\n",
       " ('requiring', 1),\n",
       " ('resources', 1),\n",
       " ('operational', 1),\n",
       " ('breaking', 1),\n",
       " ('series', 1),\n",
       " ('microbatches', 2),\n",
       " ('way', 1),\n",
       " ('developer', 1),\n",
       " ('operator', 1),\n",
       " ('overhead', 1),\n",
       " ('scenarios', 1),\n",
       " ('lowlatency', 2),\n",
       " ('incoming', 2),\n",
       " ('able', 1),\n",
       " ('match', 1),\n",
       " ('streamingcapable', 1),\n",
       " ('flink', 1),\n",
       " ('pure', 1),\n",
       " ('essentially', 1),\n",
       " ('create', 1),\n",
       " ('infinite', 1),\n",
       " ('solves', 1),\n",
       " ('real', 1),\n",
       " ('earlier', 1),\n",
       " ('dealing', 1),\n",
       " ('eventtime', 1),\n",
       " ('aggregations', 1),\n",
       " ('late', 1),\n",
       " ('delivery', 1),\n",
       " ('all', 1),\n",
       " ('go', 1),\n",
       " ('scheme', 1),\n",
       " ('handling', 1),\n",
       " ('23', 1),\n",
       " ('team', 1),\n",
       " ('responses', 1),\n",
       " ('latencies', 1),\n",
       " ('1ms', 1),\n",
       " ('building', 1),\n",
       " ('makes', 3),\n",
       " ('maintaining', 1),\n",
       " ('lot', 1),\n",
       " ('call', 1),\n",
       " ('classifiers', 1),\n",
       " ('keras', 1),\n",
       " ('userdefined', 1),\n",
       " ('statements', 1),\n",
       " ('tutorials', 1),\n",
       " ('we', 1),\n",
       " ('evan', 1),\n",
       " ('heitman', 1),\n",
       " ('guide', 1),\n",
       " ('lays', 1),\n",
       " ('basics', 1),\n",
       " ('terms', 1),\n",
       " ('guides', 1),\n",
       " ('article', 1),\n",
       " ('scientist', 1),\n",
       " ('sense', 1),\n",
       " ('increasingly', 1),\n",
       " ('critical', 1)]"
      ]
     },
     "execution_count": 52,
     "metadata": {},
     "output_type": "execute_result"
    }
   ],
   "source": [
    "text_rdd.groupByKey().mapValues(len).collect()"
   ]
  },
  {
   "cell_type": "markdown",
   "metadata": {
    "id": "NGHXTxQElEki"
   },
   "source": [
    "### sortByKey"
   ]
  },
  {
   "cell_type": "code",
   "execution_count": 53,
   "metadata": {
    "colab": {
     "base_uri": "https://localhost:8080/"
    },
    "id": "ZS4CyLFVlGWe",
    "outputId": "b10bf4ae-3682-4bd4-e059-3c6063336404",
    "scrolled": true
   },
   "outputs": [
    {
     "data": {
      "text/plain": [
       "[('10', 1),\n",
       " ('11', 1),\n",
       " ('16', 1),\n",
       " ('1ms', 1),\n",
       " ('1x', 1),\n",
       " ('20', 1),\n",
       " ('2009', 1),\n",
       " ('2012', 1),\n",
       " ('23', 1),\n",
       " ('24', 1),\n",
       " ('2x', 3),\n",
       " ('50', 1),\n",
       " ('5g', 1),\n",
       " ('a', 4),\n",
       " ('able', 1),\n",
       " ('abstraction', 6),\n",
       " ('abstracts', 1),\n",
       " ('according', 1),\n",
       " ('accumulators', 1),\n",
       " ('achieved', 1),\n",
       " ('across', 5),\n",
       " ('acyclic', 1),\n",
       " ('added', 2),\n",
       " ('addition', 1),\n",
       " ('additional', 1),\n",
       " ('advantage', 4),\n",
       " ('advantages', 1),\n",
       " ('afforded', 1),\n",
       " ('aggregation', 1),\n",
       " ('aggregations', 1),\n",
       " ('algorithm', 1),\n",
       " ('algorithms', 7),\n",
       " ('all', 1),\n",
       " ('allocating', 1),\n",
       " ('allowing', 3),\n",
       " ('allows', 2),\n",
       " ('alluxio', 1),\n",
       " ('almost', 1),\n",
       " ('alone', 1),\n",
       " ('alongside', 1),\n",
       " ('als', 1),\n",
       " ('also', 15),\n",
       " ('alternating', 1),\n",
       " ('although', 1),\n",
       " ('amazon', 3),\n",
       " ('among', 2),\n",
       " ('amplab', 3),\n",
       " ('analysis', 2),\n",
       " ('analysts', 1),\n",
       " ('analytics', 5),\n",
       " ('anonymous', 1),\n",
       " ('apache', 56),\n",
       " ('apex', 1),\n",
       " ('api', 14),\n",
       " ('api27', 1),\n",
       " ('api67', 1),\n",
       " ('apis', 3),\n",
       " ('apple', 1),\n",
       " ('application', 8),\n",
       " ('applications', 5),\n",
       " ('applied', 1),\n",
       " ('applies', 1),\n",
       " ('apply', 1),\n",
       " ('applying', 1),\n",
       " ('approach', 3),\n",
       " ('architectural', 1),\n",
       " ('architecture', 1),\n",
       " ('architecture1920', 1),\n",
       " ('argue', 1),\n",
       " ('argument', 1),\n",
       " ('around', 1),\n",
       " ('article', 1),\n",
       " ('as', 2),\n",
       " ('assigned', 1),\n",
       " ('at', 2),\n",
       " ('attached', 1),\n",
       " ('available', 2),\n",
       " ('away', 1),\n",
       " ('azure', 1),\n",
       " ('back', 1),\n",
       " ('bagel', 1),\n",
       " ('banks', 1),\n",
       " ('based', 3),\n",
       " ('basic', 2),\n",
       " ('basics', 1),\n",
       " ('batch', 6),\n",
       " ('bearable', 1),\n",
       " ('because', 1),\n",
       " ('become', 3),\n",
       " ('beginnings', 1),\n",
       " ('behind', 1),\n",
       " ('benchmarks', 1),\n",
       " ('berkeley', 2),\n",
       " ('berkeleys', 1),\n",
       " ('besides', 2),\n",
       " ('better', 1),\n",
       " ('big', 6),\n",
       " ('bindings', 1),\n",
       " ('bit', 1),\n",
       " ('borrowed', 1),\n",
       " ('box', 2),\n",
       " ('breaking', 1),\n",
       " ('bringing', 1),\n",
       " ('broadcast', 1),\n",
       " ('brought', 1),\n",
       " ('buckets', 1),\n",
       " ('building', 1),\n",
       " ('builds', 1),\n",
       " ('built', 2),\n",
       " ('builtin', 2),\n",
       " ('bundles', 1),\n",
       " ('burdens', 1),\n",
       " ('but', 3),\n",
       " ('california', 1),\n",
       " ('call', 1),\n",
       " ('called', 2),\n",
       " ('calls', 1),\n",
       " ('canonical', 1),\n",
       " ('capability', 1),\n",
       " ('care', 1),\n",
       " ('case', 2),\n",
       " ('cassandra', 2),\n",
       " ('cassandra14', 1),\n",
       " ('catalyst', 2),\n",
       " ('center', 1),\n",
       " ('centered', 1),\n",
       " ('certain', 1),\n",
       " ('choice', 1),\n",
       " ('cio', 1),\n",
       " ('class', 1),\n",
       " ('classification', 2),\n",
       " ('classifiers', 1),\n",
       " ('cloud', 3),\n",
       " ('cloudera', 1),\n",
       " ('cluster', 12),\n",
       " ('cluster2', 1),\n",
       " ('clustering', 3),\n",
       " ('clusters', 2),\n",
       " ('code', 8),\n",
       " ('codebase', 1),\n",
       " ('codebases', 1),\n",
       " ('collection', 1),\n",
       " ('columns', 1),\n",
       " ('combining', 1),\n",
       " ('comes', 3),\n",
       " ('commandline', 1),\n",
       " ('commands', 1),\n",
       " ('common', 2),\n",
       " ('commonly', 1),\n",
       " ('companies', 2),\n",
       " ('company', 1),\n",
       " ('compared', 2),\n",
       " ('comparison', 1),\n",
       " ('compiletime', 1),\n",
       " ('completely', 2),\n",
       " ('complexity', 1),\n",
       " ('component', 2),\n",
       " ('components', 2),\n",
       " ('comprehensive', 1),\n",
       " ('computers', 1),\n",
       " ('computes', 1),\n",
       " ('computing', 5),\n",
       " ('concept', 3),\n",
       " ('concerning', 1),\n",
       " ('concerns', 1),\n",
       " ('connect', 1),\n",
       " ('connectors', 1),\n",
       " ('considered', 1),\n",
       " ('consisting', 1),\n",
       " ('consists', 1),\n",
       " ('construct', 1),\n",
       " ('consume', 1),\n",
       " ('contain', 1),\n",
       " ('contained', 1),\n",
       " ('continue', 1),\n",
       " ('continuous', 4),\n",
       " ('convenience', 1),\n",
       " ('converts', 1),\n",
       " ('core', 9),\n",
       " ('cores', 1),\n",
       " ('could', 2),\n",
       " ('count', 1),\n",
       " ('counterpart', 1),\n",
       " ('covers', 1),\n",
       " ('cpu', 1),\n",
       " ('create', 1),\n",
       " ('created', 1),\n",
       " ('creates', 1),\n",
       " ('creating', 2),\n",
       " ('critical', 1),\n",
       " ('criticism', 1),\n",
       " ('crunch', 1),\n",
       " ('custom', 4),\n",
       " ('daemons', 1),\n",
       " ('dag', 3),\n",
       " ('data', 44),\n",
       " ('database26', 1),\n",
       " ('databases', 1),\n",
       " ('databasestyle', 1),\n",
       " ('databricks', 3),\n",
       " ('dataflow', 1),\n",
       " ('dataframe', 3),\n",
       " ('dataframes', 4),\n",
       " ('dataframesa', 1),\n",
       " ('dataproc', 1),\n",
       " ('dataset', 7),\n",
       " ('datasets', 2),\n",
       " ('datastores', 1),\n",
       " ('days', 1),\n",
       " ('dealing', 1),\n",
       " ('deep', 7),\n",
       " ('deliberately', 1),\n",
       " ('delivery', 1),\n",
       " ('demand', 1),\n",
       " ('deployed', 2),\n",
       " ('deprecated', 1),\n",
       " ('deprecated45', 1),\n",
       " ('design', 1),\n",
       " ('despite', 1),\n",
       " ('details', 1),\n",
       " ('determines', 1),\n",
       " ('developed', 2),\n",
       " ('developer', 1),\n",
       " ('developerfriendly', 1),\n",
       " ('developers', 6),\n",
       " ('developing', 1),\n",
       " ('development', 2),\n",
       " ('different', 3),\n",
       " ('directed', 1),\n",
       " ('disk', 3),\n",
       " ('diskbased', 2),\n",
       " ('disparate', 1),\n",
       " ('dispatching', 1),\n",
       " ('distribute', 1),\n",
       " ('distributed', 23),\n",
       " ('distributes', 1),\n",
       " ('distribution', 1),\n",
       " ('distributions', 2),\n",
       " ('dive', 1),\n",
       " ('docker', 1),\n",
       " ('document', 1),\n",
       " ('domain', 1),\n",
       " ('domainspecific', 1),\n",
       " ('donated', 2),\n",
       " ('done', 1),\n",
       " ('download', 1),\n",
       " ('driver', 3),\n",
       " ('dsl', 1),\n",
       " ('due', 2),\n",
       " ('duration', 1),\n",
       " ('each', 1),\n",
       " ('earlier', 1),\n",
       " ('early', 1),\n",
       " ('ease', 1),\n",
       " ('easier', 1),\n",
       " ('easy', 2),\n",
       " ('easytouse', 1),\n",
       " ('ecosystem', 1),\n",
       " ('edges', 1),\n",
       " ('efficiently', 1),\n",
       " ('either', 2),\n",
       " ('employs', 1),\n",
       " ('emr', 1),\n",
       " ('enables', 1),\n",
       " ('enabling', 1),\n",
       " ('encouraged3', 1),\n",
       " ('engine', 4),\n",
       " ('engines', 1),\n",
       " ('enterprise', 2),\n",
       " ('entire', 1),\n",
       " ('environments', 1),\n",
       " ('equal', 1),\n",
       " ('especially', 1),\n",
       " ('essence', 1),\n",
       " ('essentially', 1),\n",
       " ('evan', 1),\n",
       " ('even', 5),\n",
       " ('event', 2),\n",
       " ('eventtime', 1),\n",
       " ('everybody', 1),\n",
       " ('example', 2),\n",
       " ('execute', 1),\n",
       " ('executed', 2),\n",
       " ('execution', 2),\n",
       " ('executor', 2),\n",
       " ('executors', 2),\n",
       " ('existing', 1),\n",
       " ('experimental', 1),\n",
       " ('exposed', 1),\n",
       " ('extended', 1),\n",
       " ('extraction', 1),\n",
       " ('facebook', 1),\n",
       " ('facilitates', 1),\n",
       " ('facilitating', 1),\n",
       " ('facilities', 1),\n",
       " ('fashion', 1),\n",
       " ('fast', 3),\n",
       " ('faster', 2),\n",
       " ('fault', 1),\n",
       " ('faulttolerance', 1),\n",
       " ('faulttolerant', 1),\n",
       " ('feature', 1),\n",
       " ('file', 4),\n",
       " ('files', 2),\n",
       " ('filter', 1),\n",
       " ('filtering', 2),\n",
       " ('find', 2),\n",
       " ('first', 1),\n",
       " ('flatmap', 1),\n",
       " ('flink', 1),\n",
       " ('flink21', 1),\n",
       " ('flume', 1),\n",
       " ('focused', 1),\n",
       " ('followed', 1),\n",
       " ('following', 1),\n",
       " ('for', 2),\n",
       " ('forces', 1),\n",
       " ('forests', 1),\n",
       " ('form', 2),\n",
       " ('formally', 1),\n",
       " ('formed', 1),\n",
       " ('forms', 1),\n",
       " ('found', 1),\n",
       " ('foundation', 4),\n",
       " ('founders', 1),\n",
       " ('framework', 9),\n",
       " ('frameworks', 3),\n",
       " ('frequencies', 1),\n",
       " ('friendliness', 1),\n",
       " ('friendly', 1),\n",
       " ('from', 1),\n",
       " ('full', 1),\n",
       " ('fully', 1),\n",
       " ('function', 4),\n",
       " ('functional', 2),\n",
       " ('functionalhigherorder', 1),\n",
       " ('functionalities', 1),\n",
       " ('functionality', 1),\n",
       " ('functions', 2),\n",
       " ('fundamental', 1),\n",
       " ('future', 1),\n",
       " ('gain', 1),\n",
       " ('gained', 1),\n",
       " ('games', 1),\n",
       " ('general', 1),\n",
       " ('giants', 1),\n",
       " ('giraph', 1),\n",
       " ('go', 1),\n",
       " ('google', 2),\n",
       " ('governments', 1),\n",
       " ('graph', 9),\n",
       " ('graphframes', 1),\n",
       " ('graphprocessing', 1),\n",
       " ('graphs', 6),\n",
       " ('graphx', 7),\n",
       " ('grunt', 1),\n",
       " ('guide', 1),\n",
       " ('guides', 1),\n",
       " ('hadoop', 11),\n",
       " ('handle', 1),\n",
       " ('handling', 1),\n",
       " ('hbase', 1),\n",
       " ('hdfs', 1),\n",
       " ('hdfs12', 1),\n",
       " ('hdinsight', 1),\n",
       " ('heart', 1),\n",
       " ('heitman', 1),\n",
       " ('helped', 1),\n",
       " ('hiding', 1),\n",
       " ('higherlevel', 3),\n",
       " ('highly', 1),\n",
       " ('hive', 1),\n",
       " ('hortonworks', 1),\n",
       " ('however', 3),\n",
       " ('humble', 1),\n",
       " ('hundred', 1),\n",
       " ('ibm', 1),\n",
       " ('ie', 1),\n",
       " ('if', 1),\n",
       " ('immutable', 4),\n",
       " ('imperative', 1),\n",
       " ('impetus', 1),\n",
       " ('implementation', 6),\n",
       " ('implementation29', 1),\n",
       " ('implementations', 2),\n",
       " ('implemented', 2),\n",
       " ('implicit', 1),\n",
       " ('important', 3),\n",
       " ('imported', 1),\n",
       " ('impressive', 1),\n",
       " ('in', 7),\n",
       " ('include', 2),\n",
       " ('included', 1),\n",
       " ('includes', 1),\n",
       " ('including', 6),\n",
       " ('incoming', 2),\n",
       " ('increasingly', 1),\n",
       " ('infinite', 1),\n",
       " ('infoworld', 1),\n",
       " ('ingests', 1),\n",
       " ('initial', 1),\n",
       " ('initially', 1),\n",
       " ('inmemory', 2),\n",
       " ('input', 2),\n",
       " ('install', 1),\n",
       " ('instead', 1),\n",
       " ('integrated', 1),\n",
       " ('interactive', 1),\n",
       " ('interactiveexploratory', 1),\n",
       " ('interface', 10),\n",
       " ('interfaces', 1),\n",
       " ('introduced', 1),\n",
       " ('invokes', 1),\n",
       " ('involving', 1),\n",
       " ('io', 2),\n",
       " ('it', 7),\n",
       " ('item', 1),\n",
       " ('items', 2),\n",
       " ('iterative', 2),\n",
       " ('java', 5),\n",
       " ('javabased', 1),\n",
       " ('jdbc', 1),\n",
       " ('jobs', 3),\n",
       " ('joining', 1),\n",
       " ('joins', 1),\n",
       " ('json', 1),\n",
       " ('julia17', 1),\n",
       " ('jvm', 3),\n",
       " ('kafka', 1),\n",
       " ('keeping', 1),\n",
       " ('kept', 1),\n",
       " ('keras', 1),\n",
       " ('key', 2),\n",
       " ('kinesis', 1),\n",
       " ('kmeans', 1),\n",
       " ('known', 1),\n",
       " ('kubernetes', 2),\n",
       " ('kudu', 1),\n",
       " ('lack', 1),\n",
       " ('lambda', 1),\n",
       " ('language', 2),\n",
       " ('languages', 3),\n",
       " ('large', 4),\n",
       " ('largescale', 1),\n",
       " ('late', 1),\n",
       " ('latencies', 1),\n",
       " ('latency', 2),\n",
       " ('later', 2),\n",
       " ('launch', 2),\n",
       " ('layer', 1),\n",
       " ('lays', 1),\n",
       " ('lazy', 1),\n",
       " ('leading', 1),\n",
       " ('leads', 1),\n",
       " ('learn', 1),\n",
       " ('learning', 15),\n",
       " ('least', 1),\n",
       " ('legacy', 1),\n",
       " ('let', 1),\n",
       " ('level', 1),\n",
       " ('libraries', 2),\n",
       " ('like', 4),\n",
       " ('likely', 2),\n",
       " ('limitations', 1),\n",
       " ('line', 1),\n",
       " ('lineage', 1),\n",
       " ('linear', 1),\n",
       " ('lines', 3),\n",
       " ('live', 1),\n",
       " ('local', 2),\n",
       " ('loop', 1),\n",
       " ('loss', 1),\n",
       " ('lot', 1),\n",
       " ('low', 1),\n",
       " ('lowerlevel', 1),\n",
       " ('lowlatency', 2),\n",
       " ('lustre', 1),\n",
       " ('machine', 12),\n",
       " ('machinelearning', 1),\n",
       " ('machines', 1),\n",
       " ('magnitude', 1),\n",
       " ('mahout', 2),\n",
       " ('main', 1),\n",
       " ('maintained', 2),\n",
       " ('maintaining', 1),\n",
       " ('major', 1),\n",
       " ('makes', 3),\n",
       " ('managed', 2),\n",
       " ('management', 2),\n",
       " ('manager', 2),\n",
       " ('manipulate', 1),\n",
       " ('manipulated', 1),\n",
       " ('manner', 2),\n",
       " ('manually', 1),\n",
       " ('many', 3),\n",
       " ('map', 6),\n",
       " ('mapping', 1),\n",
       " ('mapr', 1),\n",
       " ('mapreduce', 10),\n",
       " ('mapreduce29', 1),\n",
       " ('mapreducestyle', 1),\n",
       " ('maprfs13', 1),\n",
       " ('marshalling', 1),\n",
       " ('massive', 1),\n",
       " ('massively', 1),\n",
       " ('match', 1),\n",
       " ('may', 2),\n",
       " ('mean', 1),\n",
       " ('means', 1),\n",
       " ('mediate', 1),\n",
       " ('memory', 1),\n",
       " ('memory8', 1),\n",
       " ('memorybased', 1),\n",
       " ('mesos', 2),\n",
       " ('messages', 1),\n",
       " ('method', 3),\n",
       " ('microbatches', 2),\n",
       " ('microbatching', 2),\n",
       " ('microsoft', 2),\n",
       " ('minibatch', 1),\n",
       " ('minibatches', 3),\n",
       " ('mirrors', 1),\n",
       " ('misnomer', 1),\n",
       " ('mllib', 9),\n",
       " ('mode', 3),\n",
       " ('model', 1),\n",
       " ('modeling', 2),\n",
       " ('models', 4),\n",
       " ('mongodb', 2),\n",
       " ('mostly', 1),\n",
       " ('ms', 1),\n",
       " ('much', 5),\n",
       " ('multiple', 4),\n",
       " ('multiset', 1),\n",
       " ('multistage', 1),\n",
       " ('name', 1),\n",
       " ('native', 2),\n",
       " ('neanderthal', 1),\n",
       " ('near', 1),\n",
       " ('necessary', 1),\n",
       " ('need', 2),\n",
       " ('needs', 3),\n",
       " ('net', 1),\n",
       " ('net16', 2),\n",
       " ('networks', 1),\n",
       " ('neural', 1),\n",
       " ('new', 5),\n",
       " ('nine', 1),\n",
       " ('nodes', 4),\n",
       " ('nonjvm', 1),\n",
       " ('normally', 1),\n",
       " ('nosql', 1),\n",
       " ('note', 1),\n",
       " ('notebook', 1),\n",
       " ('objects', 2),\n",
       " ('obviously', 1),\n",
       " ('occurring', 1),\n",
       " ('odbcjdbc', 1),\n",
       " ('offers', 3),\n",
       " ('old', 1),\n",
       " ('one', 4),\n",
       " ('ones', 2),\n",
       " ('onpremises', 1),\n",
       " ('opensource', 1),\n",
       " ('openstack', 1),\n",
       " ('operation', 1),\n",
       " ('operational', 1),\n",
       " ('operations', 7),\n",
       " ('operator', 1),\n",
       " ('optimized', 1),\n",
       " ('optimizer', 2),\n",
       " ('orc', 1),\n",
       " ('orders', 1),\n",
       " ('originally', 3),\n",
       " ('other', 2),\n",
       " ('others', 1),\n",
       " ('out', 1),\n",
       " ('overall', 1),\n",
       " ('overhead', 1),\n",
       " ('overtaking', 1),\n",
       " ('package', 2),\n",
       " ('packages', 1),\n",
       " ('pagerank', 2),\n",
       " ('pain', 1),\n",
       " ('pair', 1),\n",
       " ('pandas', 1),\n",
       " ('paradigm', 2),\n",
       " ('parallel', 5),\n",
       " ('parallelism', 1),\n",
       " ('parquet', 1),\n",
       " ('part', 3),\n",
       " ('particular', 1),\n",
       " ('particularly', 1),\n",
       " ('passing', 1),\n",
       " ('penalty', 1),\n",
       " ('per', 1),\n",
       " ('perform', 4),\n",
       " ('performance', 2),\n",
       " ('performs', 2),\n",
       " ('perspective', 1),\n",
       " ('pipeline', 2),\n",
       " ('pipelines', 6),\n",
       " ('platform', 2),\n",
       " ('pointing', 1),\n",
       " ('points', 1),\n",
       " ('popular', 1),\n",
       " ('porting', 1),\n",
       " ('possible', 1),\n",
       " ('power', 2),\n",
       " ('predecessor', 1),\n",
       " ('pregel', 1),\n",
       " ('previously', 1),\n",
       " ('primary', 1),\n",
       " ('prints', 1),\n",
       " ('process', 4),\n",
       " ('processes', 1),\n",
       " ('processing', 19),\n",
       " ('produce', 1),\n",
       " ('produced', 1),\n",
       " ('production', 1),\n",
       " ('program', 3),\n",
       " ('programming', 9),\n",
       " ('programs', 3),\n",
       " ('project', 5),\n",
       " ('prominence', 1),\n",
       " ('properties', 1),\n",
       " ('property', 1),\n",
       " ('provided', 2),\n",
       " ('provides', 10),\n",
       " ('providing', 1),\n",
       " ('pseudodistributed', 1),\n",
       " ('pulling', 1),\n",
       " ('pure', 1),\n",
       " ('purposes', 1),\n",
       " ('python', 8),\n",
       " ('qualities', 1),\n",
       " ('queries', 4),\n",
       " ('query', 1),\n",
       " ('querying', 2),\n",
       " ('quickly', 1),\n",
       " ('r', 4),\n",
       " ('random', 1),\n",
       " ('rather', 2),\n",
       " ('rdd', 15),\n",
       " ('rddcentric', 1),\n",
       " ('rddoriented', 1),\n",
       " ('rdds', 10),\n",
       " ('read', 1),\n",
       " ('reading', 1),\n",
       " ('readonly', 2),\n",
       " ('ready', 1),\n",
       " ('real', 1),\n",
       " ('realtime', 3),\n",
       " ('recommend', 1),\n",
       " ('recommends', 1),\n",
       " ('reconstructed', 1),\n",
       " ('reduce', 3),\n",
       " ('reducebykey', 1),\n",
       " ('reduced', 2),\n",
       " ('reducing', 2),\n",
       " ('reduction', 1),\n",
       " ('reductions', 1),\n",
       " ('reference', 1),\n",
       " ('registered', 1),\n",
       " ('regression', 1),\n",
       " ('relatively', 1),\n",
       " ('released', 1),\n",
       " ('relied', 1),\n",
       " ('repeated', 1),\n",
       " ('report', 1),\n",
       " ('represents', 1),\n",
       " ('require', 2),\n",
       " ('required', 4),\n",
       " ('requirements', 1),\n",
       " ('requires', 2),\n",
       " ('requiring', 1),\n",
       " ('research', 1),\n",
       " ('resilient', 2),\n",
       " ('resource', 1),\n",
       " ('resources', 1),\n",
       " ('response', 2),\n",
       " ('responses', 1),\n",
       " ('restricted', 3),\n",
       " ('results', 2),\n",
       " ('review', 1),\n",
       " ('roadmap', 1),\n",
       " ('robust', 1),\n",
       " ('run', 7),\n",
       " ('running', 3),\n",
       " ('runs', 1),\n",
       " ('s3', 2),\n",
       " ('sampling', 1),\n",
       " ('saved', 1),\n",
       " ('scala', 6),\n",
       " ('scalabased', 1),\n",
       " ('scalable', 1),\n",
       " ('scale', 2),\n",
       " ('scaled', 1),\n",
       " ('scales', 1),\n",
       " ('scenario', 1),\n",
       " ('scenarios', 1),\n",
       " ('schedules', 1),\n",
       " ('scheduling', 3),\n",
       " ('scheme', 1),\n",
       " ('science', 1),\n",
       " ('scientist', 1),\n",
       " ('scientists', 1),\n",
       " ('scripts', 1),\n",
       " ('second', 1),\n",
       " ('see', 1),\n",
       " ('seek', 1),\n",
       " ('selecting', 1),\n",
       " ('selection', 1),\n",
       " ('selections', 1),\n",
       " ('semistructured', 1),\n",
       " ('sense', 1),\n",
       " ('separate', 4),\n",
       " ('sequence', 2),\n",
       " ('series', 1),\n",
       " ('server', 1),\n",
       " ('service', 1),\n",
       " ('set', 5),\n",
       " ('sets', 2),\n",
       " ('several', 1),\n",
       " ('share', 1),\n",
       " ('shared', 2),\n",
       " ('shark', 1),\n",
       " ('shipped', 1),\n",
       " ('shoulders', 1),\n",
       " ('shown', 1),\n",
       " ('simple', 6),\n",
       " ('simplifies', 1),\n",
       " ('simply', 1),\n",
       " ('since', 1),\n",
       " ('single', 3),\n",
       " ('situations', 1),\n",
       " ('sockets22', 1),\n",
       " ('software', 2),\n",
       " ('solution', 2),\n",
       " ('solves', 1),\n",
       " ('some', 1),\n",
       " ('something', 1),\n",
       " ('spark', 110),\n",
       " ('spark10', 1),\n",
       " ('speed', 1),\n",
       " ('speedup', 1),\n",
       " ('split', 2),\n",
       " ('splits', 1),\n",
       " ('sql', 17),\n",
       " ('sql2003compliant', 1),\n",
       " ('squares', 1),\n",
       " ('stages', 2),\n",
       " ('standalone', 2),\n",
       " ('standard', 3),\n",
       " ('started', 1),\n",
       " ('state', 1),\n",
       " ('statements', 1),\n",
       " ('statistical', 1),\n",
       " ('still', 2),\n",
       " ('storage', 3),\n",
       " ('store', 1),\n",
       " ('stores', 3),\n",
       " ('storm', 3),\n",
       " ('stream', 2),\n",
       " ('streaming', 36),\n",
       " ('streaming23', 1),\n",
       " ('streamingcapable', 1),\n",
       " ('streams', 1),\n",
       " ('strongly', 1),\n",
       " ('structure', 3),\n",
       " ('structured', 13),\n",
       " ('structures', 1),\n",
       " ('struggled', 1),\n",
       " ('style', 1),\n",
       " ('style2', 1),\n",
       " ('suggests', 1),\n",
       " ('support', 8),\n",
       " ('supported', 3),\n",
       " ('supports', 5),\n",
       " ('swapped', 1),\n",
       " ('swarm', 1),\n",
       " ('swift', 1),\n",
       " ('sync', 1),\n",
       " ('system', 5),\n",
       " ('system15', 1),\n",
       " ('systems', 1),\n",
       " ('take', 3),\n",
       " ('takes', 2),\n",
       " ('taking', 1),\n",
       " ('tandem', 1),\n",
       " ('task', 1),\n",
       " ('tasks', 8),\n",
       " ('tcpip', 1),\n",
       " ('team', 1),\n",
       " ('tech', 1),\n",
       " ('techniques', 1),\n",
       " ('technology', 2),\n",
       " ('telecommunications', 1),\n",
       " ('tend', 1),\n",
       " ('tensorflow', 1),\n",
       " ('terms', 1),\n",
       " ('testing', 2),\n",
       " ('text', 2),\n",
       " ('the', 9),\n",
       " ('these', 5),\n",
       " ('things', 1),\n",
       " ('this', 3),\n",
       " ('though', 1),\n",
       " ('thus', 3),\n",
       " ('times', 4),\n",
       " ('today', 1),\n",
       " ('tolerance', 1),\n",
       " ('tools', 1),\n",
       " ('top', 5),\n",
       " ('track', 1),\n",
       " ('traction', 1),\n",
       " ('traditional', 2),\n",
       " ('trained', 1),\n",
       " ('training', 2),\n",
       " ('transactional', 1),\n",
       " ('transform', 1),\n",
       " ('transformations', 2),\n",
       " ('tutorials', 1),\n",
       " ('twitter', 1),\n",
       " ('two', 6),\n",
       " ('twostage', 1),\n",
       " ('type', 1),\n",
       " ('typechecking', 1),\n",
       " ('typed', 1),\n",
       " ('typical', 1),\n",
       " ('uc', 2),\n",
       " ('udfs', 1),\n",
       " ('underlies', 1),\n",
       " ('unified', 2),\n",
       " ('university', 1),\n",
       " ('unlike', 1),\n",
       " ('unsuitable', 1),\n",
       " ('updated', 1),\n",
       " ('usable', 1),\n",
       " ('use', 9),\n",
       " ('used', 8),\n",
       " ('user', 1),\n",
       " ('userdefined', 1),\n",
       " ('users', 3),\n",
       " ('uses', 1),\n",
       " ('using', 5),\n",
       " ('usually', 1),\n",
       " ('utilized', 1),\n",
       " ('variables', 2),\n",
       " ('variant', 1),\n",
       " ('variety', 2),\n",
       " ('version', 1),\n",
       " ('vertices28', 1),\n",
       " ('via', 1),\n",
       " ('viewed', 1),\n",
       " ('visit', 1),\n",
       " ('vowpal', 1),\n",
       " ('vs', 2),\n",
       " ('wabbit24', 1),\n",
       " ('want', 1),\n",
       " ('way', 1),\n",
       " ('way2', 1),\n",
       " ('ways', 1),\n",
       " ('we', 1),\n",
       " ('webbased', 1),\n",
       " ('well', 4),\n",
       " ('whereas', 1),\n",
       " ('while', 1),\n",
       " ('why', 1),\n",
       " ('wide', 1),\n",
       " ('wins', 1),\n",
       " ('within', 1),\n",
       " ('words', 2),\n",
       " ('work', 2),\n",
       " ('worker', 1),\n",
       " ('workers', 1),\n",
       " ('working', 1),\n",
       " ('works', 2),\n",
       " ('world', 3),\n",
       " ('worlds', 1),\n",
       " ('worth', 1),\n",
       " ('would', 1),\n",
       " ('write', 1),\n",
       " ('writing', 5),\n",
       " ('written', 2),\n",
       " ('yarn', 2),\n",
       " ('you', 3),\n",
       " ('zeromq', 1)]"
      ]
     },
     "execution_count": 53,
     "metadata": {},
     "output_type": "execute_result"
    }
   ],
   "source": [
    "text_rdd.groupByKey().mapValues(len).sortByKey().collect()"
   ]
  },
  {
   "cell_type": "markdown",
   "metadata": {
    "id": "XfqBo3xRlYbA"
   },
   "source": [
    "И так на самом деле много методов, но предалагаю написать подсчет частоты слов и сделаем это в стиле программ на java"
   ]
  },
  {
   "cell_type": "code",
   "execution_count": 54,
   "metadata": {
    "id": "SpcSn6-hllUm"
   },
   "outputs": [],
   "source": [
    "text_rdd = sc.textFile('spark_text.txt')"
   ]
  },
  {
   "cell_type": "code",
   "execution_count": 55,
   "metadata": {
    "id": "PNKk3doilxe3"
   },
   "outputs": [],
   "source": [
    "result = text_rdd.filter(lambda x: x != '')\\\n",
    "                 .flatMap(mapper_text)\\\n",
    "                 .groupByKey()\\\n",
    "                 .mapValues(len)\\\n",
    "                 .sortBy(lambda x: x[1], ascending=False)\\\n",
    "                 .collect()"
   ]
  },
  {
   "cell_type": "code",
   "execution_count": 56,
   "metadata": {
    "colab": {
     "base_uri": "https://localhost:8080/"
    },
    "id": "j1tJ2dCcmh8z",
    "outputId": "099d0bbf-5fd1-40f0-de4e-bf9f8614ad82"
   },
   "outputs": [
    {
     "data": {
      "text/plain": [
       "[('spark', 110),\n",
       " ('apache', 56),\n",
       " ('data', 44),\n",
       " ('streaming', 36),\n",
       " ('distributed', 23),\n",
       " ('processing', 19),\n",
       " ('sql', 17),\n",
       " ('rdd', 15),\n",
       " ('learning', 15),\n",
       " ('also', 15)]"
      ]
     },
     "execution_count": 56,
     "metadata": {},
     "output_type": "execute_result"
    }
   ],
   "source": [
    "result[:10]"
   ]
  },
  {
   "cell_type": "markdown",
   "metadata": {},
   "source": [
    "### reduceByKey"
   ]
  },
  {
   "cell_type": "markdown",
   "metadata": {
    "id": "MDSTE1oloeOq"
   },
   "source": [
    "Забыли про reduceByKey"
   ]
  },
  {
   "cell_type": "code",
   "execution_count": 57,
   "metadata": {
    "colab": {
     "base_uri": "https://localhost:8080/"
    },
    "id": "gpv46Uxiobm8",
    "outputId": "286c1821-bfcf-4c39-c0cc-22005e6c8685"
   },
   "outputs": [
    {
     "data": {
      "text/plain": [
       "[('spark', 110),\n",
       " ('apache', 56),\n",
       " ('data', 44),\n",
       " ('streaming', 36),\n",
       " ('distributed', 23),\n",
       " ('processing', 19),\n",
       " ('sql', 17),\n",
       " ('rdd', 15),\n",
       " ('learning', 15),\n",
       " ('also', 15)]"
      ]
     },
     "execution_count": 57,
     "metadata": {},
     "output_type": "execute_result"
    }
   ],
   "source": [
    "text_rdd.filter(lambda x: x != '')\\\n",
    "        .flatMap(mapper_text)\\\n",
    "        .reduceByKey(lambda x, y: x + y)\\\n",
    "        .sortBy(lambda x: x[1], ascending=False)\\\n",
    "        .collect()[:10]"
   ]
  },
  {
   "cell_type": "markdown",
   "metadata": {
    "id": "-PxSwc7QrVk7"
   },
   "source": [
    "Стоит заметить, что `groupByKey()` предполагает перемещение всех записей с одним ключом на один экзекьютор. В случае очень скошенных распределений это может привести к падению экзекьютора с OOM. Поэтому всегда при группировках стоит подумать об использовании `reduceByKey()`."
   ]
  },
  {
   "cell_type": "markdown",
   "metadata": {
    "id": "hlu6iY8qGYlw"
   },
   "source": [
    "Так, на лекции было что-то про count, который не делает shuffle да и вообще можно проще написать?"
   ]
  },
  {
   "cell_type": "code",
   "execution_count": 58,
   "metadata": {
    "id": "L-esll2IFI3M"
   },
   "outputs": [],
   "source": [
    "def mapper_text_simple(text):\n",
    "    clean_text = re.sub(rf\"[{string.punctuation}]\", \"\", text)\n",
    "    words = nltk.word_tokenize(clean_text)\n",
    "    words = [word.lower() for word in words \n",
    "                        if word not in stop_words]\n",
    "    return words"
   ]
  },
  {
   "cell_type": "code",
   "execution_count": 59,
   "metadata": {
    "colab": {
     "base_uri": "https://localhost:8080/"
    },
    "id": "9gs_zfIJsT3f",
    "outputId": "bf26c370-d09c-4179-85c7-e3ac7aa9401c"
   },
   "outputs": [
    {
     "name": "stdout",
     "output_type": "stream",
     "text": [
      "[('spark', 110), ('apache', 56), ('data', 44), ('streaming', 36), ('distributed', 23), ('processing', 19), ('sql', 17), ('rdd', 15), ('learning', 15), ('also', 15)]\n"
     ]
    }
   ],
   "source": [
    "result = text_rdd.filter(lambda x: x != '')\\\n",
    "                 .flatMap(mapper_text_simple)\\\n",
    "                 .countByValue()\n",
    "result = sorted(result.items(), key=lambda x: x[1], reverse=True)\n",
    "print(result[:10])"
   ]
  },
  {
   "cell_type": "markdown",
   "metadata": {
    "id": "P7FoUF1mqImQ"
   },
   "source": [
    "Замеры"
   ]
  },
  {
   "cell_type": "code",
   "execution_count": 60,
   "metadata": {
    "colab": {
     "base_uri": "https://localhost:8080/"
    },
    "id": "iBdtooISqQ8U",
    "outputId": "7f9bd4a7-f418-49f8-e304-dee864ba1595"
   },
   "outputs": [
    {
     "name": "stdout",
     "output_type": "stream",
     "text": [
      "9.08 s ± 13.8 ms per loop (mean ± std. dev. of 7 runs, 1 loop each)\n"
     ]
    }
   ],
   "source": [
    "%%timeit\n",
    "\n",
    "text_rdd.filter(lambda x: x != '')\\\n",
    "        .flatMap(mapper_text)\\\n",
    "        .groupByKey()\\\n",
    "        .mapValues(len)\\\n",
    "        .sortBy(lambda x: x[1], ascending=False)\\\n",
    "        .collect()[:10]"
   ]
  },
  {
   "cell_type": "code",
   "execution_count": 61,
   "metadata": {
    "colab": {
     "base_uri": "https://localhost:8080/"
    },
    "id": "BdAdFM-rqHxX",
    "outputId": "dbfda922-02e8-4787-df73-c2a38a1af194"
   },
   "outputs": [
    {
     "name": "stdout",
     "output_type": "stream",
     "text": [
      "9.08 s ± 29.2 ms per loop (mean ± std. dev. of 7 runs, 1 loop each)\n"
     ]
    }
   ],
   "source": [
    "%%timeit\n",
    "\n",
    "text_rdd.filter(lambda x: x != '')\\\n",
    "        .flatMap(mapper_text)\\\n",
    "        .reduceByKey(lambda x, y: x + y)\\\n",
    "        .sortBy(lambda x: x[1], ascending=False)\\\n",
    "        .collect()[:10]"
   ]
  },
  {
   "cell_type": "code",
   "execution_count": 62,
   "metadata": {
    "colab": {
     "base_uri": "https://localhost:8080/"
    },
    "id": "xD4ne4tmqfAI",
    "outputId": "a47eb726-ecb3-483b-d535-f9219aa78d5e"
   },
   "outputs": [
    {
     "name": "stdout",
     "output_type": "stream",
     "text": [
      "2.07 s ± 10.9 ms per loop (mean ± std. dev. of 7 runs, 1 loop each)\n"
     ]
    }
   ],
   "source": [
    "%%timeit\n",
    "\n",
    "result = text_rdd.filter(lambda x: x != '')\\\n",
    "                 .flatMap(mapper_text_simple)\\\n",
    "                 .countByValue()\n",
    "result = sorted(result.items(), key=lambda x: x[1], reverse=True)[:10]"
   ]
  },
  {
   "cell_type": "markdown",
   "metadata": {
    "id": "iNLF_SEaG_Mr"
   },
   "source": [
    "## Joins"
   ]
  },
  {
   "cell_type": "markdown",
   "metadata": {
    "id": "At9Da6ZlHIcs"
   },
   "source": [
    "Тут просто на игрушечном примере пощупаем данную операцию"
   ]
  },
  {
   "cell_type": "code",
   "execution_count": 63,
   "metadata": {
    "id": "-HQ4wqICHPNK"
   },
   "outputs": [],
   "source": [
    "rdd_a = sc.parallelize([\n",
    "                        ('a', [1, 2]),\n",
    "                        ('b', [2, 4])])\n",
    "\n",
    "rdd_b = sc.parallelize([\n",
    "                        ('a', [10]),\n",
    "                        ('c', [11])])"
   ]
  },
  {
   "cell_type": "code",
   "execution_count": 64,
   "metadata": {
    "colab": {
     "base_uri": "https://localhost:8080/"
    },
    "id": "FOCGK6dVHqCG",
    "outputId": "d88ee2cc-9d44-44e9-b6dc-bd6b4f989989"
   },
   "outputs": [
    {
     "data": {
      "text/plain": [
       "[('a', ([1, 2], [10]))]"
      ]
     },
     "execution_count": 64,
     "metadata": {},
     "output_type": "execute_result"
    }
   ],
   "source": [
    "rdd_a.join(rdd_b).collect()"
   ]
  },
  {
   "cell_type": "code",
   "execution_count": 65,
   "metadata": {
    "colab": {
     "base_uri": "https://localhost:8080/"
    },
    "id": "EmnzobldH68k",
    "outputId": "d3ab4d79-e6f5-4923-e5b3-b78813e60a5f"
   },
   "outputs": [
    {
     "data": {
      "text/plain": [
       "[('a', ([1, 2], [10])), ('b', ([2, 4], None))]"
      ]
     },
     "execution_count": 65,
     "metadata": {},
     "output_type": "execute_result"
    }
   ],
   "source": [
    "rdd_a.leftOuterJoin(rdd_b).collect()"
   ]
  },
  {
   "cell_type": "code",
   "execution_count": 66,
   "metadata": {
    "colab": {
     "base_uri": "https://localhost:8080/"
    },
    "id": "nS-DcoMEH-Mq",
    "outputId": "e9ab17cc-5682-4986-a28c-eea0b207c776"
   },
   "outputs": [
    {
     "data": {
      "text/plain": [
       "[('c', (None, [11])), ('a', ([1, 2], [10])), ('b', ([2, 4], None))]"
      ]
     },
     "execution_count": 66,
     "metadata": {},
     "output_type": "execute_result"
    }
   ],
   "source": [
    "rdd_a.fullOuterJoin(rdd_b).collect()"
   ]
  },
  {
   "cell_type": "markdown",
   "metadata": {},
   "source": [
    "# Homework 1"
   ]
  },
  {
   "cell_type": "markdown",
   "metadata": {
    "id": "7_cvDn0sI6lS"
   },
   "source": [
    "Посчитать количество рейтингов больше 4 для каждого фильма и вывести фильмы в порядке убывания количества этих оценок (можно вывести топ 10)\n",
    "\n",
    "Файл можете взять из прошлого домашнего задания + сохраните результат на диск"
   ]
  },
  {
   "cell_type": "code",
   "execution_count": 67,
   "metadata": {},
   "outputs": [],
   "source": [
    "def read_ratings(path):\n",
    "    with open(path, 'rb') as f:\n",
    "        data = f.readlines()\n",
    "    headers = data[0].decode().split('\\t')[:3]\n",
    "    data = [row.decode().split('\\t')[:3] for row in data[1:]]\n",
    "    return headers, data\n",
    "\n",
    "def create_batches(data, batch_size):\n",
    "    batches = [data[i:i+batch_size] for i in range(0, len(data), batch_size)]\n",
    "    return batches\n",
    "\n",
    "def map_rating(rows, movie_idx=1, rating_idx=2):\n",
    "    rows_with_value = [\n",
    "        (row[movie_idx], 1)\n",
    "        for row in rows\n",
    "        if float(row[rating_idx]) >= 4\n",
    "    ]\n",
    "    return sorted(rows_with_value, key=lambda x:x[0])"
   ]
  },
  {
   "cell_type": "code",
   "execution_count": 68,
   "metadata": {},
   "outputs": [
    {
     "data": {
      "text/plain": [
       "[[['75', '3', '1'],\n",
       "  ['75', '32', '4.5'],\n",
       "  ['75', '110', '4'],\n",
       "  ['75', '160', '2'],\n",
       "  ['75', '163', '4'],\n",
       "  ['75', '165', '4.5'],\n",
       "  ['75', '173', '3.5'],\n",
       "  ['75', '296', '5']]]"
      ]
     },
     "execution_count": 68,
     "metadata": {},
     "output_type": "execute_result"
    }
   ],
   "source": [
    "headers, data = read_ratings('../lesson_1/user_ratedmovies.dat')\n",
    "\n",
    "BATCH_SIZE = 8\n",
    "ratings_rdd = sc.parallelize(create_batches(data, BATCH_SIZE))\n",
    "\n",
    "ratings_rdd.take(1)"
   ]
  },
  {
   "cell_type": "code",
   "execution_count": 69,
   "metadata": {},
   "outputs": [],
   "source": [
    "ratings_rdd = ratings_rdd.flatMap(map_rating)\\\n",
    "                         .reduceByKey(lambda x, y: x + y)\\\n",
    "                         .sortBy(lambda x: x[1], ascending=False)\\\n",
    "                         .persist()"
   ]
  },
  {
   "cell_type": "code",
   "execution_count": 70,
   "metadata": {},
   "outputs": [
    {
     "data": {
      "text/plain": [
       "[('2571', 1300),\n",
       " ('296', 1249),\n",
       " ('318', 1227),\n",
       " ('4993', 1168),\n",
       " ('2959', 1145),\n",
       " ('2858', 1099),\n",
       " ('5952', 1097),\n",
       " ('7153', 1085),\n",
       " ('593', 1061),\n",
       " ('356', 1054)]"
      ]
     },
     "execution_count": 70,
     "metadata": {},
     "output_type": "execute_result"
    }
   ],
   "source": [
    "ratings_rdd.collect()[:10]"
   ]
  },
  {
   "cell_type": "code",
   "execution_count": 71,
   "metadata": {},
   "outputs": [],
   "source": [
    "shutil.rmtree('./movie_ratings', ignore_errors=True)\n",
    "ratings_rdd.saveAsPickleFile(\"./movie_ratings\", batchSize=BATCH_SIZE)"
   ]
  },
  {
   "attachments": {},
   "cell_type": "markdown",
   "metadata": {},
   "source": [
    "# Homework 2"
   ]
  },
  {
   "cell_type": "markdown",
   "metadata": {
    "id": "3BpNsZDmJQm2"
   },
   "source": [
    "В этом задании у вас есть файл с обученным word2vec на произведении Достоевского Преступление и наказание. Файл - list, каждый элемент которого слово и его вектор в формате ('word', [vector]). Необходимо для каждого слова собрать список его top 10 похожих слов по косинусной метрике.\n",
    "\n",
    "Результат также сохраните на диск и выведите синонимы для слова 'топор' и 'деньга'.\n",
    "Файл в пикле, так что для считывания воспользуйтесь не spark, можете взять любимый pandas\n",
    "\n",
    "Файл не очень уж и маленький, рекомендую сначала написать код на кошках/собачках, а потом уже на всем, так как ядра 2, считаться будет очень долго.\n",
    "В качестве одного из вариантов можете рассмотреть метод cartesian"
   ]
  },
  {
   "cell_type": "code",
   "execution_count": 72,
   "metadata": {},
   "outputs": [],
   "source": [
    "def cosine_similarity(a, b):\n",
    "    return np.dot(a, b) / (np.linalg.norm(a) * np.linalg.norm(b))\n",
    "\n",
    "def cosine_similarity_mapper(pair):\n",
    "    return pair[0][0], (pair[1][0], cosine_similarity(pair[0][1], pair[1][1]))\n",
    "\n",
    "def top_words_mapper(group, n_top=10):\n",
    "    return sorted(group, key=lambda group: -group[1])[:n_top]"
   ]
  },
  {
   "cell_type": "code",
   "execution_count": 73,
   "metadata": {},
   "outputs": [],
   "source": [
    "data = pd.read_pickle('w2v_vectors.pickle')"
   ]
  },
  {
   "cell_type": "code",
   "execution_count": 74,
   "metadata": {},
   "outputs": [
    {
     "data": {
      "text/plain": [
       "4768"
      ]
     },
     "execution_count": 74,
     "metadata": {},
     "output_type": "execute_result"
    }
   ],
   "source": [
    "len(data)"
   ]
  },
  {
   "cell_type": "markdown",
   "metadata": {},
   "source": [
    "## Немножко слов"
   ]
  },
  {
   "cell_type": "code",
   "execution_count": 75,
   "metadata": {},
   "outputs": [],
   "source": [
    "words = sc.parallelize(data[:5])"
   ]
  },
  {
   "cell_type": "code",
   "execution_count": 76,
   "metadata": {},
   "outputs": [
    {
     "name": "stdout",
     "output_type": "stream",
     "text": [
      "CPU times: total: 31.2 ms\n",
      "Wall time: 1min 45s\n"
     ]
    },
    {
     "data": {
      "text/plain": [
       "[('всё',\n",
       "  [('всё', 0.99999994),\n",
       "   ('это', 0.8356289),\n",
       "   ('знать', 0.64060575),\n",
       "   ('раскольник', 0.29965016),\n",
       "   ('свой', 0.13343307)]),\n",
       " ('свой',\n",
       "  [('свой', 1.0),\n",
       "   ('это', 0.18249348),\n",
       "   ('знать', 0.17251503),\n",
       "   ('всё', 0.13343307),\n",
       "   ('раскольник', -0.036889892)]),\n",
       " ('знать',\n",
       "  [('знать', 0.99999994),\n",
       "   ('это', 0.7414977),\n",
       "   ('всё', 0.64060575),\n",
       "   ('раскольник', 0.17358038),\n",
       "   ('свой', 0.17251503)]),\n",
       " ('это',\n",
       "  [('это', 1.0),\n",
       "   ('всё', 0.8356289),\n",
       "   ('знать', 0.7414977),\n",
       "   ('раскольник', 0.42143586),\n",
       "   ('свой', 0.18249348)]),\n",
       " ('раскольник',\n",
       "  [('раскольник', 0.99999994),\n",
       "   ('это', 0.42143586),\n",
       "   ('всё', 0.29965016),\n",
       "   ('знать', 0.17358038),\n",
       "   ('свой', -0.036889892)])]"
      ]
     },
     "execution_count": 76,
     "metadata": {},
     "output_type": "execute_result"
    }
   ],
   "source": [
    "%%time\n",
    "words.cartesian(words)\\\n",
    "     .map(cosine_similarity_mapper)\\\n",
    "     .groupByKey()\\\n",
    "     .mapValues(top_words_mapper)\\\n",
    "     .collect()"
   ]
  },
  {
   "cell_type": "markdown",
   "metadata": {},
   "source": [
    "## Все слова"
   ]
  },
  {
   "cell_type": "code",
   "execution_count": 77,
   "metadata": {},
   "outputs": [],
   "source": [
    "words = sc.parallelize(data)"
   ]
  },
  {
   "cell_type": "code",
   "execution_count": 78,
   "metadata": {},
   "outputs": [
    {
     "name": "stdout",
     "output_type": "stream",
     "text": [
      "CPU times: total: 93.8 ms\n",
      "Wall time: 4min 4s\n"
     ]
    }
   ],
   "source": [
    "%%time\n",
    "shutil.rmtree('./simular_words', ignore_errors=True)\n",
    "words.cartesian(words)\\\n",
    "     .map(cosine_similarity_mapper)\\\n",
    "     .groupByKey()\\\n",
    "     .mapValues(top_words_mapper)\\\n",
    "     .saveAsPickleFile(\"./simular_words\", batchSize=BATCH_SIZE)"
   ]
  },
  {
   "cell_type": "markdown",
   "metadata": {},
   "source": [
    "## Синонимы для слов"
   ]
  },
  {
   "cell_type": "code",
   "execution_count": 79,
   "metadata": {},
   "outputs": [],
   "source": [
    "simular_words = sc.pickleFile('./simular_words')"
   ]
  },
  {
   "cell_type": "code",
   "execution_count": 80,
   "metadata": {},
   "outputs": [
    {
     "name": "stdout",
     "output_type": "stream",
     "text": [
      "CPU times: total: 0 ns\n",
      "Wall time: 52.7 s\n"
     ]
    },
    {
     "data": {
      "text/plain": [
       "[('деньга',\n",
       "  [('деньга', 1.0),\n",
       "   ('вещь', 0.9063148),\n",
       "   ('отдать', 0.8706483),\n",
       "   ('убить', 0.842027),\n",
       "   ('значит', 0.83862835),\n",
       "   ('известно', 0.8266707),\n",
       "   ('отец', 0.81461805),\n",
       "   ('получить', 0.8137906),\n",
       "   ('ограбить', 0.8044243),\n",
       "   ('копейка', 0.8012078)]),\n",
       " ('топор',\n",
       "  [('топор', 1.0),\n",
       "   ('левый', 0.92365247),\n",
       "   ('старуха', 0.922432),\n",
       "   ('колено', 0.920666),\n",
       "   ('побежать', 0.9120595),\n",
       "   ('ломать', 0.91023904),\n",
       "   ('бросить', 0.90634286),\n",
       "   ('схватить', 0.902411),\n",
       "   ('обнять', 0.89990807),\n",
       "   ('бить', 0.89854604)])]"
      ]
     },
     "execution_count": 80,
     "metadata": {},
     "output_type": "execute_result"
    }
   ],
   "source": [
    "%%time\n",
    "words_to_find = [\"топор\", \"деньга\"]\n",
    "simular_words.filter(lambda x: x[0] in words_to_find)\\\n",
    "             .collect()"
   ]
  },
  {
   "cell_type": "code",
   "execution_count": 81,
   "metadata": {},
   "outputs": [],
   "source": [
    "sc.stop()"
   ]
  },
  {
   "cell_type": "code",
   "execution_count": 82,
   "metadata": {},
   "outputs": [
    {
     "data": {
      "text/plain": [
       "{'status': 'ok', 'restart': True}"
      ]
     },
     "execution_count": 82,
     "metadata": {},
     "output_type": "execute_result"
    }
   ],
   "source": [
    "import IPython\n",
    "IPython.Application.instance().kernel.do_shutdown(True)"
   ]
  },
  {
   "cell_type": "code",
   "execution_count": null,
   "metadata": {},
   "outputs": [],
   "source": []
  }
 ],
 "metadata": {
  "colab": {
   "provenance": []
  },
  "kernelspec": {
   "display_name": "Python 3 (ipykernel)",
   "language": "python",
   "name": "python3"
  },
  "language_info": {
   "codemirror_mode": {
    "name": "ipython",
    "version": 3
   },
   "file_extension": ".py",
   "mimetype": "text/x-python",
   "name": "python",
   "nbconvert_exporter": "python",
   "pygments_lexer": "ipython3",
   "version": "3.11.8"
  }
 },
 "nbformat": 4,
 "nbformat_minor": 4
}
