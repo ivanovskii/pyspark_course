{
 "cells": [
  {
   "cell_type": "markdown",
   "metadata": {},
   "source": [
    "# Библиотеки"
   ]
  },
  {
   "cell_type": "code",
   "execution_count": 1,
   "metadata": {},
   "outputs": [],
   "source": [
    "import os\n",
    "import sys\n",
    "\n",
    "import gdown\n",
    "import findspark\n",
    "import numpy as np\n",
    "import pandas as pd\n",
    "\n",
    "from pathlib import Path"
   ]
  },
  {
   "cell_type": "markdown",
   "metadata": {},
   "source": [
    "# Скачивание транзакций"
   ]
  },
  {
   "cell_type": "code",
   "execution_count": 2,
   "metadata": {},
   "outputs": [
    {
     "name": "stderr",
     "output_type": "stream",
     "text": [
      "Downloading...\n",
      "From (original): https://drive.google.com/uc?id=14qjCQtMItkq1crn00TjVwDzuK6IPpoH_\n",
      "From (redirected): https://drive.google.com/uc?id=14qjCQtMItkq1crn00TjVwDzuK6IPpoH_&confirm=t&uuid=68825388-404d-4496-91b9-e6cf8b09a64a\n",
      "To: C:\\Users\\Admin\\Desktop\\pyspark\\lesson_3\\spark_transactions.parquet\n",
      "100%|███████████████████████████████████████████████████████████████████████████████| 177M/177M [01:04<00:00, 2.74MB/s]\n"
     ]
    }
   ],
   "source": [
    "trans_path = 'spark_transactions.parquet'\n",
    "\n",
    "if not Path(trans_path).exists():\n",
    "    gdown.download(id='14qjCQtMItkq1crn00TjVwDzuK6IPpoH_', output=trans_path)"
   ]
  },
  {
   "cell_type": "markdown",
   "metadata": {},
   "source": [
    "# PySpark контекст"
   ]
  },
  {
   "cell_type": "markdown",
   "metadata": {},
   "source": [
    "Как установить PySpark на Windows - [Полный гид](https://www.machinelearningplus.com/pyspark/install-pyspark-on-windows/)"
   ]
  },
  {
   "cell_type": "markdown",
   "metadata": {},
   "source": [
    "Добавим `PYSPARK_PYTHON` и `PYSPARK_DRIVER_PYTHON` в PATH. [Подробнее](https://stackoverflow.com/questions/48260412/environment-variables-pyspark-python-and-pyspark-driver-python):"
   ]
  },
  {
   "cell_type": "code",
   "execution_count": 3,
   "metadata": {},
   "outputs": [],
   "source": [
    "os.environ['PYSPARK_PYTHON'] = sys.executable\n",
    "os.environ['PYSPARK_DRIVER_PYTHON'] = sys.executable"
   ]
  },
  {
   "cell_type": "markdown",
   "metadata": {},
   "source": [
    "Скачаем бинарники `hadoop.dll` и `winutils.exe` последних версий с [гитхаба](https://github.com/kontext-tech/winutils). Оба файла поместим в папку, укажем путь до неё в переменной среды `HADOOP_HOME`. Помимо этого, файл `hadoop.dll` поместим в папку `C:\\Windows\\System32`. Подробнее [здесь](https://stackoverflow.com/questions/41851066/exception-in-thread-main-java-lang-unsatisfiedlinkerror-org-apache-hadoop-io)."
   ]
  },
  {
   "cell_type": "code",
   "execution_count": 4,
   "metadata": {},
   "outputs": [],
   "source": [
    "os.environ['HADOOP_HOME'] = 'C:\\\\hadoop'"
   ]
  },
  {
   "cell_type": "code",
   "execution_count": 5,
   "metadata": {
    "id": "mUBraSjDoaDp"
   },
   "outputs": [
    {
     "data": {
      "text/html": [
       "\n",
       "            <div>\n",
       "                <p><b>SparkSession - in-memory</b></p>\n",
       "                \n",
       "        <div>\n",
       "            <p><b>SparkContext</b></p>\n",
       "\n",
       "            <p><a href=\"http://DESKTOP-TS0U1T0:4050\">Spark UI</a></p>\n",
       "\n",
       "            <dl>\n",
       "              <dt>Version</dt>\n",
       "                <dd><code>v3.5.1</code></dd>\n",
       "              <dt>Master</dt>\n",
       "                <dd><code>local[*]</code></dd>\n",
       "              <dt>AppName</dt>\n",
       "                <dd><code>pyspark-shell</code></dd>\n",
       "            </dl>\n",
       "        </div>\n",
       "        \n",
       "            </div>\n",
       "        "
      ],
      "text/plain": [
       "<pyspark.sql.session.SparkSession at 0x1b155411290>"
      ]
     },
     "metadata": {},
     "output_type": "display_data"
    }
   ],
   "source": [
    "import pyspark\n",
    "from pyspark.sql import functions as F\n",
    "from pyspark.sql import SparkSession\n",
    "from pyspark import SparkContext, SparkConf\n",
    "\n",
    "conf = SparkConf().set('spark.ui.port', '4050')\\\n",
    "                  .set('spark.serializer', 'org.apache.spark.serializer.KryoSerializer')\\\n",
    "                  .set('spark.dynamicAllocation.enabled', 'true')\\\n",
    "                  .set('spark.shuffle.service.enabled', 'true') #трекер, чтобы возвращать ресурсы\n",
    "\n",
    "sc = SparkContext(conf=conf)\n",
    "spark = SparkSession.builder.master('local[*]').getOrCreate()\n",
    "display(spark)"
   ]
  },
  {
   "cell_type": "code",
   "execution_count": 6,
   "metadata": {},
   "outputs": [
    {
     "name": "stdout",
     "output_type": "stream",
     "text": [
      "JDK version: \n",
      "Python version: 3.11.8 (tags/v3.11.8:db85d51, Feb  6 2024, 22:03:32) [MSC v.1937 64 bit (AMD64)]\n",
      "Spark version: 3.5.1\n",
      "Hadoop version: 3.3.4\n"
     ]
    }
   ],
   "source": [
    "print(f\"JDK version: {os.popen('java --version').read()}\")\n",
    "print(f\"Python version: {sys.version}\")\n",
    "print(f\"Spark version: {pyspark.__version__}\")\n",
    "print(f\"Hadoop version: {sc._jvm.org.apache.hadoop.util.VersionInfo.getVersion()}\")"
   ]
  },
  {
   "cell_type": "markdown",
   "metadata": {},
   "source": [
    "# Занятие"
   ]
  },
  {
   "cell_type": "markdown",
   "metadata": {},
   "source": [
    "## Создание DataFrame"
   ]
  },
  {
   "cell_type": "markdown",
   "metadata": {
    "id": "DuQZiqE8pLBg"
   },
   "source": [
    "Из RDD"
   ]
  },
  {
   "cell_type": "code",
   "execution_count": 7,
   "metadata": {
    "id": "P0HRKDcbpeT1"
   },
   "outputs": [],
   "source": [
    "def cleaning(row):\n",
    "    row = row.split('\\t')[:3]\n",
    "    row = [float(val) for val in row]\n",
    "    return row"
   ]
  },
  {
   "cell_type": "code",
   "execution_count": 8,
   "metadata": {
    "id": "83oW4J6ioqwt"
   },
   "outputs": [],
   "source": [
    "ratings = sc.textFile('../lesson_1/user_ratedmovies.dat', 20)\n",
    "\n",
    "first_row = ratings.first()\n",
    "ratings = ratings.filter(lambda row: row != first_row)\\\n",
    "                 .map(cleaning)"
   ]
  },
  {
   "cell_type": "code",
   "execution_count": 9,
   "metadata": {
    "id": "fs-On6Warlgm"
   },
   "outputs": [],
   "source": [
    "columns = first_row.split('\\t')[:3]"
   ]
  },
  {
   "cell_type": "code",
   "execution_count": 10,
   "metadata": {
    "colab": {
     "base_uri": "https://localhost:8080/"
    },
    "id": "f3JWv9Cdr1y7",
    "outputId": "5463f2a9-b945-4ce7-a0a7-5650c0081b11"
   },
   "outputs": [
    {
     "data": {
      "text/plain": [
       "['userID', 'movieID', 'rating']"
      ]
     },
     "execution_count": 10,
     "metadata": {},
     "output_type": "execute_result"
    }
   ],
   "source": [
    "columns"
   ]
  },
  {
   "cell_type": "code",
   "execution_count": 11,
   "metadata": {
    "colab": {
     "base_uri": "https://localhost:8080/"
    },
    "id": "0HHFa4NOpl8U",
    "outputId": "9ecb83f7-486c-44db-b819-fcfb11ee61ba"
   },
   "outputs": [
    {
     "data": {
      "text/plain": [
       "[[75.0, 3.0, 1.0],\n",
       " [75.0, 32.0, 4.5],\n",
       " [75.0, 110.0, 4.0],\n",
       " [75.0, 160.0, 2.0],\n",
       " [75.0, 163.0, 4.0]]"
      ]
     },
     "execution_count": 11,
     "metadata": {},
     "output_type": "execute_result"
    }
   ],
   "source": [
    "ratings.take(5)"
   ]
  },
  {
   "cell_type": "code",
   "execution_count": 12,
   "metadata": {
    "id": "a6EbyjOzp2Rz"
   },
   "outputs": [],
   "source": [
    "df_rdd = spark.createDataFrame(ratings, columns)"
   ]
  },
  {
   "cell_type": "code",
   "execution_count": 13,
   "metadata": {
    "colab": {
     "base_uri": "https://localhost:8080/"
    },
    "id": "grAj61Pqqcot",
    "outputId": "73506e0d-7db6-4e11-8840-98281f9a0244"
   },
   "outputs": [
    {
     "data": {
      "text/plain": [
       "DataFrame[userID: double, movieID: double, rating: double]"
      ]
     },
     "execution_count": 13,
     "metadata": {},
     "output_type": "execute_result"
    }
   ],
   "source": [
    "df_rdd"
   ]
  },
  {
   "cell_type": "markdown",
   "metadata": {
    "id": "hGdP3oErrBn2"
   },
   "source": [
    "Можно еще вот так:"
   ]
  },
  {
   "cell_type": "code",
   "execution_count": 14,
   "metadata": {
    "id": "Pm2IjgCKrGQR"
   },
   "outputs": [],
   "source": [
    "df_rdd = ratings.toDF(columns)"
   ]
  },
  {
   "cell_type": "code",
   "execution_count": 15,
   "metadata": {
    "colab": {
     "base_uri": "https://localhost:8080/"
    },
    "id": "bNeXMPNQsLV1",
    "outputId": "6a9da5fc-aee0-46f6-8f60-120e56f1a68c"
   },
   "outputs": [
    {
     "data": {
      "text/plain": [
       "DataFrame[userID: double, movieID: double, rating: double]"
      ]
     },
     "execution_count": 15,
     "metadata": {},
     "output_type": "execute_result"
    }
   ],
   "source": [
    "df_rdd"
   ]
  },
  {
   "cell_type": "markdown",
   "metadata": {
    "id": "0cHlkz0Rsf2W"
   },
   "source": [
    "Так, а если не хочу вот эти приседания с RDD, а хочу сразу из файла?"
   ]
  },
  {
   "cell_type": "code",
   "execution_count": 16,
   "metadata": {
    "id": "VFkXM_vZu_1t"
   },
   "outputs": [],
   "source": [
    "df = spark.read\\\n",
    "          .format('csv')\\\n",
    "          .options(**{'sep': '\\t', 'header': 'true'})\\\n",
    "          .load('../lesson_1/user_ratedmovies.dat')"
   ]
  },
  {
   "cell_type": "code",
   "execution_count": 17,
   "metadata": {
    "colab": {
     "base_uri": "https://localhost:8080/"
    },
    "id": "AlZNFbmpvQKN",
    "outputId": "e3ce4050-7fa5-4c93-e7d5-88435140aa91"
   },
   "outputs": [
    {
     "data": {
      "text/plain": [
       "DataFrame[userID: string, movieID: string, rating: string, date_day: string, date_month: string, date_year: string, date_hour: string, date_minute: string, date_second: string]"
      ]
     },
     "execution_count": 17,
     "metadata": {},
     "output_type": "execute_result"
    }
   ],
   "source": [
    "df"
   ]
  },
  {
   "cell_type": "markdown",
   "metadata": {
    "id": "R2tEvxnrxka6"
   },
   "source": [
    "Все в string, так не пойдет, давайте автоматически определим тип данных"
   ]
  },
  {
   "cell_type": "code",
   "execution_count": 18,
   "metadata": {
    "id": "QTXHlh2msvaY"
   },
   "outputs": [],
   "source": [
    "df = spark.read\\\n",
    "          .format('csv')\\\n",
    "          .options(**{'sep': '\\t', 'header': 'true', 'inferSchema': 'true'})\\\n",
    "          .load('../lesson_1/user_ratedmovies.dat')"
   ]
  },
  {
   "cell_type": "code",
   "execution_count": 19,
   "metadata": {
    "colab": {
     "base_uri": "https://localhost:8080/"
    },
    "id": "84-8zIkJzgGC",
    "outputId": "c846221d-2dec-4a1d-8871-2acad9d41b4e"
   },
   "outputs": [
    {
     "data": {
      "text/plain": [
       "DataFrame[userID: int, movieID: int, rating: double, date_day: int, date_month: int, date_year: int, date_hour: int, date_minute: int, date_second: int]"
      ]
     },
     "execution_count": 19,
     "metadata": {},
     "output_type": "execute_result"
    }
   ],
   "source": [
    "df"
   ]
  },
  {
   "cell_type": "code",
   "execution_count": 20,
   "metadata": {
    "colab": {
     "base_uri": "https://localhost:8080/"
    },
    "id": "rJcH3xqwz5JC",
    "outputId": "097ddd79-d895-4900-9b8f-b0cc15e43fcc"
   },
   "outputs": [
    {
     "name": "stdout",
     "output_type": "stream",
     "text": [
      "+------+-------+------+--------+----------+---------+---------+-----------+-----------+\n",
      "|userID|movieID|rating|date_day|date_month|date_year|date_hour|date_minute|date_second|\n",
      "+------+-------+------+--------+----------+---------+---------+-----------+-----------+\n",
      "|    75|      3|   1.0|      29|        10|     2006|       23|         17|         16|\n",
      "|    75|     32|   4.5|      29|        10|     2006|       23|         23|         44|\n",
      "|    75|    110|   4.0|      29|        10|     2006|       23|         30|          8|\n",
      "|    75|    160|   2.0|      29|        10|     2006|       23|         16|         52|\n",
      "|    75|    163|   4.0|      29|        10|     2006|       23|         29|         30|\n",
      "|    75|    165|   4.5|      29|        10|     2006|       23|         25|         15|\n",
      "|    75|    173|   3.5|      29|        10|     2006|       23|         17|         37|\n",
      "|    75|    296|   5.0|      29|        10|     2006|       23|         24|         49|\n",
      "|    75|    353|   3.5|      29|        10|     2006|       23|         17|          0|\n",
      "|    75|    420|   2.0|      29|        10|     2006|       23|         16|         42|\n",
      "+------+-------+------+--------+----------+---------+---------+-----------+-----------+\n",
      "only showing top 10 rows\n",
      "\n"
     ]
    }
   ],
   "source": [
    "df.show(10)"
   ]
  },
  {
   "cell_type": "markdown",
   "metadata": {
    "id": "65EYIo0O1v2s"
   },
   "source": [
    "А можно заранее сказать, какой тип данных я ожидаю?"
   ]
  },
  {
   "cell_type": "code",
   "execution_count": 21,
   "metadata": {
    "id": "LBTjPC1-102G"
   },
   "outputs": [],
   "source": [
    "from pyspark.sql.types import StructType, StructField, StringType, IntegerType, DoubleType"
   ]
  },
  {
   "cell_type": "code",
   "execution_count": 22,
   "metadata": {
    "id": "axRDyclD3YZX"
   },
   "outputs": [],
   "source": [
    "schema = StructType([ \\\n",
    "    StructField('userID',IntegerType(), True), \\\n",
    "    StructField('movieID',IntegerType(), True), \\\n",
    "    StructField('rating',DoubleType(), True), \\\n",
    "    StructField('date_day', StringType(), True), \\\n",
    "    StructField('date_month', StringType(), True), \\\n",
    "    StructField('date_year', IntegerType(), True), \\\n",
    "    StructField('date_hour', IntegerType(), True), \\\n",
    "    StructField('date_minute', IntegerType(), True), \\\n",
    "    StructField('date_second', IntegerType(), True)\n",
    "  ])"
   ]
  },
  {
   "cell_type": "code",
   "execution_count": 23,
   "metadata": {
    "id": "Y16zNsdF4GdA"
   },
   "outputs": [],
   "source": [
    "df = spark.read\\\n",
    "          .format('csv')\\\n",
    "          .options(**{'sep': '\\t', 'header': 'true'})\\\n",
    "          .schema(schema)\\\n",
    "          .load('../lesson_1/user_ratedmovies.dat')"
   ]
  },
  {
   "cell_type": "code",
   "execution_count": 24,
   "metadata": {
    "colab": {
     "base_uri": "https://localhost:8080/"
    },
    "id": "zyZqtXpN4Teq",
    "outputId": "ac0af62a-62d6-47b9-ff37-abe101f76f0c"
   },
   "outputs": [
    {
     "name": "stdout",
     "output_type": "stream",
     "text": [
      "root\n",
      " |-- userID: integer (nullable = true)\n",
      " |-- movieID: integer (nullable = true)\n",
      " |-- rating: double (nullable = true)\n",
      " |-- date_day: string (nullable = true)\n",
      " |-- date_month: string (nullable = true)\n",
      " |-- date_year: integer (nullable = true)\n",
      " |-- date_hour: integer (nullable = true)\n",
      " |-- date_minute: integer (nullable = true)\n",
      " |-- date_second: integer (nullable = true)\n",
      "\n"
     ]
    }
   ],
   "source": [
    "df.printSchema()"
   ]
  },
  {
   "cell_type": "code",
   "execution_count": 25,
   "metadata": {
    "colab": {
     "base_uri": "https://localhost:8080/"
    },
    "id": "E7hegloJ4W0j",
    "outputId": "9584de88-852d-4d56-c775-5db1d73d6b3d"
   },
   "outputs": [
    {
     "name": "stdout",
     "output_type": "stream",
     "text": [
      "+------+-------+------+--------+----------+---------+---------+-----------+-----------+\n",
      "|userID|movieID|rating|date_day|date_month|date_year|date_hour|date_minute|date_second|\n",
      "+------+-------+------+--------+----------+---------+---------+-----------+-----------+\n",
      "|    75|      3|   1.0|      29|        10|     2006|       23|         17|         16|\n",
      "|    75|     32|   4.5|      29|        10|     2006|       23|         23|         44|\n",
      "|    75|    110|   4.0|      29|        10|     2006|       23|         30|          8|\n",
      "|    75|    160|   2.0|      29|        10|     2006|       23|         16|         52|\n",
      "|    75|    163|   4.0|      29|        10|     2006|       23|         29|         30|\n",
      "|    75|    165|   4.5|      29|        10|     2006|       23|         25|         15|\n",
      "|    75|    173|   3.5|      29|        10|     2006|       23|         17|         37|\n",
      "|    75|    296|   5.0|      29|        10|     2006|       23|         24|         49|\n",
      "|    75|    353|   3.5|      29|        10|     2006|       23|         17|          0|\n",
      "|    75|    420|   2.0|      29|        10|     2006|       23|         16|         42|\n",
      "+------+-------+------+--------+----------+---------+---------+-----------+-----------+\n",
      "only showing top 10 rows\n",
      "\n"
     ]
    }
   ],
   "source": [
    "df.show(10)"
   ]
  },
  {
   "cell_type": "markdown",
   "metadata": {
    "id": "mdxJ2Mts42yh"
   },
   "source": [
    "Но есть уже готовая обертка под все нужды"
   ]
  },
  {
   "cell_type": "code",
   "execution_count": 26,
   "metadata": {
    "id": "0Z3BQYgq46H2"
   },
   "outputs": [],
   "source": [
    "df = spark.read.csv(path='../lesson_1/user_ratedmovies.dat', sep='\\t', header=True, inferSchema=True, schema=None)"
   ]
  },
  {
   "cell_type": "code",
   "execution_count": 27,
   "metadata": {
    "colab": {
     "base_uri": "https://localhost:8080/"
    },
    "id": "L_QGJgItBcr5",
    "outputId": "15336e54-32eb-4570-f6e3-cbdd5bc462b3"
   },
   "outputs": [
    {
     "name": "stdout",
     "output_type": "stream",
     "text": [
      "root\n",
      " |-- userID: integer (nullable = true)\n",
      " |-- movieID: integer (nullable = true)\n",
      " |-- rating: double (nullable = true)\n",
      " |-- date_day: integer (nullable = true)\n",
      " |-- date_month: integer (nullable = true)\n",
      " |-- date_year: integer (nullable = true)\n",
      " |-- date_hour: integer (nullable = true)\n",
      " |-- date_minute: integer (nullable = true)\n",
      " |-- date_second: integer (nullable = true)\n",
      "\n"
     ]
    }
   ],
   "source": [
    "df.printSchema()"
   ]
  },
  {
   "cell_type": "markdown",
   "metadata": {},
   "source": [
    "## Сохрание DataFrame"
   ]
  },
  {
   "cell_type": "markdown",
   "metadata": {
    "id": "-AikPkbuN44v"
   },
   "source": [
    "Так, а как сохранить? Лучше быть аккуратнее с `overwrite`, перезапишет весь указанный путь, `append` будет безопаснее"
   ]
  },
  {
   "cell_type": "code",
   "execution_count": 28,
   "metadata": {
    "id": "SvoejV_lN7Wx"
   },
   "outputs": [],
   "source": [
    "df.write.option('header', False)\\\n",
    "        .mode('overwrite')\\\n",
    "        .parquet('write_1.parquet')"
   ]
  },
  {
   "cell_type": "markdown",
   "metadata": {
    "id": "J9FAZTtsOU_D"
   },
   "source": [
    "А что с партицированием?"
   ]
  },
  {
   "cell_type": "code",
   "execution_count": 29,
   "metadata": {
    "id": "q5DXXgA5OUJL"
   },
   "outputs": [],
   "source": [
    "df.write.option('header', True)\\\n",
    "        .partitionBy('date_year')\\\n",
    "        .mode('overwrite')\\\n",
    "        .parquet('write_2.parquet')"
   ]
  },
  {
   "cell_type": "markdown",
   "metadata": {},
   "source": [
    "## Схемы данных"
   ]
  },
  {
   "cell_type": "markdown",
   "metadata": {
    "id": "nVWgHcej7BW8"
   },
   "source": [
    "Кстати, раз уж заговорили про схемы данных, то их можно задавать интереснее, например, под группированные данные"
   ]
  },
  {
   "cell_type": "code",
   "execution_count": 30,
   "metadata": {
    "colab": {
     "base_uri": "https://localhost:8080/"
    },
    "id": "CGlOCL_f7K6S",
    "outputId": "88b3fb4f-8e08-4c53-d192-74f708e073c6"
   },
   "outputs": [
    {
     "name": "stdout",
     "output_type": "stream",
     "text": [
      "root\n",
      " |-- name: struct (nullable = true)\n",
      " |    |-- firstname: string (nullable = true)\n",
      " |    |-- middlename: string (nullable = true)\n",
      " |    |-- lastname: string (nullable = true)\n",
      " |-- id: string (nullable = true)\n",
      " |-- gender: string (nullable = true)\n",
      " |-- salary: integer (nullable = true)\n",
      "\n",
      "+--------------------+-----+------+------+\n",
      "|name                |id   |gender|salary|\n",
      "+--------------------+-----+------+------+\n",
      "|{James, , Smith}    |36636|M     |3100  |\n",
      "|{Michael, Rose, }   |40288|M     |4300  |\n",
      "|{Robert, , Williams}|42114|M     |1400  |\n",
      "|{Maria, Anne, Jones}|39192|F     |5500  |\n",
      "|{Jen, Mary, Brown}  |     |F     |-1    |\n",
      "+--------------------+-----+------+------+\n",
      "\n"
     ]
    }
   ],
   "source": [
    "structureData = [\n",
    "    (('James','','Smith'),'36636','M',3100),\n",
    "    (('Michael','Rose',''),'40288','M',4300),\n",
    "    (('Robert','','Williams'),'42114','M',1400),\n",
    "    (('Maria','Anne','Jones'),'39192','F',5500),\n",
    "    (('Jen','Mary','Brown'),'','F',-1)\n",
    "  ]\n",
    "structureSchema = StructType([\n",
    "        StructField('name', StructType([\n",
    "             StructField('firstname', StringType(), True),\n",
    "             StructField('middlename', StringType(), True),\n",
    "             StructField('lastname', StringType(), True)\n",
    "             ])),\n",
    "         StructField('id', StringType(), True),\n",
    "         StructField('gender', StringType(), True),\n",
    "         StructField('salary', IntegerType(), True)\n",
    "         ])\n",
    "\n",
    "df2 = spark.createDataFrame(data=structureData,schema=structureSchema)\n",
    "df2.printSchema()\n",
    "df2.show(truncate=False)"
   ]
  },
  {
   "cell_type": "markdown",
   "metadata": {
    "id": "iClIlEKr8iTj"
   },
   "source": [
    "Со структурой можно работать и менять ее под ваши нужны"
   ]
  },
  {
   "cell_type": "code",
   "execution_count": 31,
   "metadata": {
    "colab": {
     "base_uri": "https://localhost:8080/"
    },
    "id": "vm4_WIJS8dgO",
    "outputId": "63e0d872-ab47-4e6d-9664-648181bdef58"
   },
   "outputs": [
    {
     "name": "stdout",
     "output_type": "stream",
     "text": [
      "root\n",
      " |-- name: struct (nullable = true)\n",
      " |    |-- firstname: string (nullable = true)\n",
      " |    |-- middlename: string (nullable = true)\n",
      " |    |-- lastname: string (nullable = true)\n",
      " |-- OtherInfo: struct (nullable = false)\n",
      " |    |-- identifier: string (nullable = true)\n",
      " |    |-- gender: string (nullable = true)\n",
      " |    |-- salary: integer (nullable = true)\n",
      " |    |-- Salary_Grade: string (nullable = false)\n",
      "\n",
      "+--------------------+------------------------+\n",
      "|name                |OtherInfo               |\n",
      "+--------------------+------------------------+\n",
      "|{James, , Smith}    |{36636, M, 3100, Medium}|\n",
      "|{Michael, Rose, }   |{40288, M, 4300, High}  |\n",
      "|{Robert, , Williams}|{42114, M, 1400, Low}   |\n",
      "|{Maria, Anne, Jones}|{39192, F, 5500, High}  |\n",
      "|{Jen, Mary, Brown}  |{, F, -1, Low}          |\n",
      "+--------------------+------------------------+\n",
      "\n"
     ]
    }
   ],
   "source": [
    "updatedDF = df2.withColumn('OtherInfo', \n",
    "    F.struct(F.col('id').alias('identifier'),\n",
    "    F.col('gender').alias('gender'),\n",
    "    F.col('salary').alias('salary'),\n",
    "    F.when(F.col('salary').cast(IntegerType()) < 2000,'Low')\n",
    "      .when(F.col('salary').cast(IntegerType()) < 4000,'Medium')\n",
    "      .otherwise('High').alias('Salary_Grade')\n",
    "  )).drop('id','gender','salary')\n",
    "\n",
    "updatedDF.printSchema()\n",
    "updatedDF.show(truncate=False)"
   ]
  },
  {
   "cell_type": "markdown",
   "metadata": {
    "id": "U0ahr4fX9Upl"
   },
   "source": [
    "Что мы там сделали????"
   ]
  },
  {
   "cell_type": "markdown",
   "metadata": {
    "id": "4LDl88xh9ijH"
   },
   "source": [
    "1) Создали новую структуру данных OtherInfo\n",
    "\n",
    "2) Передали туда id (переименовав столбец), gender, salary\n",
    "\n",
    "3) Создали столбец Salary_grade из условий\n",
    "\n",
    "4) удалили id, gender, salary из старой структуры"
   ]
  },
  {
   "cell_type": "markdown",
   "metadata": {
    "id": "zCQAE9lcB9t0"
   },
   "source": [
    "Есть и еще структуры данных!"
   ]
  },
  {
   "cell_type": "code",
   "execution_count": 32,
   "metadata": {
    "id": "mubsrdL7CECm"
   },
   "outputs": [],
   "source": [
    "from pyspark.sql.types import ArrayType, MapType"
   ]
  },
  {
   "cell_type": "code",
   "execution_count": 33,
   "metadata": {
    "id": "DmTN8aYYCLaP"
   },
   "outputs": [],
   "source": [
    "arrayStructureSchema = StructType([\n",
    "    StructField('name', StructType([\n",
    "       StructField('firstname', StringType(), True),\n",
    "       StructField('middlename', StringType(), True),\n",
    "       StructField('lastname', StringType(), True)\n",
    "       ])),\n",
    "       StructField('hobbies', ArrayType(StringType()), True),\n",
    "       StructField('properties', MapType(IntegerType(),StringType()), True)\n",
    "    ])"
   ]
  },
  {
   "cell_type": "code",
   "execution_count": 34,
   "metadata": {
    "id": "yD1B3QxQCk2f"
   },
   "outputs": [],
   "source": [
    "structureData = [\n",
    "    (('James','','Smith'), ['car', 'volleyball'], {1: 'a', 4: 'd'}),\n",
    "    (('Michael','Rose',''), ['car', 'football'], {2: 'b'}),\n",
    "    (('Robert','','Williams'), ['box', 'music'], {3: 'c'})\n",
    "  ]"
   ]
  },
  {
   "cell_type": "code",
   "execution_count": 35,
   "metadata": {
    "colab": {
     "base_uri": "https://localhost:8080/"
    },
    "id": "1ALozaKICfMB",
    "outputId": "049bfd25-ea50-4f8e-d30d-c175d2fcd31c"
   },
   "outputs": [
    {
     "name": "stdout",
     "output_type": "stream",
     "text": [
      "root\n",
      " |-- name: struct (nullable = true)\n",
      " |    |-- firstname: string (nullable = true)\n",
      " |    |-- middlename: string (nullable = true)\n",
      " |    |-- lastname: string (nullable = true)\n",
      " |-- hobbies: array (nullable = true)\n",
      " |    |-- element: string (containsNull = true)\n",
      " |-- properties: map (nullable = true)\n",
      " |    |-- key: integer\n",
      " |    |-- value: string (valueContainsNull = true)\n",
      "\n",
      "+--------------------+-----------------+----------------+\n",
      "|name                |hobbies          |properties      |\n",
      "+--------------------+-----------------+----------------+\n",
      "|{James, , Smith}    |[car, volleyball]|{4 -> d, 1 -> a}|\n",
      "|{Michael, Rose, }   |[car, football]  |{2 -> b}        |\n",
      "|{Robert, , Williams}|[box, music]     |{3 -> c}        |\n",
      "+--------------------+-----------------+----------------+\n",
      "\n"
     ]
    }
   ],
   "source": [
    "df3 = spark.createDataFrame(data=structureData,schema=arrayStructureSchema)\n",
    "df3.printSchema()\n",
    "df3.show(truncate=False)"
   ]
  },
  {
   "cell_type": "code",
   "execution_count": 36,
   "metadata": {
    "colab": {
     "base_uri": "https://localhost:8080/"
    },
    "id": "eLbNPk3YDiOY",
    "outputId": "47272a8d-4a8c-4d83-9959-e5463526522e"
   },
   "outputs": [
    {
     "data": {
      "text/plain": [
       "[Row(properties={4: 'd', 1: 'a'}),\n",
       " Row(properties={2: 'b'}),\n",
       " Row(properties={3: 'c'})]"
      ]
     },
     "execution_count": 36,
     "metadata": {},
     "output_type": "execute_result"
    }
   ],
   "source": [
    "df3.select('properties').collect()"
   ]
  },
  {
   "cell_type": "markdown",
   "metadata": {
    "id": "4uQ1cQpyCF_X"
   },
   "source": [
    "## Описание данных"
   ]
  },
  {
   "cell_type": "markdown",
   "metadata": {
    "id": "CUn_TbKyCGCQ"
   },
   "source": [
    "Общее описание данных"
   ]
  },
  {
   "cell_type": "code",
   "execution_count": 37,
   "metadata": {
    "id": "JFT3OfOsFTl4"
   },
   "outputs": [],
   "source": [
    "df = spark.read.csv(path='../lesson_1/user_ratedmovies.dat', sep='\\t', header=True, inferSchema=True, schema=None)"
   ]
  },
  {
   "cell_type": "code",
   "execution_count": 38,
   "metadata": {
    "colab": {
     "base_uri": "https://localhost:8080/"
    },
    "id": "4xsYm_0aCANH",
    "outputId": "ead70619-c78e-4462-d901-151d27cdefe0"
   },
   "outputs": [
    {
     "data": {
      "text/html": [
       "<div>\n",
       "<style scoped>\n",
       "    .dataframe tbody tr th:only-of-type {\n",
       "        vertical-align: middle;\n",
       "    }\n",
       "\n",
       "    .dataframe tbody tr th {\n",
       "        vertical-align: top;\n",
       "    }\n",
       "\n",
       "    .dataframe thead th {\n",
       "        text-align: right;\n",
       "    }\n",
       "</style>\n",
       "<table border=\"1\" class=\"dataframe\">\n",
       "  <thead>\n",
       "    <tr style=\"text-align: right;\">\n",
       "      <th></th>\n",
       "      <th>summary</th>\n",
       "      <th>userID</th>\n",
       "      <th>movieID</th>\n",
       "      <th>rating</th>\n",
       "      <th>date_day</th>\n",
       "      <th>date_month</th>\n",
       "      <th>date_year</th>\n",
       "      <th>date_hour</th>\n",
       "      <th>date_minute</th>\n",
       "      <th>date_second</th>\n",
       "    </tr>\n",
       "  </thead>\n",
       "  <tbody>\n",
       "    <tr>\n",
       "      <th>0</th>\n",
       "      <td>count</td>\n",
       "      <td>855598</td>\n",
       "      <td>855598</td>\n",
       "      <td>855598</td>\n",
       "      <td>855598</td>\n",
       "      <td>855598</td>\n",
       "      <td>855598</td>\n",
       "      <td>855598</td>\n",
       "      <td>855598</td>\n",
       "      <td>855598</td>\n",
       "    </tr>\n",
       "    <tr>\n",
       "      <th>1</th>\n",
       "      <td>mean</td>\n",
       "      <td>35190.83255103448</td>\n",
       "      <td>8710.179402008887</td>\n",
       "      <td>3.437945156487042</td>\n",
       "      <td>15.568923723524366</td>\n",
       "      <td>6.54079485926802</td>\n",
       "      <td>2005.323717446745</td>\n",
       "      <td>12.124531614145896</td>\n",
       "      <td>29.645382527775894</td>\n",
       "      <td>29.510222090280717</td>\n",
       "    </tr>\n",
       "    <tr>\n",
       "      <th>2</th>\n",
       "      <td>stddev</td>\n",
       "      <td>20385.003346992034</td>\n",
       "      <td>14446.852908494124</td>\n",
       "      <td>1.0025608721610393</td>\n",
       "      <td>8.951201361275194</td>\n",
       "      <td>3.506399425908951</td>\n",
       "      <td>2.2826973219014897</td>\n",
       "      <td>7.596701614618094</td>\n",
       "      <td>17.26730947820293</td>\n",
       "      <td>17.310302009988877</td>\n",
       "    </tr>\n",
       "    <tr>\n",
       "      <th>3</th>\n",
       "      <td>min</td>\n",
       "      <td>75</td>\n",
       "      <td>1</td>\n",
       "      <td>0.5</td>\n",
       "      <td>1</td>\n",
       "      <td>1</td>\n",
       "      <td>1997</td>\n",
       "      <td>0</td>\n",
       "      <td>0</td>\n",
       "      <td>0</td>\n",
       "    </tr>\n",
       "    <tr>\n",
       "      <th>4</th>\n",
       "      <td>max</td>\n",
       "      <td>71534</td>\n",
       "      <td>65133</td>\n",
       "      <td>5.0</td>\n",
       "      <td>31</td>\n",
       "      <td>12</td>\n",
       "      <td>2009</td>\n",
       "      <td>23</td>\n",
       "      <td>59</td>\n",
       "      <td>59</td>\n",
       "    </tr>\n",
       "  </tbody>\n",
       "</table>\n",
       "</div>"
      ],
      "text/plain": [
       "  summary              userID             movieID              rating  \\\n",
       "0   count              855598              855598              855598   \n",
       "1    mean   35190.83255103448   8710.179402008887   3.437945156487042   \n",
       "2  stddev  20385.003346992034  14446.852908494124  1.0025608721610393   \n",
       "3     min                  75                   1                 0.5   \n",
       "4     max               71534               65133                 5.0   \n",
       "\n",
       "             date_day         date_month           date_year  \\\n",
       "0              855598             855598              855598   \n",
       "1  15.568923723524366   6.54079485926802   2005.323717446745   \n",
       "2   8.951201361275194  3.506399425908951  2.2826973219014897   \n",
       "3                   1                  1                1997   \n",
       "4                  31                 12                2009   \n",
       "\n",
       "            date_hour         date_minute         date_second  \n",
       "0              855598              855598              855598  \n",
       "1  12.124531614145896  29.645382527775894  29.510222090280717  \n",
       "2   7.596701614618094   17.26730947820293  17.310302009988877  \n",
       "3                   0                   0                   0  \n",
       "4                  23                  59                  59  "
      ]
     },
     "execution_count": 38,
     "metadata": {},
     "output_type": "execute_result"
    }
   ],
   "source": [
    "df.describe().toPandas()"
   ]
  },
  {
   "cell_type": "code",
   "execution_count": 39,
   "metadata": {
    "colab": {
     "base_uri": "https://localhost:8080/"
    },
    "id": "tzoQTDS1CZdC",
    "outputId": "bc014253-b7b8-4bbb-ff13-1cbd0d1f8ea3"
   },
   "outputs": [
    {
     "data": {
      "text/html": [
       "<div>\n",
       "<style scoped>\n",
       "    .dataframe tbody tr th:only-of-type {\n",
       "        vertical-align: middle;\n",
       "    }\n",
       "\n",
       "    .dataframe tbody tr th {\n",
       "        vertical-align: top;\n",
       "    }\n",
       "\n",
       "    .dataframe thead th {\n",
       "        text-align: right;\n",
       "    }\n",
       "</style>\n",
       "<table border=\"1\" class=\"dataframe\">\n",
       "  <thead>\n",
       "    <tr style=\"text-align: right;\">\n",
       "      <th></th>\n",
       "      <th>summary</th>\n",
       "      <th>userID</th>\n",
       "      <th>movieID</th>\n",
       "      <th>rating</th>\n",
       "      <th>date_day</th>\n",
       "      <th>date_month</th>\n",
       "      <th>date_year</th>\n",
       "      <th>date_hour</th>\n",
       "      <th>date_minute</th>\n",
       "      <th>date_second</th>\n",
       "    </tr>\n",
       "  </thead>\n",
       "  <tbody>\n",
       "    <tr>\n",
       "      <th>0</th>\n",
       "      <td>count</td>\n",
       "      <td>855598</td>\n",
       "      <td>855598</td>\n",
       "      <td>855598</td>\n",
       "      <td>855598</td>\n",
       "      <td>855598</td>\n",
       "      <td>855598</td>\n",
       "      <td>855598</td>\n",
       "      <td>855598</td>\n",
       "      <td>855598</td>\n",
       "    </tr>\n",
       "    <tr>\n",
       "      <th>1</th>\n",
       "      <td>mean</td>\n",
       "      <td>35190.83255103448</td>\n",
       "      <td>8710.179402008887</td>\n",
       "      <td>3.437945156487042</td>\n",
       "      <td>15.568923723524366</td>\n",
       "      <td>6.54079485926802</td>\n",
       "      <td>2005.323717446745</td>\n",
       "      <td>12.124531614145896</td>\n",
       "      <td>29.645382527775894</td>\n",
       "      <td>29.510222090280717</td>\n",
       "    </tr>\n",
       "    <tr>\n",
       "      <th>2</th>\n",
       "      <td>stddev</td>\n",
       "      <td>20385.003346992034</td>\n",
       "      <td>14446.852908494124</td>\n",
       "      <td>1.0025608721610393</td>\n",
       "      <td>8.951201361275194</td>\n",
       "      <td>3.506399425908951</td>\n",
       "      <td>2.2826973219014897</td>\n",
       "      <td>7.596701614618094</td>\n",
       "      <td>17.26730947820293</td>\n",
       "      <td>17.310302009988877</td>\n",
       "    </tr>\n",
       "    <tr>\n",
       "      <th>3</th>\n",
       "      <td>min</td>\n",
       "      <td>75</td>\n",
       "      <td>1</td>\n",
       "      <td>0.5</td>\n",
       "      <td>1</td>\n",
       "      <td>1</td>\n",
       "      <td>1997</td>\n",
       "      <td>0</td>\n",
       "      <td>0</td>\n",
       "      <td>0</td>\n",
       "    </tr>\n",
       "    <tr>\n",
       "      <th>4</th>\n",
       "      <td>25%</td>\n",
       "      <td>18161</td>\n",
       "      <td>1367</td>\n",
       "      <td>3.0</td>\n",
       "      <td>8</td>\n",
       "      <td>4</td>\n",
       "      <td>2004</td>\n",
       "      <td>5</td>\n",
       "      <td>15</td>\n",
       "      <td>15</td>\n",
       "    </tr>\n",
       "    <tr>\n",
       "      <th>5</th>\n",
       "      <td>50%</td>\n",
       "      <td>33866</td>\n",
       "      <td>3249</td>\n",
       "      <td>3.5</td>\n",
       "      <td>15</td>\n",
       "      <td>7</td>\n",
       "      <td>2006</td>\n",
       "      <td>13</td>\n",
       "      <td>30</td>\n",
       "      <td>30</td>\n",
       "    </tr>\n",
       "    <tr>\n",
       "      <th>6</th>\n",
       "      <td>75%</td>\n",
       "      <td>52004</td>\n",
       "      <td>6534</td>\n",
       "      <td>4.0</td>\n",
       "      <td>23</td>\n",
       "      <td>10</td>\n",
       "      <td>2007</td>\n",
       "      <td>19</td>\n",
       "      <td>45</td>\n",
       "      <td>44</td>\n",
       "    </tr>\n",
       "    <tr>\n",
       "      <th>7</th>\n",
       "      <td>max</td>\n",
       "      <td>71534</td>\n",
       "      <td>65133</td>\n",
       "      <td>5.0</td>\n",
       "      <td>31</td>\n",
       "      <td>12</td>\n",
       "      <td>2009</td>\n",
       "      <td>23</td>\n",
       "      <td>59</td>\n",
       "      <td>59</td>\n",
       "    </tr>\n",
       "  </tbody>\n",
       "</table>\n",
       "</div>"
      ],
      "text/plain": [
       "  summary              userID             movieID              rating  \\\n",
       "0   count              855598              855598              855598   \n",
       "1    mean   35190.83255103448   8710.179402008887   3.437945156487042   \n",
       "2  stddev  20385.003346992034  14446.852908494124  1.0025608721610393   \n",
       "3     min                  75                   1                 0.5   \n",
       "4     25%               18161                1367                 3.0   \n",
       "5     50%               33866                3249                 3.5   \n",
       "6     75%               52004                6534                 4.0   \n",
       "7     max               71534               65133                 5.0   \n",
       "\n",
       "             date_day         date_month           date_year  \\\n",
       "0              855598             855598              855598   \n",
       "1  15.568923723524366   6.54079485926802   2005.323717446745   \n",
       "2   8.951201361275194  3.506399425908951  2.2826973219014897   \n",
       "3                   1                  1                1997   \n",
       "4                   8                  4                2004   \n",
       "5                  15                  7                2006   \n",
       "6                  23                 10                2007   \n",
       "7                  31                 12                2009   \n",
       "\n",
       "            date_hour         date_minute         date_second  \n",
       "0              855598              855598              855598  \n",
       "1  12.124531614145896  29.645382527775894  29.510222090280717  \n",
       "2   7.596701614618094   17.26730947820293  17.310302009988877  \n",
       "3                   0                   0                   0  \n",
       "4                   5                  15                  15  \n",
       "5                  13                  30                  30  \n",
       "6                  19                  45                  44  \n",
       "7                  23                  59                  59  "
      ]
     },
     "execution_count": 39,
     "metadata": {},
     "output_type": "execute_result"
    }
   ],
   "source": [
    "df.summary().toPandas()"
   ]
  },
  {
   "cell_type": "markdown",
   "metadata": {
    "id": "dTWN1cf_CrOT"
   },
   "source": [
    "Количество записей"
   ]
  },
  {
   "cell_type": "code",
   "execution_count": 40,
   "metadata": {
    "colab": {
     "base_uri": "https://localhost:8080/"
    },
    "id": "nVITW7_FCg7X",
    "outputId": "63bbd9ed-f17c-4f0b-b65b-91a7f0553368"
   },
   "outputs": [
    {
     "data": {
      "text/plain": [
       "855598"
      ]
     },
     "execution_count": 40,
     "metadata": {},
     "output_type": "execute_result"
    }
   ],
   "source": [
    "df.count()"
   ]
  },
  {
   "cell_type": "markdown",
   "metadata": {
    "id": "gei1DA_MDXEM"
   },
   "source": [
    "Количество партиций"
   ]
  },
  {
   "cell_type": "code",
   "execution_count": 41,
   "metadata": {
    "colab": {
     "base_uri": "https://localhost:8080/"
    },
    "id": "8LxCM_uMCoOQ",
    "outputId": "33ca72db-be0c-4ba5-e4ef-154d7aa3f336"
   },
   "outputs": [
    {
     "data": {
      "text/plain": [
       "7"
      ]
     },
     "execution_count": 41,
     "metadata": {},
     "output_type": "execute_result"
    }
   ],
   "source": [
    "df.rdd.getNumPartitions()"
   ]
  },
  {
   "cell_type": "markdown",
   "metadata": {
    "id": "uARz4b3lDdVF"
   },
   "source": [
    " Менять число партиций можно, все как с rdd"
   ]
  },
  {
   "cell_type": "code",
   "execution_count": 42,
   "metadata": {
    "id": "76UNLPKHDosI"
   },
   "outputs": [],
   "source": [
    "df = df.repartition(5)"
   ]
  },
  {
   "cell_type": "code",
   "execution_count": 43,
   "metadata": {
    "colab": {
     "base_uri": "https://localhost:8080/"
    },
    "id": "JdVfa-ODDtXz",
    "outputId": "ea90d7dd-1609-4a11-8c8c-b3de1a11406a"
   },
   "outputs": [
    {
     "data": {
      "text/plain": [
       "5"
      ]
     },
     "execution_count": 43,
     "metadata": {},
     "output_type": "execute_result"
    }
   ],
   "source": [
    "df.rdd.getNumPartitions()"
   ]
  },
  {
   "cell_type": "code",
   "execution_count": 44,
   "metadata": {
    "id": "sIDPMK-qDv7p"
   },
   "outputs": [],
   "source": [
    "df = df.coalesce(2)"
   ]
  },
  {
   "cell_type": "code",
   "execution_count": 45,
   "metadata": {
    "colab": {
     "base_uri": "https://localhost:8080/"
    },
    "id": "hsG5g_aLDyPg",
    "outputId": "03ff6581-5c14-4720-aa4a-8474083f6fa9"
   },
   "outputs": [
    {
     "data": {
      "text/plain": [
       "2"
      ]
     },
     "execution_count": 45,
     "metadata": {},
     "output_type": "execute_result"
    }
   ],
   "source": [
    "df.rdd.getNumPartitions()"
   ]
  },
  {
   "cell_type": "markdown",
   "metadata": {
    "id": "R30yappBElPl"
   },
   "source": [
    "## Различные методы"
   ]
  },
  {
   "cell_type": "markdown",
   "metadata": {
    "id": "KTysHYCwEMQb"
   },
   "source": [
    "Ну теперь давайте тыкать "
   ]
  },
  {
   "cell_type": "markdown",
   "metadata": {},
   "source": [
    "### dropDuplicates"
   ]
  },
  {
   "cell_type": "markdown",
   "metadata": {
    "id": "O-t0HREvEuXf"
   },
   "source": [
    "Удаляем дубликаты и помним, что есть actions и transformations, count заставит все сделать"
   ]
  },
  {
   "cell_type": "code",
   "execution_count": 46,
   "metadata": {
    "id": "grCgDf3XEJAG"
   },
   "outputs": [],
   "source": [
    "df_without_duplicates = df.drop_duplicates()"
   ]
  },
  {
   "cell_type": "markdown",
   "metadata": {
    "id": "WFX2rl8lFFNg"
   },
   "source": [
    "Есть alias"
   ]
  },
  {
   "cell_type": "code",
   "execution_count": 47,
   "metadata": {
    "id": "0hXkMPVWFD0D"
   },
   "outputs": [],
   "source": [
    "df_without_duplicates = df.dropDuplicates()"
   ]
  },
  {
   "cell_type": "markdown",
   "metadata": {
    "id": "KdTTlyDXFVgV"
   },
   "source": [
    "Как удалить дубликаты по отдельным колонкам?"
   ]
  },
  {
   "cell_type": "code",
   "execution_count": 48,
   "metadata": {
    "id": "2WSm1GHBFK1Y"
   },
   "outputs": [],
   "source": [
    "df_without_duplicates = df.drop_duplicates(['userID', 'rating'])"
   ]
  },
  {
   "cell_type": "code",
   "execution_count": 49,
   "metadata": {
    "colab": {
     "base_uri": "https://localhost:8080/"
    },
    "id": "2UDcQusBF0MU",
    "outputId": "e65e5072-907b-4dd5-f4ca-e665ac8407ec"
   },
   "outputs": [
    {
     "data": {
      "text/plain": [
       "18847"
      ]
     },
     "execution_count": 49,
     "metadata": {},
     "output_type": "execute_result"
    }
   ],
   "source": [
    "df_without_duplicates.count()"
   ]
  },
  {
   "cell_type": "code",
   "execution_count": 50,
   "metadata": {
    "colab": {
     "base_uri": "https://localhost:8080/"
    },
    "id": "Uu6IuhVlGAJ8",
    "outputId": "b8ee1a66-2a3e-43fe-98c0-bc9eed77dac4"
   },
   "outputs": [
    {
     "name": "stdout",
     "output_type": "stream",
     "text": [
      "+------+-------+------+--------+----------+---------+---------+-----------+-----------+\n",
      "|userID|movieID|rating|date_day|date_month|date_year|date_hour|date_minute|date_second|\n",
      "+------+-------+------+--------+----------+---------+---------+-----------+-----------+\n",
      "|  5925|   6711|   4.0|      22|        11|     2006|       20|          2|          0|\n",
      "|  3512|    593|   4.5|      17|         7|     2008|       19|          6|         32|\n",
      "| 18718|   8360|   2.0|      17|         9|     2008|       16|         43|         15|\n",
      "| 19519|   3408|   3.0|      21|         2|     2006|        1|         39|         13|\n",
      "| 15816|  34162|   4.5|       4|         1|     2007|       23|          1|         27|\n",
      "| 16862|   8638|   4.5|      10|         2|     2006|        5|         10|          4|\n",
      "| 11930|   1961|   3.0|       2|         4|     2005|       18|          4|         31|\n",
      "| 28962|    593|   4.0|       4|        12|     2006|        8|         47|         26|\n",
      "| 23129|     10|   4.5|       5|        12|     2007|        8|         51|          0|\n",
      "| 22701|    733|   4.5|       7|         3|     2006|       12|         45|         39|\n",
      "+------+-------+------+--------+----------+---------+---------+-----------+-----------+\n",
      "only showing top 10 rows\n",
      "\n"
     ]
    }
   ],
   "source": [
    "df_without_duplicates.show(10)"
   ]
  },
  {
   "cell_type": "markdown",
   "metadata": {},
   "source": [
    "### corr"
   ]
  },
  {
   "cell_type": "markdown",
   "metadata": {
    "id": "3xLCdjnxQf-k"
   },
   "source": [
    "Корреляции"
   ]
  },
  {
   "cell_type": "code",
   "execution_count": 51,
   "metadata": {
    "colab": {
     "base_uri": "https://localhost:8080/"
    },
    "id": "_px4MeZ_QbWw",
    "outputId": "b847dcc6-8c94-4032-db4e-308fa3c2b9f9"
   },
   "outputs": [
    {
     "data": {
      "text/plain": [
       "0.016638388440498076"
      ]
     },
     "execution_count": 51,
     "metadata": {},
     "output_type": "execute_result"
    }
   ],
   "source": [
    "df.corr('rating', 'date_day')"
   ]
  },
  {
   "cell_type": "code",
   "execution_count": 52,
   "metadata": {
    "colab": {
     "base_uri": "https://localhost:8080/"
    },
    "id": "ojnd-9aoQp-z",
    "outputId": "831e72ca-50f6-48b1-c721-89382fe76ccf"
   },
   "outputs": [
    {
     "data": {
      "text/plain": [
       "-0.012518740192686511"
      ]
     },
     "execution_count": 52,
     "metadata": {},
     "output_type": "execute_result"
    }
   ],
   "source": [
    "df.corr('rating', 'date_hour')"
   ]
  },
  {
   "cell_type": "code",
   "execution_count": 53,
   "metadata": {
    "colab": {
     "base_uri": "https://localhost:8080/"
    },
    "id": "u1yF8JE2QxCb",
    "outputId": "852f0c7a-b65e-4bee-ba50-c3ffe18ffc86"
   },
   "outputs": [
    {
     "data": {
      "text/plain": [
       "-0.0021299262699295183"
      ]
     },
     "execution_count": 53,
     "metadata": {},
     "output_type": "execute_result"
    }
   ],
   "source": [
    "df.corr('rating', 'date_year')"
   ]
  },
  {
   "cell_type": "markdown",
   "metadata": {},
   "source": [
    "### toPandas"
   ]
  },
  {
   "cell_type": "markdown",
   "metadata": {
    "id": "_EuaTuZHwbKI"
   },
   "source": [
    "Как закинуть данные в любимый pandas?"
   ]
  },
  {
   "cell_type": "markdown",
   "metadata": {
    "id": "sYMdZ4UIwius"
   },
   "source": [
    "Самый простой вариант - встроенный метод, но он жутко медленный при существенном объеме данных. Лучше сохранить паркет и считать через `pd.read_parquet()`"
   ]
  },
  {
   "cell_type": "code",
   "execution_count": 54,
   "metadata": {
    "id": "U2K09OLKzoI1"
   },
   "outputs": [],
   "source": [
    "import pandas as pd"
   ]
  },
  {
   "cell_type": "code",
   "execution_count": 55,
   "metadata": {
    "colab": {
     "base_uri": "https://localhost:8080/"
    },
    "id": "koXxQVt_wh82",
    "outputId": "0700c77d-2bea-422e-e1d5-ed13f42b8d3e"
   },
   "outputs": [
    {
     "name": "stdout",
     "output_type": "stream",
     "text": [
      "4.34 s ± 274 ms per loop (mean ± std. dev. of 7 runs, 1 loop each)\n"
     ]
    }
   ],
   "source": [
    "%%timeit \n",
    "\n",
    "pandas_df = df.toPandas()"
   ]
  },
  {
   "cell_type": "code",
   "execution_count": 56,
   "metadata": {
    "colab": {
     "base_uri": "https://localhost:8080/",
     "height": 419
    },
    "id": "N4IMwKC1wsvH",
    "outputId": "99391bc4-c61a-4549-ad70-126235dc37ba"
   },
   "outputs": [
    {
     "data": {
      "text/html": [
       "<div>\n",
       "<style scoped>\n",
       "    .dataframe tbody tr th:only-of-type {\n",
       "        vertical-align: middle;\n",
       "    }\n",
       "\n",
       "    .dataframe tbody tr th {\n",
       "        vertical-align: top;\n",
       "    }\n",
       "\n",
       "    .dataframe thead th {\n",
       "        text-align: right;\n",
       "    }\n",
       "</style>\n",
       "<table border=\"1\" class=\"dataframe\">\n",
       "  <thead>\n",
       "    <tr style=\"text-align: right;\">\n",
       "      <th></th>\n",
       "      <th>userID</th>\n",
       "      <th>movieID</th>\n",
       "      <th>rating</th>\n",
       "      <th>date_day</th>\n",
       "      <th>date_month</th>\n",
       "      <th>date_year</th>\n",
       "      <th>date_hour</th>\n",
       "      <th>date_minute</th>\n",
       "      <th>date_second</th>\n",
       "    </tr>\n",
       "  </thead>\n",
       "  <tbody>\n",
       "    <tr>\n",
       "      <th>0</th>\n",
       "      <td>6393</td>\n",
       "      <td>2071</td>\n",
       "      <td>3.5</td>\n",
       "      <td>4</td>\n",
       "      <td>1</td>\n",
       "      <td>2006</td>\n",
       "      <td>21</td>\n",
       "      <td>28</td>\n",
       "      <td>23</td>\n",
       "    </tr>\n",
       "    <tr>\n",
       "      <th>1</th>\n",
       "      <td>1198</td>\n",
       "      <td>33794</td>\n",
       "      <td>4.0</td>\n",
       "      <td>1</td>\n",
       "      <td>9</td>\n",
       "      <td>2007</td>\n",
       "      <td>14</td>\n",
       "      <td>49</td>\n",
       "      <td>33</td>\n",
       "    </tr>\n",
       "    <tr>\n",
       "      <th>2</th>\n",
       "      <td>267</td>\n",
       "      <td>10</td>\n",
       "      <td>3.0</td>\n",
       "      <td>30</td>\n",
       "      <td>1</td>\n",
       "      <td>2006</td>\n",
       "      <td>0</td>\n",
       "      <td>2</td>\n",
       "      <td>17</td>\n",
       "    </tr>\n",
       "    <tr>\n",
       "      <th>3</th>\n",
       "      <td>8168</td>\n",
       "      <td>1923</td>\n",
       "      <td>3.5</td>\n",
       "      <td>4</td>\n",
       "      <td>12</td>\n",
       "      <td>2006</td>\n",
       "      <td>16</td>\n",
       "      <td>40</td>\n",
       "      <td>44</td>\n",
       "    </tr>\n",
       "    <tr>\n",
       "      <th>4</th>\n",
       "      <td>9522</td>\n",
       "      <td>5292</td>\n",
       "      <td>5.0</td>\n",
       "      <td>8</td>\n",
       "      <td>4</td>\n",
       "      <td>2002</td>\n",
       "      <td>1</td>\n",
       "      <td>50</td>\n",
       "      <td>21</td>\n",
       "    </tr>\n",
       "    <tr>\n",
       "      <th>...</th>\n",
       "      <td>...</td>\n",
       "      <td>...</td>\n",
       "      <td>...</td>\n",
       "      <td>...</td>\n",
       "      <td>...</td>\n",
       "      <td>...</td>\n",
       "      <td>...</td>\n",
       "      <td>...</td>\n",
       "      <td>...</td>\n",
       "    </tr>\n",
       "    <tr>\n",
       "      <th>855593</th>\n",
       "      <td>70362</td>\n",
       "      <td>7566</td>\n",
       "      <td>4.0</td>\n",
       "      <td>19</td>\n",
       "      <td>11</td>\n",
       "      <td>2005</td>\n",
       "      <td>6</td>\n",
       "      <td>32</td>\n",
       "      <td>9</td>\n",
       "    </tr>\n",
       "    <tr>\n",
       "      <th>855594</th>\n",
       "      <td>67068</td>\n",
       "      <td>1208</td>\n",
       "      <td>5.0</td>\n",
       "      <td>30</td>\n",
       "      <td>9</td>\n",
       "      <td>1998</td>\n",
       "      <td>22</td>\n",
       "      <td>59</td>\n",
       "      <td>14</td>\n",
       "    </tr>\n",
       "    <tr>\n",
       "      <th>855595</th>\n",
       "      <td>67687</td>\n",
       "      <td>273</td>\n",
       "      <td>4.0</td>\n",
       "      <td>8</td>\n",
       "      <td>4</td>\n",
       "      <td>2007</td>\n",
       "      <td>2</td>\n",
       "      <td>48</td>\n",
       "      <td>46</td>\n",
       "    </tr>\n",
       "    <tr>\n",
       "      <th>855596</th>\n",
       "      <td>66892</td>\n",
       "      <td>2966</td>\n",
       "      <td>4.0</td>\n",
       "      <td>28</td>\n",
       "      <td>6</td>\n",
       "      <td>2006</td>\n",
       "      <td>0</td>\n",
       "      <td>17</td>\n",
       "      <td>31</td>\n",
       "    </tr>\n",
       "    <tr>\n",
       "      <th>855597</th>\n",
       "      <td>70878</td>\n",
       "      <td>2022</td>\n",
       "      <td>4.0</td>\n",
       "      <td>25</td>\n",
       "      <td>8</td>\n",
       "      <td>2007</td>\n",
       "      <td>7</td>\n",
       "      <td>31</td>\n",
       "      <td>53</td>\n",
       "    </tr>\n",
       "  </tbody>\n",
       "</table>\n",
       "<p>855598 rows × 9 columns</p>\n",
       "</div>"
      ],
      "text/plain": [
       "        userID  movieID  rating  date_day  date_month  date_year  date_hour  \\\n",
       "0         6393     2071     3.5         4           1       2006         21   \n",
       "1         1198    33794     4.0         1           9       2007         14   \n",
       "2          267       10     3.0        30           1       2006          0   \n",
       "3         8168     1923     3.5         4          12       2006         16   \n",
       "4         9522     5292     5.0         8           4       2002          1   \n",
       "...        ...      ...     ...       ...         ...        ...        ...   \n",
       "855593   70362     7566     4.0        19          11       2005          6   \n",
       "855594   67068     1208     5.0        30           9       1998         22   \n",
       "855595   67687      273     4.0         8           4       2007          2   \n",
       "855596   66892     2966     4.0        28           6       2006          0   \n",
       "855597   70878     2022     4.0        25           8       2007          7   \n",
       "\n",
       "        date_minute  date_second  \n",
       "0                28           23  \n",
       "1                49           33  \n",
       "2                 2           17  \n",
       "3                40           44  \n",
       "4                50           21  \n",
       "...             ...          ...  \n",
       "855593           32            9  \n",
       "855594           59           14  \n",
       "855595           48           46  \n",
       "855596           17           31  \n",
       "855597           31           53  \n",
       "\n",
       "[855598 rows x 9 columns]"
      ]
     },
     "execution_count": 56,
     "metadata": {},
     "output_type": "execute_result"
    }
   ],
   "source": [
    "pandas_df = df.toPandas()\n",
    "pandas_df"
   ]
  },
  {
   "cell_type": "code",
   "execution_count": 57,
   "metadata": {
    "colab": {
     "base_uri": "https://localhost:8080/"
    },
    "id": "tMyqh1n6yFln",
    "outputId": "465b6d3f-ea0b-4805-81fb-727c69cd7cb2"
   },
   "outputs": [
    {
     "name": "stdout",
     "output_type": "stream",
     "text": [
      "<class 'pandas.core.frame.DataFrame'>\n",
      "RangeIndex: 855598 entries, 0 to 855597\n",
      "Data columns (total 9 columns):\n",
      " #   Column       Non-Null Count   Dtype  \n",
      "---  ------       --------------   -----  \n",
      " 0   userID       855598 non-null  int32  \n",
      " 1   movieID      855598 non-null  int32  \n",
      " 2   rating       855598 non-null  float64\n",
      " 3   date_day     855598 non-null  int32  \n",
      " 4   date_month   855598 non-null  int32  \n",
      " 5   date_year    855598 non-null  int32  \n",
      " 6   date_hour    855598 non-null  int32  \n",
      " 7   date_minute  855598 non-null  int32  \n",
      " 8   date_second  855598 non-null  int32  \n",
      "dtypes: float64(1), int32(8)\n",
      "memory usage: 32.6 MB\n"
     ]
    }
   ],
   "source": [
    "pandas_df.info()"
   ]
  },
  {
   "cell_type": "code",
   "execution_count": 58,
   "metadata": {
    "colab": {
     "base_uri": "https://localhost:8080/"
    },
    "id": "X8g1GiYba-IY",
    "outputId": "70daf59b-a703-4534-eaba-a80a9d03cebb"
   },
   "outputs": [
    {
     "name": "stdout",
     "output_type": "stream",
     "text": [
      "31 ms ± 6.98 ms per loop (mean ± std. dev. of 7 runs, 1 loop each)\n"
     ]
    }
   ],
   "source": [
    "%%timeit \n",
    "\n",
    "pandas_df = pd.read_parquet('write_1.parquet')"
   ]
  },
  {
   "cell_type": "code",
   "execution_count": 59,
   "metadata": {
    "colab": {
     "base_uri": "https://localhost:8080/",
     "height": 419
    },
    "id": "e1VKNEWnbGAR",
    "outputId": "285d2102-9fc1-4360-9021-b29d94882ce9"
   },
   "outputs": [
    {
     "data": {
      "text/html": [
       "<div>\n",
       "<style scoped>\n",
       "    .dataframe tbody tr th:only-of-type {\n",
       "        vertical-align: middle;\n",
       "    }\n",
       "\n",
       "    .dataframe tbody tr th {\n",
       "        vertical-align: top;\n",
       "    }\n",
       "\n",
       "    .dataframe thead th {\n",
       "        text-align: right;\n",
       "    }\n",
       "</style>\n",
       "<table border=\"1\" class=\"dataframe\">\n",
       "  <thead>\n",
       "    <tr style=\"text-align: right;\">\n",
       "      <th></th>\n",
       "      <th>userID</th>\n",
       "      <th>movieID</th>\n",
       "      <th>rating</th>\n",
       "      <th>date_day</th>\n",
       "      <th>date_month</th>\n",
       "      <th>date_year</th>\n",
       "      <th>date_hour</th>\n",
       "      <th>date_minute</th>\n",
       "      <th>date_second</th>\n",
       "    </tr>\n",
       "  </thead>\n",
       "  <tbody>\n",
       "    <tr>\n",
       "      <th>0</th>\n",
       "      <td>75</td>\n",
       "      <td>3</td>\n",
       "      <td>1.0</td>\n",
       "      <td>29</td>\n",
       "      <td>10</td>\n",
       "      <td>2006</td>\n",
       "      <td>23</td>\n",
       "      <td>17</td>\n",
       "      <td>16</td>\n",
       "    </tr>\n",
       "    <tr>\n",
       "      <th>1</th>\n",
       "      <td>75</td>\n",
       "      <td>32</td>\n",
       "      <td>4.5</td>\n",
       "      <td>29</td>\n",
       "      <td>10</td>\n",
       "      <td>2006</td>\n",
       "      <td>23</td>\n",
       "      <td>23</td>\n",
       "      <td>44</td>\n",
       "    </tr>\n",
       "    <tr>\n",
       "      <th>2</th>\n",
       "      <td>75</td>\n",
       "      <td>110</td>\n",
       "      <td>4.0</td>\n",
       "      <td>29</td>\n",
       "      <td>10</td>\n",
       "      <td>2006</td>\n",
       "      <td>23</td>\n",
       "      <td>30</td>\n",
       "      <td>8</td>\n",
       "    </tr>\n",
       "    <tr>\n",
       "      <th>3</th>\n",
       "      <td>75</td>\n",
       "      <td>160</td>\n",
       "      <td>2.0</td>\n",
       "      <td>29</td>\n",
       "      <td>10</td>\n",
       "      <td>2006</td>\n",
       "      <td>23</td>\n",
       "      <td>16</td>\n",
       "      <td>52</td>\n",
       "    </tr>\n",
       "    <tr>\n",
       "      <th>4</th>\n",
       "      <td>75</td>\n",
       "      <td>163</td>\n",
       "      <td>4.0</td>\n",
       "      <td>29</td>\n",
       "      <td>10</td>\n",
       "      <td>2006</td>\n",
       "      <td>23</td>\n",
       "      <td>29</td>\n",
       "      <td>30</td>\n",
       "    </tr>\n",
       "    <tr>\n",
       "      <th>...</th>\n",
       "      <td>...</td>\n",
       "      <td>...</td>\n",
       "      <td>...</td>\n",
       "      <td>...</td>\n",
       "      <td>...</td>\n",
       "      <td>...</td>\n",
       "      <td>...</td>\n",
       "      <td>...</td>\n",
       "      <td>...</td>\n",
       "    </tr>\n",
       "    <tr>\n",
       "      <th>855593</th>\n",
       "      <td>71534</td>\n",
       "      <td>44555</td>\n",
       "      <td>4.0</td>\n",
       "      <td>3</td>\n",
       "      <td>12</td>\n",
       "      <td>2007</td>\n",
       "      <td>3</td>\n",
       "      <td>5</td>\n",
       "      <td>38</td>\n",
       "    </tr>\n",
       "    <tr>\n",
       "      <th>855594</th>\n",
       "      <td>71534</td>\n",
       "      <td>46578</td>\n",
       "      <td>4.0</td>\n",
       "      <td>3</td>\n",
       "      <td>12</td>\n",
       "      <td>2007</td>\n",
       "      <td>2</td>\n",
       "      <td>56</td>\n",
       "      <td>44</td>\n",
       "    </tr>\n",
       "    <tr>\n",
       "      <th>855595</th>\n",
       "      <td>71534</td>\n",
       "      <td>48516</td>\n",
       "      <td>4.5</td>\n",
       "      <td>3</td>\n",
       "      <td>12</td>\n",
       "      <td>2007</td>\n",
       "      <td>2</td>\n",
       "      <td>53</td>\n",
       "      <td>46</td>\n",
       "    </tr>\n",
       "    <tr>\n",
       "      <th>855596</th>\n",
       "      <td>71534</td>\n",
       "      <td>61075</td>\n",
       "      <td>5.0</td>\n",
       "      <td>10</td>\n",
       "      <td>10</td>\n",
       "      <td>2008</td>\n",
       "      <td>9</td>\n",
       "      <td>56</td>\n",
       "      <td>5</td>\n",
       "    </tr>\n",
       "    <tr>\n",
       "      <th>855597</th>\n",
       "      <td>71534</td>\n",
       "      <td>62049</td>\n",
       "      <td>4.5</td>\n",
       "      <td>10</td>\n",
       "      <td>10</td>\n",
       "      <td>2008</td>\n",
       "      <td>9</td>\n",
       "      <td>58</td>\n",
       "      <td>10</td>\n",
       "    </tr>\n",
       "  </tbody>\n",
       "</table>\n",
       "<p>855598 rows × 9 columns</p>\n",
       "</div>"
      ],
      "text/plain": [
       "        userID  movieID  rating  date_day  date_month  date_year  date_hour  \\\n",
       "0           75        3     1.0        29          10       2006         23   \n",
       "1           75       32     4.5        29          10       2006         23   \n",
       "2           75      110     4.0        29          10       2006         23   \n",
       "3           75      160     2.0        29          10       2006         23   \n",
       "4           75      163     4.0        29          10       2006         23   \n",
       "...        ...      ...     ...       ...         ...        ...        ...   \n",
       "855593   71534    44555     4.0         3          12       2007          3   \n",
       "855594   71534    46578     4.0         3          12       2007          2   \n",
       "855595   71534    48516     4.5         3          12       2007          2   \n",
       "855596   71534    61075     5.0        10          10       2008          9   \n",
       "855597   71534    62049     4.5        10          10       2008          9   \n",
       "\n",
       "        date_minute  date_second  \n",
       "0                17           16  \n",
       "1                23           44  \n",
       "2                30            8  \n",
       "3                16           52  \n",
       "4                29           30  \n",
       "...             ...          ...  \n",
       "855593            5           38  \n",
       "855594           56           44  \n",
       "855595           53           46  \n",
       "855596           56            5  \n",
       "855597           58           10  \n",
       "\n",
       "[855598 rows x 9 columns]"
      ]
     },
     "execution_count": 59,
     "metadata": {},
     "output_type": "execute_result"
    }
   ],
   "source": [
    "pandas_df = pd.read_parquet('write_1.parquet')\n",
    "pandas_df"
   ]
  },
  {
   "cell_type": "code",
   "execution_count": 60,
   "metadata": {
    "colab": {
     "base_uri": "https://localhost:8080/"
    },
    "id": "UafReEE9x-pV",
    "outputId": "ff07bc5c-c337-47f2-8faf-d4766193f21a"
   },
   "outputs": [
    {
     "name": "stdout",
     "output_type": "stream",
     "text": [
      "<class 'pandas.core.frame.DataFrame'>\n",
      "RangeIndex: 855598 entries, 0 to 855597\n",
      "Data columns (total 9 columns):\n",
      " #   Column       Non-Null Count   Dtype  \n",
      "---  ------       --------------   -----  \n",
      " 0   userID       855598 non-null  int32  \n",
      " 1   movieID      855598 non-null  int32  \n",
      " 2   rating       855598 non-null  float64\n",
      " 3   date_day     855598 non-null  int32  \n",
      " 4   date_month   855598 non-null  int32  \n",
      " 5   date_year    855598 non-null  int32  \n",
      " 6   date_hour    855598 non-null  int32  \n",
      " 7   date_minute  855598 non-null  int32  \n",
      " 8   date_second  855598 non-null  int32  \n",
      "dtypes: float64(1), int32(8)\n",
      "memory usage: 32.6 MB\n"
     ]
    }
   ],
   "source": [
    "pandas_df.info()"
   ]
  },
  {
   "cell_type": "markdown",
   "metadata": {
    "id": "GGsLsipKxqQx"
   },
   "source": [
    "Как говорили на лекции, может все упасть например тут (когда делаем toPandas). Как перейти к итератору?\n",
    "\n",
    "prefetchPartitions - подготавливать ли следующую партию данных, пока не запросили"
   ]
  },
  {
   "cell_type": "code",
   "execution_count": 61,
   "metadata": {
    "id": "ys7zOtU2xx99"
   },
   "outputs": [],
   "source": [
    "iter_df = df.toLocalIterator()"
   ]
  },
  {
   "cell_type": "code",
   "execution_count": 62,
   "metadata": {
    "id": "zBjM9GcryjUQ"
   },
   "outputs": [],
   "source": [
    "row = iter_df.send(None)"
   ]
  },
  {
   "cell_type": "code",
   "execution_count": 63,
   "metadata": {
    "colab": {
     "base_uri": "https://localhost:8080/"
    },
    "id": "7IxLtM7YzLC3",
    "outputId": "51feadfa-18c4-49f1-95e8-150866e3a10f"
   },
   "outputs": [
    {
     "data": {
      "text/plain": [
       "Row(userID=6393, movieID=2071, rating=3.5, date_day=4, date_month=1, date_year=2006, date_hour=21, date_minute=28, date_second=23)"
      ]
     },
     "execution_count": 63,
     "metadata": {},
     "output_type": "execute_result"
    }
   ],
   "source": [
    "row"
   ]
  },
  {
   "cell_type": "code",
   "execution_count": 64,
   "metadata": {
    "colab": {
     "base_uri": "https://localhost:8080/"
    },
    "id": "Kdzog3jYv-nT",
    "outputId": "652cd527-dced-43e5-89ea-e9cb600adaeb"
   },
   "outputs": [
    {
     "data": {
      "text/plain": [
       "{'userID': 6393,\n",
       " 'movieID': 2071,\n",
       " 'rating': 3.5,\n",
       " 'date_day': 4,\n",
       " 'date_month': 1,\n",
       " 'date_year': 2006,\n",
       " 'date_hour': 21,\n",
       " 'date_minute': 28,\n",
       " 'date_second': 23}"
      ]
     },
     "execution_count": 64,
     "metadata": {},
     "output_type": "execute_result"
    }
   ],
   "source": [
    "row.asDict()"
   ]
  },
  {
   "cell_type": "markdown",
   "metadata": {
    "id": "OLMHUi8ozQl5"
   },
   "source": [
    "Отсюда идея: можно вытягивать данные по 1 записи и записывать в датафрейм. Долго, но зато отработает."
   ]
  },
  {
   "cell_type": "code",
   "execution_count": 65,
   "metadata": {
    "id": "aNvszzqvzhON"
   },
   "outputs": [],
   "source": [
    "iter_df = df.toLocalIterator()"
   ]
  },
  {
   "cell_type": "code",
   "execution_count": 66,
   "metadata": {
    "colab": {
     "base_uri": "https://localhost:8080/"
    },
    "id": "ogfT_1dv0FbK",
    "outputId": "2ff9b8ee-b16f-4708-9808-b735d0773f00"
   },
   "outputs": [
    {
     "name": "stdout",
     "output_type": "stream",
     "text": [
      "855598\n"
     ]
    }
   ],
   "source": [
    "list_of_rows = [value for value in iter_df]\n",
    "print(len(list_of_rows))"
   ]
  },
  {
   "cell_type": "code",
   "execution_count": 67,
   "metadata": {
    "colab": {
     "base_uri": "https://localhost:8080/"
    },
    "id": "Tg3u4mWo0m2x",
    "outputId": "eaa6969d-6169-4637-a6ec-aeff45e0efc2"
   },
   "outputs": [
    {
     "data": {
      "text/plain": [
       "['userID',\n",
       " 'movieID',\n",
       " 'rating',\n",
       " 'date_day',\n",
       " 'date_month',\n",
       " 'date_year',\n",
       " 'date_hour',\n",
       " 'date_minute',\n",
       " 'date_second']"
      ]
     },
     "execution_count": 67,
     "metadata": {},
     "output_type": "execute_result"
    }
   ],
   "source": [
    "df.columns"
   ]
  },
  {
   "cell_type": "code",
   "execution_count": 68,
   "metadata": {
    "id": "ehao9C3m0bSf"
   },
   "outputs": [],
   "source": [
    "pandas_df = pd.DataFrame(list_of_rows, columns=df.columns)"
   ]
  },
  {
   "cell_type": "code",
   "execution_count": 69,
   "metadata": {
    "colab": {
     "base_uri": "https://localhost:8080/"
    },
    "id": "aIEDYahwb9_E",
    "outputId": "421dc795-fcd8-4d81-cd2c-17e80c4fc1ce"
   },
   "outputs": [
    {
     "name": "stdout",
     "output_type": "stream",
     "text": [
      "4.54 s ± 113 ms per loop (mean ± std. dev. of 7 runs, 1 loop each)\n"
     ]
    }
   ],
   "source": [
    "%%timeit\n",
    "\n",
    "iter_df = df.toLocalIterator()\n",
    "list_of_rows = [value for value in iter_df]\n",
    "pandas_df = pd.DataFrame(list_of_rows, columns=df.columns)"
   ]
  },
  {
   "cell_type": "code",
   "execution_count": 70,
   "metadata": {
    "colab": {
     "base_uri": "https://localhost:8080/",
     "height": 419
    },
    "id": "KKr_PXmO0hK1",
    "outputId": "c33be59f-d426-4172-f09a-b17dbf5ced70"
   },
   "outputs": [
    {
     "data": {
      "text/html": [
       "<div>\n",
       "<style scoped>\n",
       "    .dataframe tbody tr th:only-of-type {\n",
       "        vertical-align: middle;\n",
       "    }\n",
       "\n",
       "    .dataframe tbody tr th {\n",
       "        vertical-align: top;\n",
       "    }\n",
       "\n",
       "    .dataframe thead th {\n",
       "        text-align: right;\n",
       "    }\n",
       "</style>\n",
       "<table border=\"1\" class=\"dataframe\">\n",
       "  <thead>\n",
       "    <tr style=\"text-align: right;\">\n",
       "      <th></th>\n",
       "      <th>userID</th>\n",
       "      <th>movieID</th>\n",
       "      <th>rating</th>\n",
       "      <th>date_day</th>\n",
       "      <th>date_month</th>\n",
       "      <th>date_year</th>\n",
       "      <th>date_hour</th>\n",
       "      <th>date_minute</th>\n",
       "      <th>date_second</th>\n",
       "    </tr>\n",
       "  </thead>\n",
       "  <tbody>\n",
       "    <tr>\n",
       "      <th>0</th>\n",
       "      <td>6393</td>\n",
       "      <td>2071</td>\n",
       "      <td>3.5</td>\n",
       "      <td>4</td>\n",
       "      <td>1</td>\n",
       "      <td>2006</td>\n",
       "      <td>21</td>\n",
       "      <td>28</td>\n",
       "      <td>23</td>\n",
       "    </tr>\n",
       "    <tr>\n",
       "      <th>1</th>\n",
       "      <td>1198</td>\n",
       "      <td>33794</td>\n",
       "      <td>4.0</td>\n",
       "      <td>1</td>\n",
       "      <td>9</td>\n",
       "      <td>2007</td>\n",
       "      <td>14</td>\n",
       "      <td>49</td>\n",
       "      <td>33</td>\n",
       "    </tr>\n",
       "    <tr>\n",
       "      <th>2</th>\n",
       "      <td>267</td>\n",
       "      <td>10</td>\n",
       "      <td>3.0</td>\n",
       "      <td>30</td>\n",
       "      <td>1</td>\n",
       "      <td>2006</td>\n",
       "      <td>0</td>\n",
       "      <td>2</td>\n",
       "      <td>17</td>\n",
       "    </tr>\n",
       "    <tr>\n",
       "      <th>3</th>\n",
       "      <td>8168</td>\n",
       "      <td>1923</td>\n",
       "      <td>3.5</td>\n",
       "      <td>4</td>\n",
       "      <td>12</td>\n",
       "      <td>2006</td>\n",
       "      <td>16</td>\n",
       "      <td>40</td>\n",
       "      <td>44</td>\n",
       "    </tr>\n",
       "    <tr>\n",
       "      <th>4</th>\n",
       "      <td>9522</td>\n",
       "      <td>5292</td>\n",
       "      <td>5.0</td>\n",
       "      <td>8</td>\n",
       "      <td>4</td>\n",
       "      <td>2002</td>\n",
       "      <td>1</td>\n",
       "      <td>50</td>\n",
       "      <td>21</td>\n",
       "    </tr>\n",
       "    <tr>\n",
       "      <th>...</th>\n",
       "      <td>...</td>\n",
       "      <td>...</td>\n",
       "      <td>...</td>\n",
       "      <td>...</td>\n",
       "      <td>...</td>\n",
       "      <td>...</td>\n",
       "      <td>...</td>\n",
       "      <td>...</td>\n",
       "      <td>...</td>\n",
       "    </tr>\n",
       "    <tr>\n",
       "      <th>855593</th>\n",
       "      <td>70362</td>\n",
       "      <td>7566</td>\n",
       "      <td>4.0</td>\n",
       "      <td>19</td>\n",
       "      <td>11</td>\n",
       "      <td>2005</td>\n",
       "      <td>6</td>\n",
       "      <td>32</td>\n",
       "      <td>9</td>\n",
       "    </tr>\n",
       "    <tr>\n",
       "      <th>855594</th>\n",
       "      <td>67068</td>\n",
       "      <td>1208</td>\n",
       "      <td>5.0</td>\n",
       "      <td>30</td>\n",
       "      <td>9</td>\n",
       "      <td>1998</td>\n",
       "      <td>22</td>\n",
       "      <td>59</td>\n",
       "      <td>14</td>\n",
       "    </tr>\n",
       "    <tr>\n",
       "      <th>855595</th>\n",
       "      <td>67687</td>\n",
       "      <td>273</td>\n",
       "      <td>4.0</td>\n",
       "      <td>8</td>\n",
       "      <td>4</td>\n",
       "      <td>2007</td>\n",
       "      <td>2</td>\n",
       "      <td>48</td>\n",
       "      <td>46</td>\n",
       "    </tr>\n",
       "    <tr>\n",
       "      <th>855596</th>\n",
       "      <td>66892</td>\n",
       "      <td>2966</td>\n",
       "      <td>4.0</td>\n",
       "      <td>28</td>\n",
       "      <td>6</td>\n",
       "      <td>2006</td>\n",
       "      <td>0</td>\n",
       "      <td>17</td>\n",
       "      <td>31</td>\n",
       "    </tr>\n",
       "    <tr>\n",
       "      <th>855597</th>\n",
       "      <td>70878</td>\n",
       "      <td>2022</td>\n",
       "      <td>4.0</td>\n",
       "      <td>25</td>\n",
       "      <td>8</td>\n",
       "      <td>2007</td>\n",
       "      <td>7</td>\n",
       "      <td>31</td>\n",
       "      <td>53</td>\n",
       "    </tr>\n",
       "  </tbody>\n",
       "</table>\n",
       "<p>855598 rows × 9 columns</p>\n",
       "</div>"
      ],
      "text/plain": [
       "        userID  movieID  rating  date_day  date_month  date_year  date_hour  \\\n",
       "0         6393     2071     3.5         4           1       2006         21   \n",
       "1         1198    33794     4.0         1           9       2007         14   \n",
       "2          267       10     3.0        30           1       2006          0   \n",
       "3         8168     1923     3.5         4          12       2006         16   \n",
       "4         9522     5292     5.0         8           4       2002          1   \n",
       "...        ...      ...     ...       ...         ...        ...        ...   \n",
       "855593   70362     7566     4.0        19          11       2005          6   \n",
       "855594   67068     1208     5.0        30           9       1998         22   \n",
       "855595   67687      273     4.0         8           4       2007          2   \n",
       "855596   66892     2966     4.0        28           6       2006          0   \n",
       "855597   70878     2022     4.0        25           8       2007          7   \n",
       "\n",
       "        date_minute  date_second  \n",
       "0                28           23  \n",
       "1                49           33  \n",
       "2                 2           17  \n",
       "3                40           44  \n",
       "4                50           21  \n",
       "...             ...          ...  \n",
       "855593           32            9  \n",
       "855594           59           14  \n",
       "855595           48           46  \n",
       "855596           17           31  \n",
       "855597           31           53  \n",
       "\n",
       "[855598 rows x 9 columns]"
      ]
     },
     "execution_count": 70,
     "metadata": {},
     "output_type": "execute_result"
    }
   ],
   "source": [
    "pandas_df"
   ]
  },
  {
   "cell_type": "code",
   "execution_count": 71,
   "metadata": {
    "colab": {
     "base_uri": "https://localhost:8080/"
    },
    "id": "1jHiwbiZx7Ks",
    "outputId": "1b2d0400-b968-4029-bf29-4e6b65279981"
   },
   "outputs": [
    {
     "name": "stdout",
     "output_type": "stream",
     "text": [
      "<class 'pandas.core.frame.DataFrame'>\n",
      "RangeIndex: 855598 entries, 0 to 855597\n",
      "Data columns (total 9 columns):\n",
      " #   Column       Non-Null Count   Dtype  \n",
      "---  ------       --------------   -----  \n",
      " 0   userID       855598 non-null  int64  \n",
      " 1   movieID      855598 non-null  int64  \n",
      " 2   rating       855598 non-null  float64\n",
      " 3   date_day     855598 non-null  int64  \n",
      " 4   date_month   855598 non-null  int64  \n",
      " 5   date_year    855598 non-null  int64  \n",
      " 6   date_hour    855598 non-null  int64  \n",
      " 7   date_minute  855598 non-null  int64  \n",
      " 8   date_second  855598 non-null  int64  \n",
      "dtypes: float64(1), int64(8)\n",
      "memory usage: 58.7 MB\n"
     ]
    }
   ],
   "source": [
    "pandas_df.info()"
   ]
  },
  {
   "cell_type": "markdown",
   "metadata": {
    "id": "tyNzrNDW3FI4"
   },
   "source": [
    "### show"
   ]
  },
  {
   "cell_type": "code",
   "execution_count": 72,
   "metadata": {
    "colab": {
     "base_uri": "https://localhost:8080/"
    },
    "id": "vYNJKbQJ2up1",
    "outputId": "384f3b08-fec3-42a3-910d-1b8fe6ecd306"
   },
   "outputs": [
    {
     "name": "stdout",
     "output_type": "stream",
     "text": [
      "+------+-------+------+--------+----------+---------+---------+-----------+-----------+\n",
      "|userID|movieID|rating|date_day|date_month|date_year|date_hour|date_minute|date_second|\n",
      "+------+-------+------+--------+----------+---------+---------+-----------+-----------+\n",
      "|  6393|   2071|   3.5|       4|         1|     2006|       21|         28|         23|\n",
      "|  1198|  33794|   4.0|       1|         9|     2007|       14|         49|         33|\n",
      "|   267|     10|   3.0|      30|         1|     2006|        0|          2|         17|\n",
      "|  8168|   1923|   3.5|       4|        12|     2006|       16|         40|         44|\n",
      "|  9522|   5292|   5.0|       8|         4|     2002|        1|         50|         21|\n",
      "|  2692|    277|   2.0|      16|         7|     2008|       18|         32|         20|\n",
      "|  1224|    832|   3.5|      17|         5|     2003|        2|          5|         23|\n",
      "| 10674|   1917|   2.5|      11|        10|     2007|        0|         15|         16|\n",
      "|  8048|    235|   4.0|      29|         3|     2005|       14|         43|         29|\n",
      "|   170|   1387|   3.0|      30|        10|     2006|       12|         45|         44|\n",
      "+------+-------+------+--------+----------+---------+---------+-----------+-----------+\n",
      "only showing top 10 rows\n",
      "\n"
     ]
    }
   ],
   "source": [
    "df.show(10)"
   ]
  },
  {
   "cell_type": "markdown",
   "metadata": {
    "id": "-ymp1StL3aFi"
   },
   "source": [
    "Обрезаем до 2 символов"
   ]
  },
  {
   "cell_type": "code",
   "execution_count": 73,
   "metadata": {
    "colab": {
     "base_uri": "https://localhost:8080/"
    },
    "id": "ZFXsxrXH3NQS",
    "outputId": "ebcd9fe0-229e-4038-e419-35eebafb3875"
   },
   "outputs": [
    {
     "name": "stdout",
     "output_type": "stream",
     "text": [
      "+------+-------+------+--------+----------+---------+---------+-----------+-----------+\n",
      "|userID|movieID|rating|date_day|date_month|date_year|date_hour|date_minute|date_second|\n",
      "+------+-------+------+--------+----------+---------+---------+-----------+-----------+\n",
      "|    63|     20|    3.|       4|         1|       20|       21|         28|         23|\n",
      "|    11|     33|    4.|       1|         9|       20|       14|         49|         33|\n",
      "|    26|     10|    3.|      30|         1|       20|        0|          2|         17|\n",
      "|    81|     19|    3.|       4|        12|       20|       16|         40|         44|\n",
      "|    95|     52|    5.|       8|         4|       20|        1|         50|         21|\n",
      "|    26|     27|    2.|      16|         7|       20|       18|         32|         20|\n",
      "|    12|     83|    3.|      17|         5|       20|        2|          5|         23|\n",
      "|    10|     19|    2.|      11|        10|       20|        0|         15|         16|\n",
      "|    80|     23|    4.|      29|         3|       20|       14|         43|         29|\n",
      "|    17|     13|    3.|      30|        10|       20|       12|         45|         44|\n",
      "+------+-------+------+--------+----------+---------+---------+-----------+-----------+\n",
      "only showing top 10 rows\n",
      "\n"
     ]
    }
   ],
   "source": [
    "df.show(10, truncate=2)"
   ]
  },
  {
   "cell_type": "markdown",
   "metadata": {
    "id": "oMoppJfS3klG"
   },
   "source": [
    "вертикальное отображение"
   ]
  },
  {
   "cell_type": "code",
   "execution_count": 74,
   "metadata": {
    "colab": {
     "base_uri": "https://localhost:8080/"
    },
    "id": "LCuKzAS83dM4",
    "outputId": "37e71c07-6e47-49dc-85bc-80a8c2020fb2"
   },
   "outputs": [
    {
     "name": "stdout",
     "output_type": "stream",
     "text": [
      "-RECORD 0------------\n",
      " userID      | 6393  \n",
      " movieID     | 2071  \n",
      " rating      | 3.5   \n",
      " date_day    | 4     \n",
      " date_month  | 1     \n",
      " date_year   | 2006  \n",
      " date_hour   | 21    \n",
      " date_minute | 28    \n",
      " date_second | 23    \n",
      "-RECORD 1------------\n",
      " userID      | 1198  \n",
      " movieID     | 33794 \n",
      " rating      | 4.0   \n",
      " date_day    | 1     \n",
      " date_month  | 9     \n",
      " date_year   | 2007  \n",
      " date_hour   | 14    \n",
      " date_minute | 49    \n",
      " date_second | 33    \n",
      "-RECORD 2------------\n",
      " userID      | 267   \n",
      " movieID     | 10    \n",
      " rating      | 3.0   \n",
      " date_day    | 30    \n",
      " date_month  | 1     \n",
      " date_year   | 2006  \n",
      " date_hour   | 0     \n",
      " date_minute | 2     \n",
      " date_second | 17    \n",
      "-RECORD 3------------\n",
      " userID      | 8168  \n",
      " movieID     | 1923  \n",
      " rating      | 3.5   \n",
      " date_day    | 4     \n",
      " date_month  | 12    \n",
      " date_year   | 2006  \n",
      " date_hour   | 16    \n",
      " date_minute | 40    \n",
      " date_second | 44    \n",
      "-RECORD 4------------\n",
      " userID      | 9522  \n",
      " movieID     | 5292  \n",
      " rating      | 5.0   \n",
      " date_day    | 8     \n",
      " date_month  | 4     \n",
      " date_year   | 2002  \n",
      " date_hour   | 1     \n",
      " date_minute | 50    \n",
      " date_second | 21    \n",
      "-RECORD 5------------\n",
      " userID      | 2692  \n",
      " movieID     | 277   \n",
      " rating      | 2.0   \n",
      " date_day    | 16    \n",
      " date_month  | 7     \n",
      " date_year   | 2008  \n",
      " date_hour   | 18    \n",
      " date_minute | 32    \n",
      " date_second | 20    \n",
      "-RECORD 6------------\n",
      " userID      | 1224  \n",
      " movieID     | 832   \n",
      " rating      | 3.5   \n",
      " date_day    | 17    \n",
      " date_month  | 5     \n",
      " date_year   | 2003  \n",
      " date_hour   | 2     \n",
      " date_minute | 5     \n",
      " date_second | 23    \n",
      "-RECORD 7------------\n",
      " userID      | 10674 \n",
      " movieID     | 1917  \n",
      " rating      | 2.5   \n",
      " date_day    | 11    \n",
      " date_month  | 10    \n",
      " date_year   | 2007  \n",
      " date_hour   | 0     \n",
      " date_minute | 15    \n",
      " date_second | 16    \n",
      "-RECORD 8------------\n",
      " userID      | 8048  \n",
      " movieID     | 235   \n",
      " rating      | 4.0   \n",
      " date_day    | 29    \n",
      " date_month  | 3     \n",
      " date_year   | 2005  \n",
      " date_hour   | 14    \n",
      " date_minute | 43    \n",
      " date_second | 29    \n",
      "-RECORD 9------------\n",
      " userID      | 170   \n",
      " movieID     | 1387  \n",
      " rating      | 3.0   \n",
      " date_day    | 30    \n",
      " date_month  | 10    \n",
      " date_year   | 2006  \n",
      " date_hour   | 12    \n",
      " date_minute | 45    \n",
      " date_second | 44    \n",
      "only showing top 10 rows\n",
      "\n"
     ]
    }
   ],
   "source": [
    "df.show(10, vertical=True)"
   ]
  },
  {
   "cell_type": "markdown",
   "metadata": {
    "id": "oVFKxBsuFU5i"
   },
   "source": [
    "### select\n",
    "\n",
    "В PySpark функция `select()` используется для выбора одного, нескольких столбцов по индексу, всех столбцов из списка и вложенных столбцов из фрейма данных. Функция PySpark `select()` является функцией преобразования, поэтому она возвращает новый фрейм данных с выбранными столбцами."
   ]
  },
  {
   "cell_type": "code",
   "execution_count": 75,
   "metadata": {
    "colab": {
     "base_uri": "https://localhost:8080/"
    },
    "id": "dliaTxGxFnzr",
    "outputId": "6f6223fe-187f-479e-f019-9458ddc3abdf"
   },
   "outputs": [
    {
     "data": {
      "text/plain": [
       "['userID',\n",
       " 'movieID',\n",
       " 'rating',\n",
       " 'date_day',\n",
       " 'date_month',\n",
       " 'date_year',\n",
       " 'date_hour',\n",
       " 'date_minute',\n",
       " 'date_second']"
      ]
     },
     "execution_count": 75,
     "metadata": {},
     "output_type": "execute_result"
    }
   ],
   "source": [
    "df.columns"
   ]
  },
  {
   "cell_type": "markdown",
   "metadata": {
    "id": "cInhSbcBGtKn"
   },
   "source": [
    "Pandas-style тут не приветствуется:"
   ]
  },
  {
   "cell_type": "code",
   "execution_count": 76,
   "metadata": {
    "colab": {
     "base_uri": "https://localhost:8080/",
     "height": 164
    },
    "id": "Ms8Gqj0WGpOJ",
    "outputId": "99d37427-bb24-455c-b336-767cc2570c07"
   },
   "outputs": [],
   "source": [
    "# df.userID.show(5) # 'Column' object is not callable"
   ]
  },
  {
   "cell_type": "code",
   "execution_count": 77,
   "metadata": {
    "colab": {
     "base_uri": "https://localhost:8080/"
    },
    "id": "rSF9GuB6Fwv7",
    "outputId": "8b88bd5e-7430-4760-eef8-6ee0d924fb87"
   },
   "outputs": [
    {
     "name": "stdout",
     "output_type": "stream",
     "text": [
      "+------+\n",
      "|userID|\n",
      "+------+\n",
      "| 10231|\n",
      "| 10231|\n",
      "| 10231|\n",
      "| 10231|\n",
      "| 10231|\n",
      "+------+\n",
      "only showing top 5 rows\n",
      "\n"
     ]
    }
   ],
   "source": [
    "df.select('userID').show(5)"
   ]
  },
  {
   "cell_type": "markdown",
   "metadata": {
    "id": "b8s0NRdtGHcZ"
   },
   "source": [
    "Куча вариантов, выбирайте любой"
   ]
  },
  {
   "cell_type": "code",
   "execution_count": 78,
   "metadata": {
    "colab": {
     "base_uri": "https://localhost:8080/"
    },
    "id": "8sUEL7yHF4mA",
    "outputId": "429ef80c-3843-47b7-96bd-642fa932daf1"
   },
   "outputs": [
    {
     "name": "stdout",
     "output_type": "stream",
     "text": [
      "+------+------+\n",
      "|userID|rating|\n",
      "+------+------+\n",
      "| 11255|   0.5|\n",
      "|  3057|   0.5|\n",
      "|  2429|   4.5|\n",
      "|  2429|   4.5|\n",
      "|  2429|   4.5|\n",
      "+------+------+\n",
      "only showing top 5 rows\n",
      "\n"
     ]
    }
   ],
   "source": [
    "df.select('userID', 'rating').show(5)"
   ]
  },
  {
   "cell_type": "code",
   "execution_count": 79,
   "metadata": {
    "colab": {
     "base_uri": "https://localhost:8080/"
    },
    "id": "KynOoDxUF-DU",
    "outputId": "64b69d88-9610-493f-e0da-c1213a7934e7"
   },
   "outputs": [
    {
     "name": "stdout",
     "output_type": "stream",
     "text": [
      "+------+------+\n",
      "|userID|rating|\n",
      "+------+------+\n",
      "| 11255|   0.5|\n",
      "|  3057|   0.5|\n",
      "|  2429|   4.5|\n",
      "|  2429|   4.5|\n",
      "|  2429|   4.5|\n",
      "+------+------+\n",
      "only showing top 5 rows\n",
      "\n"
     ]
    }
   ],
   "source": [
    "df.select(['userID', 'rating']).show(5)"
   ]
  },
  {
   "cell_type": "code",
   "execution_count": 80,
   "metadata": {
    "colab": {
     "base_uri": "https://localhost:8080/"
    },
    "id": "AZrRyJPLGcHU",
    "outputId": "00be7187-cbbc-46b1-d5d2-01ddeed90999"
   },
   "outputs": [
    {
     "name": "stdout",
     "output_type": "stream",
     "text": [
      "+------+------+\n",
      "|userID|rating|\n",
      "+------+------+\n",
      "| 11255|   0.5|\n",
      "|  3057|   0.5|\n",
      "|  2429|   4.5|\n",
      "|  2429|   4.5|\n",
      "|  2429|   4.5|\n",
      "+------+------+\n",
      "only showing top 5 rows\n",
      "\n"
     ]
    }
   ],
   "source": [
    "df.select(df.userID, df.rating).show(5)"
   ]
  },
  {
   "cell_type": "code",
   "execution_count": 81,
   "metadata": {
    "colab": {
     "base_uri": "https://localhost:8080/"
    },
    "id": "YNkrq1TUGwSb",
    "outputId": "760db1b1-dcaa-43dd-952a-867f5e75aa1f"
   },
   "outputs": [
    {
     "name": "stdout",
     "output_type": "stream",
     "text": [
      "+------+------+\n",
      "|userID|rating|\n",
      "+------+------+\n",
      "| 11255|   0.5|\n",
      "|  3057|   0.5|\n",
      "|  2429|   4.5|\n",
      "|  2429|   4.5|\n",
      "|  2429|   4.5|\n",
      "+------+------+\n",
      "only showing top 5 rows\n",
      "\n"
     ]
    }
   ],
   "source": [
    "df.select(df['userID'], df['rating']).show(5)"
   ]
  },
  {
   "cell_type": "code",
   "execution_count": 82,
   "metadata": {
    "colab": {
     "base_uri": "https://localhost:8080/"
    },
    "id": "La3Q3k01GZ3-",
    "outputId": "4b845fb9-f9f9-45cc-b5cc-af7058649f1e"
   },
   "outputs": [
    {
     "name": "stdout",
     "output_type": "stream",
     "text": [
      "+------+------+\n",
      "|userID|rating|\n",
      "+------+------+\n",
      "| 11255|   0.5|\n",
      "|  3057|   0.5|\n",
      "|  2429|   4.5|\n",
      "|  2429|   4.5|\n",
      "|  2429|   4.5|\n",
      "+------+------+\n",
      "only showing top 5 rows\n",
      "\n"
     ]
    }
   ],
   "source": [
    "df.select(F.col('userID'), F.col('rating')).show(5)"
   ]
  },
  {
   "cell_type": "markdown",
   "metadata": {
    "id": "2Pfledp7JxFo"
   },
   "source": [
    "можно налету переименовать столбец"
   ]
  },
  {
   "cell_type": "code",
   "execution_count": 83,
   "metadata": {
    "colab": {
     "base_uri": "https://localhost:8080/"
    },
    "id": "23c1EFh0JgCm",
    "outputId": "968550f1-20b5-4b5d-cbbd-9d64ad654b25"
   },
   "outputs": [
    {
     "name": "stdout",
     "output_type": "stream",
     "text": [
      "+------+----+\n",
      "|userID|mark|\n",
      "+------+----+\n",
      "| 11255| 0.5|\n",
      "|  3057| 0.5|\n",
      "|  2429| 4.5|\n",
      "|  2429| 4.5|\n",
      "|  2429| 4.5|\n",
      "+------+----+\n",
      "only showing top 5 rows\n",
      "\n"
     ]
    }
   ],
   "source": [
    "df.select(df.userID, df.rating.alias('mark')).show(5)"
   ]
  },
  {
   "cell_type": "code",
   "execution_count": 84,
   "metadata": {
    "colab": {
     "base_uri": "https://localhost:8080/"
    },
    "id": "-15TG7h8G-7L",
    "outputId": "b4f25e3d-fdfd-4ce7-d803-838cc7e773c7"
   },
   "outputs": [
    {
     "name": "stdout",
     "output_type": "stream",
     "text": [
      "+--------+\n",
      "|date_day|\n",
      "+--------+\n",
      "|      19|\n",
      "|      19|\n",
      "|      19|\n",
      "|      19|\n",
      "|      19|\n",
      "+--------+\n",
      "only showing top 5 rows\n",
      "\n"
     ]
    }
   ],
   "source": [
    "# Регулярки:\n",
    "df.select(df.colRegex('`d+.*y`')).show(5)"
   ]
  },
  {
   "cell_type": "markdown",
   "metadata": {
    "id": "6zRsPk3PItus"
   },
   "source": [
    "примеры с другим датафреймом, где структура сложнее"
   ]
  },
  {
   "cell_type": "code",
   "execution_count": 85,
   "metadata": {
    "colab": {
     "base_uri": "https://localhost:8080/"
    },
    "id": "0-EHUbgMJATb",
    "outputId": "ed9309b3-5a8e-4d47-c29f-22f5c82d7e86"
   },
   "outputs": [
    {
     "name": "stdout",
     "output_type": "stream",
     "text": [
      "root\n",
      " |-- name: struct (nullable = true)\n",
      " |    |-- firstname: string (nullable = true)\n",
      " |    |-- middlename: string (nullable = true)\n",
      " |    |-- lastname: string (nullable = true)\n",
      " |-- id: string (nullable = true)\n",
      " |-- gender: string (nullable = true)\n",
      " |-- salary: integer (nullable = true)\n",
      "\n",
      "+--------------------+-----+------+------+\n",
      "|name                |id   |gender|salary|\n",
      "+--------------------+-----+------+------+\n",
      "|{James, , Smith}    |36636|M     |3100  |\n",
      "|{Michael, Rose, }   |40288|M     |4300  |\n",
      "|{Robert, , Williams}|42114|M     |1400  |\n",
      "|{Maria, Anne, Jones}|39192|F     |5500  |\n",
      "|{Jen, Mary, Brown}  |     |F     |-1    |\n",
      "+--------------------+-----+------+------+\n",
      "\n"
     ]
    }
   ],
   "source": [
    "structureData = [\n",
    "    (('James', '', 'Smith'), '36636', 'M', 3100),\n",
    "    (('Michael', 'Rose', ''), '40288', 'M', 4300),\n",
    "    (('Robert', '', 'Williams'), '42114', 'M', 1400),\n",
    "    (('Maria', 'Anne', 'Jones'), '39192', 'F', 5500),\n",
    "    (('Jen', 'Mary', 'Brown'), '', 'F', -1)\n",
    "]\n",
    "\n",
    "structureSchema = StructType([\n",
    "        StructField('name', StructType([\n",
    "             StructField('firstname', StringType(), True),\n",
    "             StructField('middlename', StringType(), True),\n",
    "             StructField('lastname', StringType(), True)\n",
    "            ])),\n",
    "        StructField('id', StringType(), True),\n",
    "        StructField('gender', StringType(), True),\n",
    "        StructField('salary', IntegerType(), True)\n",
    "    ])\n",
    "\n",
    "df2 = spark.createDataFrame(data=structureData,schema=structureSchema)\n",
    "df2.printSchema()\n",
    "df2.show(truncate=False)"
   ]
  },
  {
   "cell_type": "code",
   "execution_count": 86,
   "metadata": {
    "colab": {
     "base_uri": "https://localhost:8080/"
    },
    "id": "dOKRrq3OJBub",
    "outputId": "897ef423-f2e2-46fc-fdde-643401f094a0"
   },
   "outputs": [
    {
     "name": "stdout",
     "output_type": "stream",
     "text": [
      "+--------------------+\n",
      "|                name|\n",
      "+--------------------+\n",
      "|    {James, , Smith}|\n",
      "|   {Michael, Rose, }|\n",
      "|{Robert, , Williams}|\n",
      "|{Maria, Anne, Jones}|\n",
      "|  {Jen, Mary, Brown}|\n",
      "+--------------------+\n",
      "\n"
     ]
    }
   ],
   "source": [
    "df2.select('name').show(5)"
   ]
  },
  {
   "cell_type": "code",
   "execution_count": 87,
   "metadata": {
    "colab": {
     "base_uri": "https://localhost:8080/"
    },
    "id": "t7wWDSc0JGGH",
    "outputId": "f9a0064e-52c8-4cd1-e14c-9143796bcc61"
   },
   "outputs": [
    {
     "name": "stdout",
     "output_type": "stream",
     "text": [
      "+--------+\n",
      "|lastname|\n",
      "+--------+\n",
      "|   Smith|\n",
      "|        |\n",
      "|Williams|\n",
      "|   Jones|\n",
      "|   Brown|\n",
      "+--------+\n",
      "\n"
     ]
    }
   ],
   "source": [
    "df2.select('name.lastname').show(5)"
   ]
  },
  {
   "cell_type": "code",
   "execution_count": 88,
   "metadata": {
    "colab": {
     "base_uri": "https://localhost:8080/"
    },
    "id": "RCtpj47VJLhf",
    "outputId": "367ff968-cea4-4dff-ebf4-b678e99267c1"
   },
   "outputs": [
    {
     "name": "stdout",
     "output_type": "stream",
     "text": [
      "+---------+--------+\n",
      "|firstname|lastname|\n",
      "+---------+--------+\n",
      "|    James|   Smith|\n",
      "|  Michael|        |\n",
      "|   Robert|Williams|\n",
      "|    Maria|   Jones|\n",
      "|      Jen|   Brown|\n",
      "+---------+--------+\n",
      "\n"
     ]
    }
   ],
   "source": [
    "df2.select('name.firstname', 'name.lastname').show(5)"
   ]
  },
  {
   "cell_type": "markdown",
   "metadata": {
    "id": "jnz1-TbQVWhF"
   },
   "source": [
    "### withColumn\n",
    "\n",
    "PySpark `withColumn()` - это функция преобразования (transform), которая используется для изменения значения, преобразования типа данных существующего столбца, создания нового столбца и многого другого. Поговорим о часто используемых операциях со столбцами данных PySpark, используя примеры."
   ]
  },
  {
   "cell_type": "code",
   "execution_count": 89,
   "metadata": {
    "colab": {
     "base_uri": "https://localhost:8080/"
    },
    "id": "gUhukrY0Y0Q2",
    "outputId": "6f29efb9-5c50-42fc-a550-f1fb46a2049e"
   },
   "outputs": [
    {
     "name": "stdout",
     "output_type": "stream",
     "text": [
      "root\n",
      " |-- userID: integer (nullable = true)\n",
      " |-- movieID: integer (nullable = true)\n",
      " |-- rating: double (nullable = true)\n",
      " |-- date_day: integer (nullable = true)\n",
      " |-- date_month: integer (nullable = true)\n",
      " |-- date_year: integer (nullable = true)\n",
      " |-- date_hour: integer (nullable = true)\n",
      " |-- date_minute: integer (nullable = true)\n",
      " |-- date_second: integer (nullable = true)\n",
      "\n"
     ]
    }
   ],
   "source": [
    "df.printSchema()"
   ]
  },
  {
   "cell_type": "markdown",
   "metadata": {
    "id": "c4biHC1yYv7w"
   },
   "source": [
    "Меняем тип данных"
   ]
  },
  {
   "cell_type": "code",
   "execution_count": 90,
   "metadata": {
    "colab": {
     "base_uri": "https://localhost:8080/"
    },
    "id": "xGHnOBJ1YrGA",
    "outputId": "8ad5eb0f-5f62-4a0a-bd37-408ede93b098"
   },
   "outputs": [
    {
     "name": "stdout",
     "output_type": "stream",
     "text": [
      "root\n",
      " |-- userID: integer (nullable = true)\n",
      " |-- movieID: integer (nullable = true)\n",
      " |-- rating: double (nullable = true)\n",
      " |-- date_day: integer (nullable = true)\n",
      " |-- date_month: string (nullable = true)\n",
      " |-- date_year: integer (nullable = true)\n",
      " |-- date_hour: integer (nullable = true)\n",
      " |-- date_minute: integer (nullable = true)\n",
      " |-- date_second: integer (nullable = true)\n",
      "\n"
     ]
    }
   ],
   "source": [
    "df.withColumn('date_month', F.col('date_month').cast('String')).printSchema()"
   ]
  },
  {
   "cell_type": "markdown",
   "metadata": {
    "id": "dlM-ozjcZaJT"
   },
   "source": [
    "Модифицировать столбец/создать новый"
   ]
  },
  {
   "cell_type": "code",
   "execution_count": 91,
   "metadata": {
    "colab": {
     "base_uri": "https://localhost:8080/"
    },
    "id": "6afdpcQrZMWX",
    "outputId": "31d4a77e-3c05-4248-cb74-6993abdde05e"
   },
   "outputs": [
    {
     "name": "stdout",
     "output_type": "stream",
     "text": [
      "+------+-------+------+--------+----------+---------+---------+-----------+-----------+-----------+\n",
      "|userID|movieID|rating|date_day|date_month|date_year|date_hour|date_minute|date_second|rating_x_10|\n",
      "+------+-------+------+--------+----------+---------+---------+-----------+-----------+-----------+\n",
      "|  6393|   2071|   3.5|       4|         1|     2006|       21|         28|         23|       35.0|\n",
      "|  1198|  33794|   4.0|       1|         9|     2007|       14|         49|         33|       40.0|\n",
      "|   267|     10|   3.0|      30|         1|     2006|        0|          2|         17|       30.0|\n",
      "|  8168|   1923|   3.5|       4|        12|     2006|       16|         40|         44|       35.0|\n",
      "|  9522|   5292|   5.0|       8|         4|     2002|        1|         50|         21|       50.0|\n",
      "+------+-------+------+--------+----------+---------+---------+-----------+-----------+-----------+\n",
      "only showing top 5 rows\n",
      "\n"
     ]
    }
   ],
   "source": [
    "df.withColumn('rating_x_10', F.col('rating') * 10).show(5)"
   ]
  },
  {
   "cell_type": "markdown",
   "metadata": {
    "id": "jSFyjtL6Z_WT"
   },
   "source": [
    "Делаем 2 константных столбца"
   ]
  },
  {
   "cell_type": "code",
   "execution_count": 92,
   "metadata": {
    "colab": {
     "base_uri": "https://localhost:8080/"
    },
    "id": "5tjCFJKAaLnO",
    "outputId": "a8aba11c-6c81-48e7-8373-bdef97ea10e0"
   },
   "outputs": [
    {
     "name": "stdout",
     "output_type": "stream",
     "text": [
      "+------+-------+------+--------+----------+---------+---------+-----------+-----------+-----+-----+\n",
      "|userID|movieID|rating|date_day|date_month|date_year|date_hour|date_minute|date_second|fix_1|fix_2|\n",
      "+------+-------+------+--------+----------+---------+---------+-----------+-----------+-----+-----+\n",
      "|  6393|   2071|   3.5|       4|         1|     2006|       21|         28|         23|    1|    2|\n",
      "|  1198|  33794|   4.0|       1|         9|     2007|       14|         49|         33|    1|    2|\n",
      "|   267|     10|   3.0|      30|         1|     2006|        0|          2|         17|    1|    2|\n",
      "|  8168|   1923|   3.5|       4|        12|     2006|       16|         40|         44|    1|    2|\n",
      "|  9522|   5292|   5.0|       8|         4|     2002|        1|         50|         21|    1|    2|\n",
      "+------+-------+------+--------+----------+---------+---------+-----------+-----------+-----+-----+\n",
      "only showing top 5 rows\n",
      "\n"
     ]
    }
   ],
   "source": [
    "df.withColumn('fix_1', F.lit(1)).withColumn('fix_2', F.lit(2)).show(5)"
   ]
  },
  {
   "cell_type": "markdown",
   "metadata": {
    "id": "Wq7AyqA7ajCw"
   },
   "source": [
    "### withColumnsRenamed\n",
    "\n",
    "Предыдущий вариант не давал возможности переименовать столбцы, это можно сделать иначе"
   ]
  },
  {
   "cell_type": "code",
   "execution_count": 93,
   "metadata": {
    "colab": {
     "base_uri": "https://localhost:8080/"
    },
    "id": "mhNQL1UaaoWn",
    "outputId": "2c66bfe6-661c-4494-aad0-de73ef9cc227"
   },
   "outputs": [
    {
     "name": "stdout",
     "output_type": "stream",
     "text": [
      "+------+-------+----+--------+----------+---------+---------+-----------+-----------+\n",
      "|userID|movieID|mark|date_day|date_month|date_year|date_hour|date_minute|date_second|\n",
      "+------+-------+----+--------+----------+---------+---------+-----------+-----------+\n",
      "|  6393|   2071| 3.5|       4|         1|     2006|       21|         28|         23|\n",
      "|  1198|  33794| 4.0|       1|         9|     2007|       14|         49|         33|\n",
      "|   267|     10| 3.0|      30|         1|     2006|        0|          2|         17|\n",
      "|  8168|   1923| 3.5|       4|        12|     2006|       16|         40|         44|\n",
      "|  9522|   5292| 5.0|       8|         4|     2002|        1|         50|         21|\n",
      "+------+-------+----+--------+----------+---------+---------+-----------+-----------+\n",
      "only showing top 5 rows\n",
      "\n"
     ]
    }
   ],
   "source": [
    "df.withColumnRenamed('rating', 'mark').show(5)"
   ]
  },
  {
   "cell_type": "markdown",
   "metadata": {
    "id": "i7XsfsdNbq_M"
   },
   "source": [
    "### filter & where\n",
    "\n",
    "Функция PySpark `filter()` используется для фильтрации строк из RDD / DataFrame на основе заданного условия или выражения SQL, вы также можете использовать предложение `where()` вместо `filter()` обе эти функции работают аналогично."
   ]
  },
  {
   "cell_type": "markdown",
   "metadata": {
    "id": "IVbRAIZ-eWm3"
   },
   "source": [
    "1 условие"
   ]
  },
  {
   "cell_type": "code",
   "execution_count": 94,
   "metadata": {
    "colab": {
     "base_uri": "https://localhost:8080/"
    },
    "id": "SFzp724CddPb",
    "outputId": "e876e8eb-2457-4431-b558-7eb2845e269a"
   },
   "outputs": [
    {
     "name": "stdout",
     "output_type": "stream",
     "text": [
      "+------+-------+------+--------+----------+---------+---------+-----------+-----------+\n",
      "|userID|movieID|rating|date_day|date_month|date_year|date_hour|date_minute|date_second|\n",
      "+------+-------+------+--------+----------+---------+---------+-----------+-----------+\n",
      "|  8114|   4351|   5.0|      13|         6|     2001|       23|         52|         57|\n",
      "|  8892|    529|   5.0|       2|         7|     2004|       15|         11|         12|\n",
      "| 10791|   4238|   5.0|       3|         8|     2002|        1|         20|         31|\n",
      "|  6227|     32|   5.0|       6|         8|     2006|       18|         58|         11|\n",
      "|  4895|  27728|   5.0|       1|         1|     2006|        4|         15|          2|\n",
      "+------+-------+------+--------+----------+---------+---------+-----------+-----------+\n",
      "only showing top 5 rows\n",
      "\n"
     ]
    }
   ],
   "source": [
    "df.filter(df.rating == 5.0).show(5)"
   ]
  },
  {
   "cell_type": "code",
   "execution_count": 95,
   "metadata": {
    "colab": {
     "base_uri": "https://localhost:8080/"
    },
    "id": "vHYMQDRveND2",
    "outputId": "a4ea7878-553b-4d9d-a285-a7d7a427a713"
   },
   "outputs": [
    {
     "name": "stdout",
     "output_type": "stream",
     "text": [
      "+------+-------+------+--------+----------+---------+---------+-----------+-----------+\n",
      "|userID|movieID|rating|date_day|date_month|date_year|date_hour|date_minute|date_second|\n",
      "+------+-------+------+--------+----------+---------+---------+-----------+-----------+\n",
      "|  6393|   2071|   3.5|       4|         1|     2006|       21|         28|         23|\n",
      "|  1198|  33794|   4.0|       1|         9|     2007|       14|         49|         33|\n",
      "|   267|     10|   3.0|      30|         1|     2006|        0|          2|         17|\n",
      "|  8168|   1923|   3.5|       4|        12|     2006|       16|         40|         44|\n",
      "|  7248|  32371|   4.0|      14|         1|     2008|        9|         33|         29|\n",
      "+------+-------+------+--------+----------+---------+---------+-----------+-----------+\n",
      "only showing top 5 rows\n",
      "\n"
     ]
    }
   ],
   "source": [
    "df.filter(~(df.rating == 5.0)).show(5)"
   ]
  },
  {
   "cell_type": "code",
   "execution_count": 96,
   "metadata": {
    "colab": {
     "base_uri": "https://localhost:8080/"
    },
    "id": "VF0jZSiFeRvT",
    "outputId": "85efce92-f71d-4286-b293-5358f06abcf3"
   },
   "outputs": [
    {
     "name": "stdout",
     "output_type": "stream",
     "text": [
      "+------+-------+------+--------+----------+---------+---------+-----------+-----------+\n",
      "|userID|movieID|rating|date_day|date_month|date_year|date_hour|date_minute|date_second|\n",
      "+------+-------+------+--------+----------+---------+---------+-----------+-----------+\n",
      "|  8114|   4351|   5.0|      13|         6|     2001|       23|         52|         57|\n",
      "|  8892|    529|   5.0|       2|         7|     2004|       15|         11|         12|\n",
      "| 10791|   4238|   5.0|       3|         8|     2002|        1|         20|         31|\n",
      "|  6227|     32|   5.0|       6|         8|     2006|       18|         58|         11|\n",
      "|  4895|  27728|   5.0|       1|         1|     2006|        4|         15|          2|\n",
      "+------+-------+------+--------+----------+---------+---------+-----------+-----------+\n",
      "only showing top 5 rows\n",
      "\n"
     ]
    }
   ],
   "source": [
    "df.filter('rating = 5').show(5)"
   ]
  },
  {
   "cell_type": "markdown",
   "metadata": {
    "id": "B-tzppVSehGc"
   },
   "source": [
    "Несколько условий"
   ]
  },
  {
   "cell_type": "code",
   "execution_count": 97,
   "metadata": {
    "colab": {
     "base_uri": "https://localhost:8080/"
    },
    "id": "RG2nk91dekM_",
    "outputId": "271ee1a5-a8aa-434a-8eb0-ed875142a853"
   },
   "outputs": [
    {
     "name": "stdout",
     "output_type": "stream",
     "text": [
      "+------+-------+------+--------+----------+---------+---------+-----------+-----------+\n",
      "|userID|movieID|rating|date_day|date_month|date_year|date_hour|date_minute|date_second|\n",
      "+------+-------+------+--------+----------+---------+---------+-----------+-----------+\n",
      "|  6393|    922|   5.0|      26|         2|     2006|       21|         54|         22|\n",
      "|  8041|   1682|   5.0|       9|         1|     2006|       17|         31|         55|\n",
      "|  4827|   1193|   5.0|       4|         1|     2006|       22|         12|         37|\n",
      "|  6323|   2278|   5.0|       3|         1|     2006|        9|          3|          8|\n",
      "|  6385|  42004|   5.0|       8|        12|     2006|        4|         33|         48|\n",
      "+------+-------+------+--------+----------+---------+---------+-----------+-----------+\n",
      "only showing top 5 rows\n",
      "\n"
     ]
    }
   ],
   "source": [
    "df.filter((df.rating == 5.0) & (df.date_year == 2006)).show(5)"
   ]
  },
  {
   "cell_type": "code",
   "execution_count": 98,
   "metadata": {
    "colab": {
     "base_uri": "https://localhost:8080/"
    },
    "id": "OXGvcpqdfRK-",
    "outputId": "3e5e1dc3-e207-40cc-feaa-fdc27bdca575"
   },
   "outputs": [
    {
     "name": "stdout",
     "output_type": "stream",
     "text": [
      "+------+-------+------+--------+----------+---------+---------+-----------+-----------+\n",
      "|userID|movieID|rating|date_day|date_month|date_year|date_hour|date_minute|date_second|\n",
      "+------+-------+------+--------+----------+---------+---------+-----------+-----------+\n",
      "|  6393|    922|   5.0|      26|         2|     2006|       21|         54|         22|\n",
      "|  8041|   1682|   5.0|       9|         1|     2006|       17|         31|         55|\n",
      "|  4827|   1193|   5.0|       4|         1|     2006|       22|         12|         37|\n",
      "|  6323|   2278|   5.0|       3|         1|     2006|        9|          3|          8|\n",
      "|  6385|  42004|   5.0|       8|        12|     2006|        4|         33|         48|\n",
      "+------+-------+------+--------+----------+---------+---------+-----------+-----------+\n",
      "only showing top 5 rows\n",
      "\n"
     ]
    }
   ],
   "source": [
    "df.filter('(rating = 5.0) and (date_year = 2006)').show(5)"
   ]
  },
  {
   "cell_type": "code",
   "execution_count": 99,
   "metadata": {
    "colab": {
     "base_uri": "https://localhost:8080/"
    },
    "id": "PPJrcN3Zh5zu",
    "outputId": "19dc8568-1989-4aa6-ac55-0846a669f977"
   },
   "outputs": [
    {
     "name": "stdout",
     "output_type": "stream",
     "text": [
      "+------+-------+------+--------+----------+---------+---------+-----------+-----------+\n",
      "|userID|movieID|rating|date_day|date_month|date_year|date_hour|date_minute|date_second|\n",
      "+------+-------+------+--------+----------+---------+---------+-----------+-----------+\n",
      "|    78|   1214|   5.0|       7|         5|     2004|       23|          6|         34|\n",
      "|    78|     32|   5.0|       7|         5|     2004|       23|         32|         18|\n",
      "|    78|   2502|   5.0|       7|         5|     2004|       23|         38|         29|\n",
      "|    78|    750|   5.0|       7|         5|     2004|       23|          3|         45|\n",
      "|    78|   1232|   5.0|       7|         5|     2004|       23|         29|         49|\n",
      "+------+-------+------+--------+----------+---------+---------+-----------+-----------+\n",
      "only showing top 5 rows\n",
      "\n"
     ]
    }
   ],
   "source": [
    "df.filter('(rating = 5.0) and (userID between 70 and 80)').show(5)"
   ]
  },
  {
   "cell_type": "markdown",
   "metadata": {
    "id": "XdE18CsVfepu"
   },
   "source": [
    "фильтр по списку значений из list"
   ]
  },
  {
   "cell_type": "code",
   "execution_count": 100,
   "metadata": {
    "id": "lHYaVt1Sfix6"
   },
   "outputs": [],
   "source": [
    "years = [2006, 2007]"
   ]
  },
  {
   "cell_type": "code",
   "execution_count": 101,
   "metadata": {
    "colab": {
     "base_uri": "https://localhost:8080/"
    },
    "id": "CtScT6Ljf1f0",
    "outputId": "aa3673b9-2300-4679-afab-b2c0520471a9"
   },
   "outputs": [
    {
     "name": "stdout",
     "output_type": "stream",
     "text": [
      "+------+-------+------+--------+----------+---------+---------+-----------+-----------+\n",
      "|userID|movieID|rating|date_day|date_month|date_year|date_hour|date_minute|date_second|\n",
      "+------+-------+------+--------+----------+---------+---------+-----------+-----------+\n",
      "|  4352|  30812|   3.0|       2|         3|     2006|       22|         34|         12|\n",
      "|  5954|   4007|   4.0|       8|         1|     2006|       22|          5|          2|\n",
      "|  8168|   1923|   3.5|       4|        12|     2006|       16|         40|         44|\n",
      "|  6264|   1907|   3.5|       3|        12|     2006|       11|          4|         14|\n",
      "|  7849|   1209|   5.0|       8|        12|     2007|        1|         57|         22|\n",
      "+------+-------+------+--------+----------+---------+---------+-----------+-----------+\n",
      "only showing top 5 rows\n",
      "\n"
     ]
    }
   ],
   "source": [
    "df.filter(df.date_year.isin(years)).show(5)"
   ]
  },
  {
   "cell_type": "markdown",
   "metadata": {
    "id": "t8xkT6PxgJXy"
   },
   "source": [
    " проверим"
   ]
  },
  {
   "cell_type": "code",
   "execution_count": 102,
   "metadata": {
    "colab": {
     "base_uri": "https://localhost:8080/"
    },
    "id": "YpQJJAchf-aY",
    "outputId": "66ee94db-3693-43a3-bbc3-a3a11bdd429b"
   },
   "outputs": [
    {
     "data": {
      "text/plain": [
       "[Row(date_year=2007), Row(date_year=2006)]"
      ]
     },
     "execution_count": 102,
     "metadata": {},
     "output_type": "execute_result"
    }
   ],
   "source": [
    "df.filter(df.date_year.isin(years))\\\n",
    "  .select('date_year')\\\n",
    "  .dropDuplicates()\\\n",
    "  .collect()"
   ]
  },
  {
   "cell_type": "markdown",
   "metadata": {
    "id": "baQHzWATiWPQ"
   },
   "source": [
    "создадим игрушечный датайфрейм для текстовых столбцов"
   ]
  },
  {
   "cell_type": "code",
   "execution_count": 103,
   "metadata": {
    "id": "j25PuaiOiVs0"
   },
   "outputs": [],
   "source": [
    "data2 = [\n",
    "    (2,'Michael Rose'),\n",
    "    (3,'Robert Williams'),\n",
    "    (4,'Rames Rose'),\n",
    "    (5,'Rames Black'),\n",
    "    (6, 'Albus Torch'),\n",
    "    (7, 'Fred Tf')\n",
    "]\n",
    "\n",
    "df2 = spark.createDataFrame(data2, ['id', 'name'])"
   ]
  },
  {
   "cell_type": "code",
   "execution_count": 104,
   "metadata": {
    "colab": {
     "base_uri": "https://localhost:8080/"
    },
    "id": "h_3UfWtuisqY",
    "outputId": "39c24988-2089-4b1b-be23-9e83f6e8946c"
   },
   "outputs": [
    {
     "name": "stdout",
     "output_type": "stream",
     "text": [
      "+---+---------------+\n",
      "| id|           name|\n",
      "+---+---------------+\n",
      "|  2|   Michael Rose|\n",
      "|  3|Robert Williams|\n",
      "|  4|     Rames Rose|\n",
      "|  5|    Rames Black|\n",
      "|  6|    Albus Torch|\n",
      "|  7|        Fred Tf|\n",
      "+---+---------------+\n",
      "\n"
     ]
    }
   ],
   "source": [
    "df2.show()"
   ]
  },
  {
   "cell_type": "code",
   "execution_count": 105,
   "metadata": {
    "colab": {
     "base_uri": "https://localhost:8080/"
    },
    "id": "kfIw-U8pilfQ",
    "outputId": "f4b0679f-c971-4d7f-ae37-1a4707e2e550"
   },
   "outputs": [
    {
     "name": "stdout",
     "output_type": "stream",
     "text": [
      "+---+---------------+\n",
      "| id|           name|\n",
      "+---+---------------+\n",
      "|  3|Robert Williams|\n",
      "|  4|     Rames Rose|\n",
      "|  5|    Rames Black|\n",
      "+---+---------------+\n",
      "\n"
     ]
    }
   ],
   "source": [
    "df2.filter(\"name like 'R%'\").show()"
   ]
  },
  {
   "cell_type": "code",
   "execution_count": 106,
   "metadata": {
    "colab": {
     "base_uri": "https://localhost:8080/"
    },
    "id": "g_9M2YTCjpGf",
    "outputId": "3f899c73-3938-4f0a-e58b-3dc208f45501"
   },
   "outputs": [
    {
     "name": "stdout",
     "output_type": "stream",
     "text": [
      "+---+---------------+\n",
      "| id|           name|\n",
      "+---+---------------+\n",
      "|  3|Robert Williams|\n",
      "|  4|     Rames Rose|\n",
      "|  5|    Rames Black|\n",
      "+---+---------------+\n",
      "\n"
     ]
    }
   ],
   "source": [
    "df2.filter(df2.name.startswith('R')).show()"
   ]
  },
  {
   "cell_type": "code",
   "execution_count": 107,
   "metadata": {
    "colab": {
     "base_uri": "https://localhost:8080/"
    },
    "id": "2qd6XuQbj1ca",
    "outputId": "6748f4be-b380-463d-c537-37ac06cd72b8"
   },
   "outputs": [
    {
     "name": "stdout",
     "output_type": "stream",
     "text": [
      "+---+-------+\n",
      "| id|   name|\n",
      "+---+-------+\n",
      "|  7|Fred Tf|\n",
      "+---+-------+\n",
      "\n"
     ]
    }
   ],
   "source": [
    "df2.filter(df2.name.endswith('Tf')).show()"
   ]
  },
  {
   "cell_type": "code",
   "execution_count": 108,
   "metadata": {
    "colab": {
     "base_uri": "https://localhost:8080/"
    },
    "id": "vPWVmWSFj5rA",
    "outputId": "600a4e23-98e9-4737-f9b4-15c065da55b7"
   },
   "outputs": [
    {
     "name": "stdout",
     "output_type": "stream",
     "text": [
      "+---+---------------+\n",
      "| id|           name|\n",
      "+---+---------------+\n",
      "|  3|Robert Williams|\n",
      "+---+---------------+\n",
      "\n"
     ]
    }
   ],
   "source": [
    "df2.filter(df2.name.contains('Wil')).show()"
   ]
  },
  {
   "cell_type": "markdown",
   "metadata": {
    "id": "AfgGaL_zkIiF"
   },
   "source": [
    "Бывает, что у нас внутри датафрейма есть массив и с ним что-то хочется сделать"
   ]
  },
  {
   "cell_type": "code",
   "execution_count": 109,
   "metadata": {
    "colab": {
     "base_uri": "https://localhost:8080/"
    },
    "id": "LTpNzm_Lkl5d",
    "outputId": "ea2297d7-9114-4cc4-93bb-ebd82f0bf855"
   },
   "outputs": [
    {
     "name": "stdout",
     "output_type": "stream",
     "text": [
      "root\n",
      " |-- name: struct (nullable = true)\n",
      " |    |-- firstname: string (nullable = true)\n",
      " |    |-- middlename: string (nullable = true)\n",
      " |    |-- lastname: string (nullable = true)\n",
      " |-- hobbies: array (nullable = true)\n",
      " |    |-- element: string (containsNull = true)\n",
      " |-- properties: map (nullable = true)\n",
      " |    |-- key: integer\n",
      " |    |-- value: string (valueContainsNull = true)\n",
      "\n",
      "+--------------------+-----------------+----------------+\n",
      "|name                |hobbies          |properties      |\n",
      "+--------------------+-----------------+----------------+\n",
      "|{James, , Smith}    |[car, volleyball]|{4 -> d, 1 -> a}|\n",
      "|{Michael, Rose, }   |[car, football]  |{2 -> b}        |\n",
      "|{Robert, , Williams}|[box, music]     |{3 -> c}        |\n",
      "+--------------------+-----------------+----------------+\n",
      "\n"
     ]
    }
   ],
   "source": [
    "arrayStructureSchema = StructType([\n",
    "    StructField('name', StructType([\n",
    "       StructField('firstname', StringType(), True),\n",
    "       StructField('middlename', StringType(), True),\n",
    "       StructField('lastname', StringType(), True)\n",
    "       ])),\n",
    "       StructField('hobbies', ArrayType(StringType()), True),\n",
    "       StructField('properties', MapType(IntegerType(),StringType()), True)\n",
    "    ])\n",
    "\n",
    "structureData = [\n",
    "    (('James','','Smith'), ['car', 'volleyball'], {1: 'a', 4: 'd'}),\n",
    "    (('Michael','Rose',''), ['car', 'football'], {2: 'b'}),\n",
    "    (('Robert','','Williams'), ['box', 'music'], {3: 'c'})\n",
    "]\n",
    "\n",
    "df3 = spark.createDataFrame(data=structureData,schema=arrayStructureSchema)\n",
    "df3.printSchema()\n",
    "df3.show(truncate=False)"
   ]
  },
  {
   "cell_type": "code",
   "execution_count": 110,
   "metadata": {
    "colab": {
     "base_uri": "https://localhost:8080/"
    },
    "id": "i_P75crVkoVP",
    "outputId": "2913bc46-c5a7-42d7-d2e2-572553d089fc"
   },
   "outputs": [
    {
     "name": "stdout",
     "output_type": "stream",
     "text": [
      "+-----------------+---------------+----------+\n",
      "|             name|        hobbies|properties|\n",
      "+-----------------+---------------+----------+\n",
      "|{Michael, Rose, }|[car, football]|  {2 -> b}|\n",
      "+-----------------+---------------+----------+\n",
      "\n"
     ]
    }
   ],
   "source": [
    "df3.filter(F.array_contains(df3.hobbies, 'football'))\\\n",
    "   .show()  "
   ]
  },
  {
   "cell_type": "markdown",
   "metadata": {
    "id": "z7wIBH1plh4D"
   },
   "source": [
    "### orderBy"
   ]
  },
  {
   "cell_type": "markdown",
   "metadata": {
    "id": "eid2Pim6oYdE"
   },
   "source": [
    "сделаем еще фильтрацию, чтобы увидеть результат (`orderBy` тут аналог)"
   ]
  },
  {
   "cell_type": "code",
   "execution_count": 111,
   "metadata": {
    "colab": {
     "base_uri": "https://localhost:8080/"
    },
    "id": "3BY_-oj2mjs6",
    "outputId": "7e759324-ecd8-4963-8310-a3430ad90c1f"
   },
   "outputs": [
    {
     "name": "stdout",
     "output_type": "stream",
     "text": [
      "+------+-------+------+--------+----------+---------+---------+-----------+-----------+\n",
      "|userID|movieID|rating|date_day|date_month|date_year|date_hour|date_minute|date_second|\n",
      "+------+-------+------+--------+----------+---------+---------+-----------+-----------+\n",
      "|    75|   1304|   2.5|      29|        10|     2006|       23|         16|         56|\n",
      "|    75|   2011|   2.0|      29|        10|     2006|       23|         16|         39|\n",
      "|    75|    420|   2.0|      29|        10|     2006|       23|         16|         42|\n",
      "|    75|    160|   2.0|      29|        10|     2006|       23|         16|         52|\n",
      "|    75|    832|   4.5|      29|        10|     2006|       23|         17|         49|\n",
      "|    75|   2700|   4.5|      29|        10|     2006|       23|         17|         52|\n",
      "|    75|   1485|   4.0|      29|        10|     2006|       23|         17|         46|\n",
      "|    75|   1374|   4.0|      29|        10|     2006|       23|         17|         20|\n",
      "|    75|    173|   3.5|      29|        10|     2006|       23|         17|         37|\n",
      "|    75|    353|   3.5|      29|        10|     2006|       23|         17|          0|\n",
      "|    75|    653|   3.0|      29|        10|     2006|       23|         17|          5|\n",
      "|    75|   2640|   3.0|      29|        10|     2006|       23|         17|         56|\n",
      "|    75|   2054|   1.5|      29|        10|     2006|       23|         17|         33|\n",
      "|    75|      3|   1.0|      29|        10|     2006|       23|         17|         16|\n",
      "|    75|    920|   0.5|      29|        10|     2006|       23|         17|          8|\n",
      "|    75|   6225|   0.5|      29|        10|     2006|       23|         21|         25|\n",
      "|    75|   3889|   3.0|      29|        10|     2006|       23|         22|         43|\n",
      "|    75|   2688|   3.0|      29|        10|     2006|       23|         22|         26|\n",
      "|    75|     32|   4.5|      29|        10|     2006|       23|         23|         44|\n",
      "|    75|  32587|   5.0|      29|        10|     2006|       23|         24|         51|\n",
      "+------+-------+------+--------+----------+---------+---------+-----------+-----------+\n",
      "only showing top 20 rows\n",
      "\n"
     ]
    }
   ],
   "source": [
    "df.filter(df.userID == 75).sort(df.date_minute, df.rating.desc()).show(20)"
   ]
  },
  {
   "cell_type": "markdown",
   "metadata": {
    "id": "GiqsFj72pkvM"
   },
   "source": [
    "### groupBy\n",
    "\n",
    "Когда мы выполняем `groupBy()` в PySpark DataFrame, он возвращает объект `GroupedData`, который содержит следующие агрегатные функции:\n",
    "\n",
    "`min()`, `max()`, `mean()`, `count()`, `sum()`, `avg()`, `agg()`, `pivot()` "
   ]
  },
  {
   "cell_type": "code",
   "execution_count": 112,
   "metadata": {
    "colab": {
     "base_uri": "https://localhost:8080/"
    },
    "id": "cL6AvkZPoeiy",
    "outputId": "1c583b07-847e-4c0f-aa68-4274cd33cd28"
   },
   "outputs": [
    {
     "data": {
      "text/plain": [
       "[Row(date_year=2003, avg(rating)=3.4279154852282083),\n",
       " Row(date_year=2007, avg(rating)=3.4367384383270894),\n",
       " Row(date_year=2006, avg(rating)=3.4294610550371356),\n",
       " Row(date_year=1997, avg(rating)=3.571018651362984),\n",
       " Row(date_year=2004, avg(rating)=3.3916603359500295),\n",
       " Row(date_year=1998, avg(rating)=3.5080568720379146),\n",
       " Row(date_year=2009, avg(rating)=3.369243156199678),\n",
       " Row(date_year=2001, avg(rating)=3.4490124195720484),\n",
       " Row(date_year=2005, avg(rating)=3.395790002433071),\n",
       " Row(date_year=2000, avg(rating)=3.5767733835530446),\n",
       " Row(date_year=2008, avg(rating)=3.486752231109465),\n",
       " Row(date_year=1999, avg(rating)=3.4925797284496367),\n",
       " Row(date_year=2002, avg(rating)=3.4140127388535033)]"
      ]
     },
     "execution_count": 112,
     "metadata": {},
     "output_type": "execute_result"
    }
   ],
   "source": [
    "df.groupby('date_year').mean('rating').collect()"
   ]
  },
  {
   "cell_type": "markdown",
   "metadata": {
    "id": "1QjgENxurJ_t"
   },
   "source": [
    "мы уже умеем применять разные методы"
   ]
  },
  {
   "cell_type": "code",
   "execution_count": 113,
   "metadata": {
    "colab": {
     "base_uri": "https://localhost:8080/"
    },
    "id": "CvnbA2-aqzXI",
    "outputId": "4feba257-1e23-43e2-b444-1a3b8b9e9b29"
   },
   "outputs": [
    {
     "data": {
      "text/plain": [
       "[Row(date_year=1997, avg(rating)=3.571018651362984),\n",
       " Row(date_year=1998, avg(rating)=3.5080568720379146),\n",
       " Row(date_year=1999, avg(rating)=3.4925797284496367),\n",
       " Row(date_year=2000, avg(rating)=3.5767733835530446),\n",
       " Row(date_year=2001, avg(rating)=3.4490124195720484),\n",
       " Row(date_year=2002, avg(rating)=3.4140127388535033),\n",
       " Row(date_year=2003, avg(rating)=3.4279154852282083),\n",
       " Row(date_year=2004, avg(rating)=3.3916603359500295),\n",
       " Row(date_year=2005, avg(rating)=3.395790002433071),\n",
       " Row(date_year=2006, avg(rating)=3.4294610550371356),\n",
       " Row(date_year=2007, avg(rating)=3.4367384383270894),\n",
       " Row(date_year=2008, avg(rating)=3.486752231109465),\n",
       " Row(date_year=2009, avg(rating)=3.369243156199678)]"
      ]
     },
     "execution_count": 113,
     "metadata": {},
     "output_type": "execute_result"
    }
   ],
   "source": [
    "df.groupby('date_year')\\\n",
    "  .mean('rating')\\\n",
    "  .sort('date_year')\\\n",
    "  .collect()"
   ]
  },
  {
   "cell_type": "code",
   "execution_count": 114,
   "metadata": {
    "colab": {
     "base_uri": "https://localhost:8080/"
    },
    "id": "vBGHTsSxrUri",
    "outputId": "95996422-ac00-49e7-8400-97af54248d93"
   },
   "outputs": [
    {
     "data": {
      "text/plain": [
       "[Row(date_year=1997, number=98),\n",
       " Row(date_year=1998, number=321),\n",
       " Row(date_year=1999, number=2270),\n",
       " Row(date_year=2000, number=4732),\n",
       " Row(date_year=2001, number=4793),\n",
       " Row(date_year=2002, number=5791),\n",
       " Row(date_year=2003, number=7595),\n",
       " Row(date_year=2004, number=10205),\n",
       " Row(date_year=2005, number=15982),\n",
       " Row(date_year=2006, number=23463),\n",
       " Row(date_year=2007, number=19792),\n",
       " Row(date_year=2008, number=15128),\n",
       " Row(date_year=2009, number=369)]"
      ]
     },
     "execution_count": 114,
     "metadata": {},
     "output_type": "execute_result"
    }
   ],
   "source": [
    "df.filter(df.rating <= 2)\\\n",
    "  .groupby('date_year')\\\n",
    "  .count()\\\n",
    "  .withColumnRenamed('count', 'number')\\\n",
    "  .sort('date_year')\\\n",
    "  .collect()"
   ]
  },
  {
   "cell_type": "markdown",
   "metadata": {
    "id": "i_8epVoOrwG3"
   },
   "source": [
    "несколько колонок"
   ]
  },
  {
   "cell_type": "code",
   "execution_count": 115,
   "metadata": {
    "colab": {
     "base_uri": "https://localhost:8080/"
    },
    "id": "0SIzk9xOrsec",
    "outputId": "2d0035e4-c9c5-4e22-8989-14e24a352626"
   },
   "outputs": [
    {
     "name": "stdout",
     "output_type": "stream",
     "text": [
      "+---------+----------+------------------+------------------+\n",
      "|date_year|date_month|       avg(rating)|       avg(userID)|\n",
      "+---------+----------+------------------+------------------+\n",
      "|     1997|         9|3.7094972067039107| 35144.61452513967|\n",
      "|     1997|        10|3.7762237762237763|34880.769230769234|\n",
      "|     1997|        11| 3.360655737704918| 9451.180327868853|\n",
      "|     1997|        12| 3.549618320610687| 20251.01526717557|\n",
      "|     1998|         1|          3.765625|      22209.515625|\n",
      "|     1998|         2|               3.3|           31662.4|\n",
      "|     1998|         3| 3.238095238095238| 19582.04761904762|\n",
      "|     1998|         4| 3.908333333333333|31813.866666666665|\n",
      "|     1998|         5| 3.652054794520548|20393.520547945205|\n",
      "|     1998|         6|             3.225|         27092.625|\n",
      "|     1998|         7|3.5547550432276656|38376.249279538904|\n",
      "|     1998|         8| 3.642857142857143|41151.357142857145|\n",
      "|     1998|         9|3.1881533101045294| 46104.74912891986|\n",
      "|     1998|        10|3.4864864864864864| 46100.94594594595|\n",
      "|     1998|        11|3.4170854271356785| 57550.42211055276|\n",
      "|     1998|        12|              2.88|          24582.12|\n",
      "|     1999|         1|3.5932388222464557|19145.076335877864|\n",
      "|     1999|         2|2.9727272727272727|32626.427272727273|\n",
      "|     1999|         3| 3.288135593220339|33378.779661016946|\n",
      "|     1999|         4|3.7532467532467533|24940.253246753247|\n",
      "+---------+----------+------------------+------------------+\n",
      "only showing top 20 rows\n",
      "\n"
     ]
    }
   ],
   "source": [
    "df.groupBy('date_year', 'date_month') \\\n",
    "  .mean('rating', 'userID') \\\n",
    "  .sort('date_year', 'date_month') \\\n",
    "  .show()"
   ]
  },
  {
   "cell_type": "markdown",
   "metadata": {
    "id": "qq4SNRAkukI2"
   },
   "source": [
    "Для того, чтобы делать несколько разных агрегаций и еще менять сразу имя столбца нужно немного изменить синтаксис\n",
    "\n",
    "И стоит помнить, что персентили тут считаются приближенно"
   ]
  },
  {
   "cell_type": "code",
   "execution_count": 116,
   "metadata": {
    "colab": {
     "base_uri": "https://localhost:8080/"
    },
    "id": "4OrMJN9ttWYQ",
    "outputId": "146b0eea-d7b7-4180-a5cc-6900f009141c"
   },
   "outputs": [
    {
     "name": "stdout",
     "output_type": "stream",
     "text": [
      "+---------+----------+------------------+----------+------+\n",
      "|date_year|min_rating|       mean_rating|max_rating|median|\n",
      "+---------+----------+------------------+----------+------+\n",
      "|     2003|       0.5|3.4279154852282083|       5.0|   3.5|\n",
      "|     2007|       0.5|3.4367384383270894|       5.0|   3.5|\n",
      "|     2006|       0.5|3.4294610550371356|       5.0|   3.5|\n",
      "|     1997|       1.0| 3.571018651362984|       5.0|   4.0|\n",
      "|     2004|       0.5|3.3916603359500295|       5.0|   3.5|\n",
      "|     1998|       1.0|3.5080568720379146|       5.0|   4.0|\n",
      "|     2009|       0.5| 3.369243156199678|       5.0|   3.5|\n",
      "|     2001|       1.0|3.4490124195720484|       5.0|   4.0|\n",
      "|     2005|       0.5| 3.395790002433071|       5.0|   3.5|\n",
      "|     2000|       1.0|3.5767733835530446|       5.0|   4.0|\n",
      "|     2008|       0.5| 3.486752231109465|       5.0|   3.5|\n",
      "|     1999|       1.0|3.4925797284496367|       5.0|   4.0|\n",
      "|     2002|       1.0|3.4140127388535033|       5.0|   4.0|\n",
      "+---------+----------+------------------+----------+------+\n",
      "\n"
     ]
    }
   ],
   "source": [
    "df.groupBy('date_year') \\\n",
    "    .agg(F.min('rating').alias('min_rating'), \\\n",
    "         F.mean('rating').alias('mean_rating'), \\\n",
    "         F.max('rating').alias('max_rating'),\n",
    "         F.percentile_approx('rating', 0.5).alias('median')\n",
    "         ) \\\n",
    "    .show()"
   ]
  },
  {
   "cell_type": "markdown",
   "metadata": {
    "id": "ahpMujLmcI1n"
   },
   "source": [
    "Еще можно сделать pivot"
   ]
  },
  {
   "cell_type": "code",
   "execution_count": 117,
   "metadata": {
    "colab": {
     "base_uri": "https://localhost:8080/"
    },
    "id": "9J-VoOc0cWTd",
    "outputId": "8ce341f1-c739-44bd-c55b-433e27d7a1d6"
   },
   "outputs": [
    {
     "name": "stdout",
     "output_type": "stream",
     "text": [
      "+---------+------------------+------------------+------------------+------------------+------------------+------------------+------------------+------------------+------------------+------------------+------------------+------------------+\n",
      "|date_year|                 1|                 2|                 3|                 4|                 5|                 6|                 7|                 8|                 9|                10|                11|                12|\n",
      "+---------+------------------+------------------+------------------+------------------+------------------+------------------+------------------+------------------+------------------+------------------+------------------+------------------+\n",
      "|     2003|3.4720922980979108| 3.333741687084354|3.4834824501032347|3.4579510703363914| 3.366686911630732|  3.55358230160341|3.5085277150739906| 3.447642637512812| 3.579355840124175| 3.165437788018433| 3.446676231468197| 3.440287081339713|\n",
      "|     2007| 3.520191839855425| 3.334151663938898| 3.315767314574416| 3.504519368723099|3.4693796918214144|3.3586096176821982| 3.408789136175028|3.5504622250557856| 3.482922996333159|3.5171599215546445|3.4116928920238743|3.3910622022411596|\n",
      "|     2006| 3.479624530663329| 3.510720494494881| 3.547127570767246|3.3596973475402403|3.4018066369340088|3.3046501521077793| 3.403022670025189|3.3802469968956674|3.4545909721152364|3.5090602950609364|            3.5444|3.3291340307827135|\n",
      "|     1997|              NULL|              NULL|              NULL|              NULL|              NULL|              NULL|              NULL|              NULL|3.7094972067039107|3.7762237762237763| 3.360655737704918| 3.549618320610687|\n",
      "|     2004|3.3960528665833185|3.4452237808951236| 3.379642800695432|3.4247172639324157| 3.406055900621118| 3.516056166056166|3.3745881678842573| 3.301597261836851|3.3154904306220097| 3.458714150646076|3.3533517410645803|3.3077060292543705|\n",
      "+---------+------------------+------------------+------------------+------------------+------------------+------------------+------------------+------------------+------------------+------------------+------------------+------------------+\n",
      "only showing top 5 rows\n",
      "\n"
     ]
    }
   ],
   "source": [
    "df.groupBy('date_year')\\\n",
    "  .pivot('date_month')\\\n",
    "  .mean('rating')\\\n",
    "  .show(5)"
   ]
  },
  {
   "cell_type": "markdown",
   "metadata": {
    "id": "C0Xl9vFCu_eK"
   },
   "source": [
    "### join"
   ]
  },
  {
   "cell_type": "markdown",
   "metadata": {},
   "source": [
    "Куда же без них. Что есть:\n",
    "* INNER\n",
    "* LEFT OUTER\n",
    "* RIGHT OUTER\n",
    "* LEFT ANTI\n",
    "* LEFT SEMI\n",
    "* CROSS\n",
    "* SELF JOIN\n",
    "\n",
    "Благодаря оптимизации в датафреймах уже все хорошо работает, спасибо catalist, но чудеса не вечны и плохой код/незнание данных все равно даст о себе знать"
   ]
  },
  {
   "cell_type": "markdown",
   "metadata": {
    "id": "YneaY-MDxca7"
   },
   "source": [
    "Сделаем для себя несколько таблиц, чтобы можно было экспериментировать"
   ]
  },
  {
   "cell_type": "code",
   "execution_count": 118,
   "metadata": {
    "id": "5Jrab0pMxbJp"
   },
   "outputs": [],
   "source": [
    "df_mean_user_rating = df.groupBy('userID')\\\n",
    "                        .mean('rating')\\\n",
    "                        .withColumnRenamed('avg(rating)', 'avg_rating_all')\n",
    "\n",
    "df_mean_user_rating_year = df.groupby('userID', 'date_year')\\\n",
    "                             .mean('rating')\\\n",
    "                             .withColumnRenamed('avg(rating)', 'avg_rating_year')"
   ]
  },
  {
   "cell_type": "code",
   "execution_count": 119,
   "metadata": {
    "colab": {
     "base_uri": "https://localhost:8080/"
    },
    "id": "iOArojkkxHR0",
    "outputId": "7dfa5813-d6d8-4be3-bd72-da934f454434"
   },
   "outputs": [
    {
     "name": "stdout",
     "output_type": "stream",
     "text": [
      "root\n",
      " |-- userID: integer (nullable = true)\n",
      " |-- avg_rating_all: double (nullable = true)\n",
      "\n",
      "root\n",
      " |-- userID: integer (nullable = true)\n",
      " |-- date_year: integer (nullable = true)\n",
      " |-- avg_rating_year: double (nullable = true)\n",
      "\n"
     ]
    }
   ],
   "source": [
    "df_mean_user_rating.printSchema()\n",
    "\n",
    "df_mean_user_rating_year.printSchema()"
   ]
  },
  {
   "cell_type": "markdown",
   "metadata": {
    "id": "xejW3UuRzb0g"
   },
   "source": [
    "И давайте все в 1 блоке кода, чтобы не растягивать"
   ]
  },
  {
   "cell_type": "code",
   "execution_count": 120,
   "metadata": {
    "colab": {
     "base_uri": "https://localhost:8080/",
     "height": 358
    },
    "id": "sCpt6PH4zhGh",
    "outputId": "1c9f5c91-2ed6-41da-ba62-54737eaab8bf"
   },
   "outputs": [
    {
     "name": "stdout",
     "output_type": "stream",
     "text": [
      "[AMBIGUOUS_REFERENCE] Reference `userID` is ambiguous, could be: [`userID`, `userID`].\n"
     ]
    }
   ],
   "source": [
    "try:\n",
    "    df.join(df_mean_user_rating, on=df.userID == df_mean_user_rating.userID, how='inner')\\\n",
    "      .join(df_mean_user_rating_year, on=[df.userID == df_mean_user_rating_year.userID,\n",
    "                                          df.date_year == df_mean_user_rating_year.date_year],\n",
    "            how='inner')\n",
    "except Exception as e:\n",
    "    print(e)"
   ]
  },
  {
   "cell_type": "markdown",
   "metadata": {
    "id": "12j__QNvZa5v"
   },
   "source": [
    "Надо удалить дублирующиеся столбцы"
   ]
  },
  {
   "cell_type": "code",
   "execution_count": 121,
   "metadata": {
    "id": "pNOXJ1Trwkmt"
   },
   "outputs": [],
   "source": [
    "res_join = df.alias('t').join(df_mean_user_rating.alias('t1'), on=F.col('t.userID') == F.col('t1.userID'), how='inner')\\\n",
    "  .drop(F.col('t1.userID'))\\\n",
    "  .join(df_mean_user_rating_year.alias('t2'), on=[F.col('t.userID') == F.col('t2.userID'),\n",
    "                                      F.col('t.date_year') == F.col('t2.date_year')],\n",
    "        how='inner')\\\n",
    "  .drop(F.col('t2.userID'))\\\n",
    "  .drop(F.col('t2.date_year'))"
   ]
  },
  {
   "cell_type": "code",
   "execution_count": 122,
   "metadata": {
    "colab": {
     "base_uri": "https://localhost:8080/"
    },
    "id": "-SFHiwk3bjar",
    "outputId": "ff362c97-1872-4755-e5c2-61aae6deef7d"
   },
   "outputs": [
    {
     "name": "stdout",
     "output_type": "stream",
     "text": [
      "+------+-------+------+--------+----------+---------+---------+-----------+-----------+------------------+------------------+\n",
      "|userID|movieID|rating|date_day|date_month|date_year|date_hour|date_minute|date_second|    avg_rating_all|   avg_rating_year|\n",
      "+------+-------+------+--------+----------+---------+---------+-----------+-----------+------------------+------------------+\n",
      "| 16574|   4878|   4.5|      12|         2|     2006|       13|         35|          8| 4.033333333333333| 4.033333333333333|\n",
      "| 14570|    377|   2.0|      19|         8|     2007|       10|         54|         35|2.7909407665505226|3.0208333333333335|\n",
      "| 14570|    223|   4.0|       2|         7|     2003|        1|         41|         15|2.7909407665505226| 2.634715025906736|\n",
      "| 14570|  30810|   4.0|      24|         9|     2005|       10|         28|         46|2.7909407665505226|3.4027777777777777|\n",
      "| 18979|   1372|   1.5|      18|        11|     2007|       10|         31|         58|3.6904761904761907|             3.625|\n",
      "+------+-------+------+--------+----------+---------+---------+-----------+-----------+------------------+------------------+\n",
      "only showing top 5 rows\n",
      "\n"
     ]
    }
   ],
   "source": [
    "res_join.show(5)"
   ]
  },
  {
   "cell_type": "markdown",
   "metadata": {
    "id": "c5AnHARphOdO"
   },
   "source": [
    "### union и unionAll\n",
    "\n",
    "Используются для объединения датафреймов с одинаковой структурой, используется `union`, так как `unionAll` с версии 2.0.0 более не используется"
   ]
  },
  {
   "cell_type": "code",
   "execution_count": 123,
   "metadata": {
    "id": "UUT2BY-Mh9mD"
   },
   "outputs": [],
   "source": [
    "df1 = df.filter(df.date_year == 2006)\n",
    "df2 = df.filter(df.date_year != 2006)"
   ]
  },
  {
   "cell_type": "code",
   "execution_count": 124,
   "metadata": {
    "colab": {
     "base_uri": "https://localhost:8080/"
    },
    "id": "fAlbx9vNiJfl",
    "outputId": "7183d4d6-807c-469e-ea6a-d397eeb82584"
   },
   "outputs": [
    {
     "name": "stdout",
     "output_type": "stream",
     "text": [
      "855598 855598\n"
     ]
    }
   ],
   "source": [
    "union_df = df1.union(df2)\n",
    "\n",
    "print(df.count(), union_df.count())"
   ]
  },
  {
   "cell_type": "markdown",
   "metadata": {
    "id": "wHSH3q7tixKe"
   },
   "source": [
    "**Desclaimer:** все по sql, надеюсь, помнят разницу между `union` и `union all`, когда union убирает дубликаты. Так вот pyspark ничего не удаляет, убрать дубликаты можно только через `drop_duplicates`, `distinct`"
   ]
  },
  {
   "cell_type": "markdown",
   "metadata": {
    "id": "6i0lcIVAj7XS"
   },
   "source": [
    "Также при `union` pyspark делает объединение по столбцам as is, не пытаясь понять, что в одном датафрейме нужный стобец на 1 позиции, а в другом он на 5. Для этого с версии 3.1 есть замечательный метод `unionByName`"
   ]
  },
  {
   "cell_type": "markdown",
   "metadata": {
    "id": "DwiOqXPolaNz"
   },
   "source": [
    "### UDF - user defined functions\n",
    "\n",
    "из курса про rdd помним про map, тут тоже можно перегнать все в rdd и делать map, но можно и через udf. Стоит отметить, что при этом мы теряем возможность оптимизации и произодительность в dataframe, так как udf - black box для спарка.\n",
    "\n",
    "Но зато эти функции переиспользуемы и их можно применять в sql запросах, как те же udf в oracle"
   ]
  },
  {
   "cell_type": "code",
   "execution_count": 125,
   "metadata": {
    "id": "Lk5nXLrEiqPa"
   },
   "outputs": [],
   "source": [
    "def udf_example(rating):\n",
    "    rating = rating * 20\n",
    "    return rating"
   ]
  },
  {
   "cell_type": "code",
   "execution_count": 126,
   "metadata": {
    "id": "qkUtKFLM2BGT"
   },
   "outputs": [],
   "source": [
    "from pyspark.sql.functions import udf"
   ]
  },
  {
   "cell_type": "code",
   "execution_count": 127,
   "metadata": {
    "id": "_DK2Brnu2LSl"
   },
   "outputs": [],
   "source": [
    "my_udf = udf(lambda x: udf_example(x), DoubleType())"
   ]
  },
  {
   "cell_type": "code",
   "execution_count": 128,
   "metadata": {
    "colab": {
     "base_uri": "https://localhost:8080/"
    },
    "id": "B_I485a32XFD",
    "outputId": "6338bfbf-efe9-47c1-86c9-df8f606a7531"
   },
   "outputs": [
    {
     "name": "stdout",
     "output_type": "stream",
     "text": [
      "+------+-------+------+----------+\n",
      "|userID|movieID|rating|rating_100|\n",
      "+------+-------+------+----------+\n",
      "|  3190|   6303|   3.5|      70.0|\n",
      "|  6082|    858|   5.0|     100.0|\n",
      "|  1724|   2181|   2.0|      40.0|\n",
      "| 10905|  60126|   3.5|      70.0|\n",
      "| 11162|   2393|   4.0|      80.0|\n",
      "+------+-------+------+----------+\n",
      "only showing top 5 rows\n",
      "\n"
     ]
    }
   ],
   "source": [
    "df.select(['userID', 'movieID', 'rating'])\\\n",
    "  .withColumn('rating_100', my_udf(F.col('rating')))\\\n",
    "  .show(5)"
   ]
  },
  {
   "cell_type": "markdown",
   "metadata": {
    "id": "ZwrlR5GI3dxB"
   },
   "source": [
    "Для тех, кто любит декораторы"
   ]
  },
  {
   "cell_type": "code",
   "execution_count": 129,
   "metadata": {
    "id": "KaNfPZdg3dBs"
   },
   "outputs": [],
   "source": [
    "@udf(returnType=DoubleType()) \n",
    "def udf_example_decorator(rating):\n",
    "    rating = rating * 20\n",
    "    return rating"
   ]
  },
  {
   "cell_type": "code",
   "execution_count": 130,
   "metadata": {
    "colab": {
     "base_uri": "https://localhost:8080/"
    },
    "id": "jnFY-jHV3qph",
    "outputId": "f24dba96-5736-42e7-d666-4be7cc5d68f2"
   },
   "outputs": [
    {
     "name": "stdout",
     "output_type": "stream",
     "text": [
      "+------+-------+------+----------+\n",
      "|userID|movieID|rating|rating_100|\n",
      "+------+-------+------+----------+\n",
      "|  3190|   6303|   3.5|      70.0|\n",
      "|  6082|    858|   5.0|     100.0|\n",
      "|  1724|   2181|   2.0|      40.0|\n",
      "| 10905|  60126|   3.5|      70.0|\n",
      "| 11162|   2393|   4.0|      80.0|\n",
      "+------+-------+------+----------+\n",
      "only showing top 5 rows\n",
      "\n"
     ]
    }
   ],
   "source": [
    "df.select(['userID', 'movieID', 'rating'])\\\n",
    "  .withColumn('rating_100', udf_example_decorator(F.col('rating')))\\\n",
    "  .show(5)"
   ]
  },
  {
   "cell_type": "markdown",
   "metadata": {
    "id": "xLtZleE74gdv"
   },
   "source": [
    "Зарегистрируем функцию для будущих примеров с sql"
   ]
  },
  {
   "cell_type": "code",
   "execution_count": 131,
   "metadata": {
    "colab": {
     "base_uri": "https://localhost:8080/"
    },
    "id": "W8QOkBZY4k-q",
    "outputId": "1a8f9fd0-42e9-4708-cc60-a6f53d7a5900"
   },
   "outputs": [
    {
     "data": {
      "text/plain": [
       "<pyspark.sql.udf.UserDefinedFunction at 0x1b1557d16d0>"
      ]
     },
     "execution_count": 131,
     "metadata": {},
     "output_type": "execute_result"
    }
   ],
   "source": [
    "spark.udf.register('udf_example_decorator', udf_example_decorator)"
   ]
  },
  {
   "cell_type": "markdown",
   "metadata": {
    "id": "5P_NIuglWV72"
   },
   "source": [
    "### SQL\n",
    "\n",
    "Ну раз уж пошла такая тема, давайте рассмотрим, как можно сделать все при помощи любимого SQL"
   ]
  },
  {
   "cell_type": "markdown",
   "metadata": {
    "id": "e3KC55x4XCET"
   },
   "source": [
    "можно делать TempView и GlodalTempView, отличие в том, что обычный view будет жить, пока жива сессия спрака, а глобальная, пока жив sparkcontext"
   ]
  },
  {
   "cell_type": "code",
   "execution_count": 132,
   "metadata": {
    "id": "zn1xgFFa5Fr1"
   },
   "outputs": [],
   "source": [
    "df.createOrReplaceTempView('df')"
   ]
  },
  {
   "cell_type": "code",
   "execution_count": 133,
   "metadata": {
    "colab": {
     "base_uri": "https://localhost:8080/"
    },
    "id": "7USYu6N142hn",
    "outputId": "05cd4aa6-9a51-4d86-e7f2-a4aad829cdf8"
   },
   "outputs": [
    {
     "name": "stdout",
     "output_type": "stream",
     "text": [
      "+------+-------+------+----------+\n",
      "|userID|movieID|rating|rating_100|\n",
      "+------+-------+------+----------+\n",
      "|  3190|   6303|   3.5|      70.0|\n",
      "|  6082|    858|   5.0|     100.0|\n",
      "|  1724|   2181|   2.0|      40.0|\n",
      "| 10905|  60126|   3.5|      70.0|\n",
      "| 11162|   2393|   4.0|      80.0|\n",
      "+------+-------+------+----------+\n",
      "only showing top 5 rows\n",
      "\n"
     ]
    }
   ],
   "source": [
    "query = '''\n",
    "select userID, movieID, rating, udf_example_decorator(rating) as rating_100\n",
    "from\n",
    "df\n",
    "'''\n",
    "spark.sql(query).show(5)"
   ]
  },
  {
   "cell_type": "markdown",
   "metadata": {
    "id": "dNdTc07RWlLd"
   },
   "source": [
    "Ну и наш join"
   ]
  },
  {
   "cell_type": "code",
   "execution_count": 134,
   "metadata": {
    "id": "yXqOTAhHWkQ1"
   },
   "outputs": [],
   "source": [
    "df_mean_user_rating.createOrReplaceTempView('df_mean_user_rating')\n",
    "df_mean_user_rating_year.createOrReplaceTempView('df_mean_user_rating_year')"
   ]
  },
  {
   "cell_type": "code",
   "execution_count": 135,
   "metadata": {
    "colab": {
     "base_uri": "https://localhost:8080/"
    },
    "id": "slhrZnkeXgdo",
    "outputId": "cf132ced-86a8-4185-9b56-a3b17c83c204"
   },
   "outputs": [
    {
     "name": "stdout",
     "output_type": "stream",
     "text": [
      "+------+-------+------+--------+----------+---------+---------+-----------+-----------+------------------+------------------+\n",
      "|userID|movieID|rating|date_day|date_month|date_year|date_hour|date_minute|date_second|    avg_rating_all|   avg_rating_year|\n",
      "+------+-------+------+--------+----------+---------+---------+-----------+-----------+------------------+------------------+\n",
      "| 16574|   4878|   4.5|      12|         2|     2006|       13|         35|          8| 4.033333333333333| 4.033333333333333|\n",
      "| 14570|    377|   2.0|      19|         8|     2007|       10|         54|         35|2.7909407665505226|3.0208333333333335|\n",
      "| 14570|    223|   4.0|       2|         7|     2003|        1|         41|         15|2.7909407665505226| 2.634715025906736|\n",
      "| 14570|  30810|   4.0|      24|         9|     2005|       10|         28|         46|2.7909407665505226|3.4027777777777777|\n",
      "| 18979|   1372|   1.5|      18|        11|     2007|       10|         31|         58|3.6904761904761907|             3.625|\n",
      "+------+-------+------+--------+----------+---------+---------+-----------+-----------+------------------+------------------+\n",
      "only showing top 5 rows\n",
      "\n"
     ]
    }
   ],
   "source": [
    "query = '''\n",
    "select t.*, t1.avg_rating_all, t2.avg_rating_year\n",
    "from\n",
    "df t, df_mean_user_rating t1, df_mean_user_rating_year t2\n",
    "where\n",
    "    t.userID = t1.userID and\n",
    "    t.userID = t2.userID and\n",
    "    t.date_year = t2.date_year\n",
    "'''\n",
    "spark.sql(query).show(5)"
   ]
  },
  {
   "cell_type": "markdown",
   "metadata": {
    "id": "IUh-iswqZLFy"
   },
   "source": [
    "### fill и fillna\n",
    "\n",
    "Оба метода идентичны, заполняют пропуски"
   ]
  },
  {
   "cell_type": "code",
   "execution_count": 136,
   "metadata": {
    "id": "CqDjntPTaMWK"
   },
   "outputs": [],
   "source": [
    "import numpy as np"
   ]
  },
  {
   "cell_type": "code",
   "execution_count": 137,
   "metadata": {
    "id": "zu7pS9UVZKcY"
   },
   "outputs": [],
   "source": [
    "data2 = [(2,'Michael Rose'),(3,'Robert Williams'),\n",
    "     (4,'Rames Rose'),(5, None), (6, None),\n",
    "     (None, 'Fred Tf')\n",
    "  ]\n",
    "df2 = spark.createDataFrame(data2, ['id', 'name'])"
   ]
  },
  {
   "cell_type": "markdown",
   "metadata": {
    "id": "9jtEyGTDFkPu"
   },
   "source": [
    "А где пропуски?"
   ]
  },
  {
   "cell_type": "code",
   "execution_count": 138,
   "metadata": {
    "colab": {
     "base_uri": "https://localhost:8080/"
    },
    "id": "gEQhiI-FFiLe",
    "outputId": "7dac39e0-b378-4f92-90ef-58f0cea66f54"
   },
   "outputs": [
    {
     "name": "stdout",
     "output_type": "stream",
     "text": [
      "+---+----+\n",
      "| id|name|\n",
      "+---+----+\n",
      "|  1|   2|\n",
      "+---+----+\n",
      "\n"
     ]
    }
   ],
   "source": [
    "df2.select([F.count(F.when(F.isnan(c) | F.col(c).isNull(), c)).alias(c) for c in df2.columns]).show()"
   ]
  },
  {
   "cell_type": "code",
   "execution_count": 139,
   "metadata": {
    "colab": {
     "base_uri": "https://localhost:8080/"
    },
    "id": "RwL5c9f1aZfQ",
    "outputId": "6d93d062-0f7c-41a4-d61d-ea6f7ce5f74a"
   },
   "outputs": [
    {
     "name": "stdout",
     "output_type": "stream",
     "text": [
      "+----+---------------+\n",
      "|  id|           name|\n",
      "+----+---------------+\n",
      "|   2|   Michael Rose|\n",
      "|   3|Robert Williams|\n",
      "|   4|     Rames Rose|\n",
      "|   5|           NULL|\n",
      "|   6|           NULL|\n",
      "|NULL|        Fred Tf|\n",
      "+----+---------------+\n",
      "\n"
     ]
    }
   ],
   "source": [
    "df2.show()"
   ]
  },
  {
   "cell_type": "code",
   "execution_count": 140,
   "metadata": {
    "colab": {
     "base_uri": "https://localhost:8080/"
    },
    "id": "m4ZY2Y9Lab8D",
    "outputId": "d6da863b-7a56-4c1a-e698-e8dbc73d0cde"
   },
   "outputs": [
    {
     "name": "stdout",
     "output_type": "stream",
     "text": [
      "+---+---------------+\n",
      "| id|           name|\n",
      "+---+---------------+\n",
      "|  2|   Michael Rose|\n",
      "|  3|Robert Williams|\n",
      "|  4|     Rames Rose|\n",
      "|  5|           NULL|\n",
      "|  6|           NULL|\n",
      "|  0|        Fred Tf|\n",
      "+---+---------------+\n",
      "\n"
     ]
    }
   ],
   "source": [
    "df2.fillna({'id': 0}).show()"
   ]
  },
  {
   "cell_type": "code",
   "execution_count": 141,
   "metadata": {
    "colab": {
     "base_uri": "https://localhost:8080/"
    },
    "id": "vyi4vYFSa_TS",
    "outputId": "a2f7fde4-77b0-45ac-d779-b81e16c257e3"
   },
   "outputs": [
    {
     "name": "stdout",
     "output_type": "stream",
     "text": [
      "+---+---------------+\n",
      "| id|           name|\n",
      "+---+---------------+\n",
      "|  2|   Michael Rose|\n",
      "|  3|Robert Williams|\n",
      "|  4|     Rames Rose|\n",
      "|  5|        Unknown|\n",
      "|  6|        Unknown|\n",
      "|  0|        Fred Tf|\n",
      "+---+---------------+\n",
      "\n"
     ]
    }
   ],
   "source": [
    "df2.fillna({'id': 0, 'name': 'Unknown'}).show()"
   ]
  },
  {
   "cell_type": "markdown",
   "metadata": {
    "id": "gFF3UQJlbJsY"
   },
   "source": [
    "Аналогично"
   ]
  },
  {
   "cell_type": "code",
   "execution_count": 142,
   "metadata": {
    "colab": {
     "base_uri": "https://localhost:8080/"
    },
    "id": "DjH5G5DCbMJG",
    "outputId": "ef3532d3-b8e0-4a94-eaca-0fd1d83e536e"
   },
   "outputs": [
    {
     "name": "stdout",
     "output_type": "stream",
     "text": [
      "+---+---------------+\n",
      "| id|           name|\n",
      "+---+---------------+\n",
      "|  2|   Michael Rose|\n",
      "|  3|Robert Williams|\n",
      "|  4|     Rames Rose|\n",
      "|  5|        Unknown|\n",
      "|  6|        Unknown|\n",
      "|  0|        Fred Tf|\n",
      "+---+---------------+\n",
      "\n"
     ]
    }
   ],
   "source": [
    "df2.na.fill({'id': 0, 'name': 'Unknown'}).show()"
   ]
  },
  {
   "cell_type": "markdown",
   "metadata": {},
   "source": [
    "Немного поговорим о том, как делаеть подвыборки"
   ]
  },
  {
   "cell_type": "markdown",
   "metadata": {
    "id": "KS1BDHPNmKGX"
   },
   "source": [
    "### sample и sampleBy\n",
    "\n",
    "Не забываем про возможную некоторую недетерминированность"
   ]
  },
  {
   "cell_type": "code",
   "execution_count": 143,
   "metadata": {
    "id": "zuFgRqpDgmj6"
   },
   "outputs": [],
   "source": [
    "import pyspark.sql.functions as F"
   ]
  },
  {
   "cell_type": "code",
   "execution_count": 144,
   "metadata": {
    "id": "u3sUPPgLmJiW"
   },
   "outputs": [],
   "source": [
    "trans_data = spark.read.parquet('./spark_transactions.parquet')\n",
    "trans_data = trans_data.withColumn('target', F.when(F.col('IsFraud')=='No', 0).otherwise(1))"
   ]
  },
  {
   "cell_type": "code",
   "execution_count": 145,
   "metadata": {
    "colab": {
     "base_uri": "https://localhost:8080/"
    },
    "id": "LV9Dc3_GmcoD",
    "outputId": "855dd48b-5700-4d98-f711-7d42b27c6b79"
   },
   "outputs": [
    {
     "data": {
      "text/plain": [
       "24386900"
      ]
     },
     "execution_count": 145,
     "metadata": {},
     "output_type": "execute_result"
    }
   ],
   "source": [
    "trans_data.count()"
   ]
  },
  {
   "cell_type": "code",
   "execution_count": 146,
   "metadata": {
    "colab": {
     "base_uri": "https://localhost:8080/"
    },
    "id": "Yc7cxK3yno28",
    "outputId": "1697bd7a-b247-4d53-dc96-75f79fb1620a"
   },
   "outputs": [
    {
     "name": "stdout",
     "output_type": "stream",
     "text": [
      "+--------------------+\n",
      "|         avg(target)|\n",
      "+--------------------+\n",
      "|0.001220204290008...|\n",
      "+--------------------+\n",
      "\n"
     ]
    }
   ],
   "source": [
    "trans_data.select(F.mean(F.col('target'))).show()"
   ]
  },
  {
   "cell_type": "code",
   "execution_count": 147,
   "metadata": {
    "colab": {
     "base_uri": "https://localhost:8080/"
    },
    "id": "JYcyQctEy1mY",
    "outputId": "eda9746e-0d2f-4bd8-8bec-63668ab177c0"
   },
   "outputs": [
    {
     "name": "stdout",
     "output_type": "stream",
     "text": [
      "+------+--------+\n",
      "|target|   count|\n",
      "+------+--------+\n",
      "|     1|   29757|\n",
      "|     0|24357143|\n",
      "+------+--------+\n",
      "\n"
     ]
    }
   ],
   "source": [
    "trans_data.select('target')\\\n",
    "          .groupBy('target')\\\n",
    "          .count()\\\n",
    "          .show()"
   ]
  },
  {
   "cell_type": "code",
   "execution_count": 148,
   "metadata": {
    "colab": {
     "base_uri": "https://localhost:8080/"
    },
    "id": "5uX2m5MEmeIm",
    "outputId": "42fce875-50f1-484a-b47a-fab66b9ad7ae"
   },
   "outputs": [
    {
     "name": "stdout",
     "output_type": "stream",
     "text": [
      "2435202\n",
      "+--------------------+\n",
      "|         avg(target)|\n",
      "+--------------------+\n",
      "|0.001233983874848986|\n",
      "+--------------------+\n",
      "\n"
     ]
    }
   ],
   "source": [
    "trans_data_simple = trans_data.sample(withReplacement=False, fraction=0.1, seed=3)\n",
    "print(trans_data_simple.count())\n",
    "trans_data_simple.select(F.mean(F.col('target'))).show()"
   ]
  },
  {
   "cell_type": "markdown",
   "metadata": {
    "id": "uotzZFIqnTEi"
   },
   "source": [
    "Стратификация\n",
    "\n",
    "Тут важно понимать, что это не scikit-learn и стратификация предполагает, что вы по какому-то полю можете выбрать определенную долю наблюдений по его значениям"
   ]
  },
  {
   "cell_type": "code",
   "execution_count": 149,
   "metadata": {
    "colab": {
     "base_uri": "https://localhost:8080/"
    },
    "id": "2MciDJrYnM-j",
    "outputId": "6be40735-1d85-4583-ba51-a56b14815341"
   },
   "outputs": [
    {
     "name": "stdout",
     "output_type": "stream",
     "text": [
      "+------+-----+\n",
      "|target|count|\n",
      "+------+-----+\n",
      "|     1|29757|\n",
      "+------+-----+\n",
      "\n"
     ]
    }
   ],
   "source": [
    "trans_data.sampleBy(F.col('target'), fractions={1: 1.0}, seed=0)\\\n",
    "          .select('target')\\\n",
    "          .groupBy('target')\\\n",
    "          .count()\\\n",
    "          .show()"
   ]
  },
  {
   "cell_type": "markdown",
   "metadata": {
    "id": "crv0BlfIzlYU"
   },
   "source": [
    "Не указали какой-то ключ - его доля будет 0"
   ]
  },
  {
   "cell_type": "code",
   "execution_count": 150,
   "metadata": {
    "colab": {
     "base_uri": "https://localhost:8080/"
    },
    "id": "NQBDyAfezrS4",
    "outputId": "7d4e68bb-60ee-4c13-da8f-019dc129807a"
   },
   "outputs": [
    {
     "name": "stdout",
     "output_type": "stream",
     "text": [
      "+------+-------+\n",
      "|target|  count|\n",
      "+------+-------+\n",
      "|     1|  29757|\n",
      "|     0|2436313|\n",
      "+------+-------+\n",
      "\n"
     ]
    }
   ],
   "source": [
    "trans_data.sampleBy(F.col('target'), fractions={1: 1.0, 0: 0.1}, seed=0)\\\n",
    "          .select('target')\\\n",
    "          .groupBy('target')\\\n",
    "          .count()\\\n",
    "          .show()"
   ]
  },
  {
   "cell_type": "markdown",
   "metadata": {},
   "source": [
    "### Оконные функции"
   ]
  },
  {
   "cell_type": "markdown",
   "metadata": {
    "id": "-XBlXlCI0O0K"
   },
   "source": [
    "Оконные функции **F.func().over(Window.partitionBy().orderBy())**"
   ]
  },
  {
   "cell_type": "code",
   "execution_count": 151,
   "metadata": {
    "id": "-p4PyshB2jtk"
   },
   "outputs": [],
   "source": [
    "from pyspark.sql.window import Window"
   ]
  },
  {
   "cell_type": "code",
   "execution_count": 152,
   "metadata": {
    "colab": {
     "base_uri": "https://localhost:8080/"
    },
    "id": "ovFXtw2j4VvG",
    "outputId": "49a86eec-69c5-499b-c948-f102b394db9b"
   },
   "outputs": [
    {
     "name": "stdout",
     "output_type": "stream",
     "text": [
      "+----+----+----+-----+---+----+----+------------------+----+\n",
      "|User|Card|Year|Month|Day|rn_1|rn_2|              mean| lag|\n",
      "+----+----+----+-----+---+----+----+------------------+----+\n",
      "|   1|   3|2011|    1|  8|   9|  20|16.166666666666668|NULL|\n",
      "|   1|   3|2012|    1| 28|  21|  30|16.166666666666668|   8|\n",
      "|   1|   3|2013|    1| 28|  32|  47|16.166666666666668|  28|\n",
      "|   1|   3|2013|    1|  1|  31|  46|16.166666666666668|  28|\n",
      "|   1|   3|2014|    1| 30|  48|  58|16.166666666666668|   1|\n",
      "|   1|   3|2016|    1|  2|  71|  80|16.166666666666668|  30|\n",
      "|   1|   3|2011|    2| 23|  11|  19|            19.625|NULL|\n",
      "|   1|   3|2011|    2| 21|  10|  18|            19.625|  23|\n",
      "|   1|   3|2013|    2| 21|  34|  45|            19.625|  21|\n",
      "|   1|   3|2013|    2| 19|  33|  44|            19.625|  21|\n",
      "|   1|   3|2015|    2| 11|  59|  70|            19.625|  19|\n",
      "|   1|   3|2017|    2| 15|  81|  92|            19.625|  11|\n",
      "|   1|   3|2019|    2| 26| 103| 112|            19.625|  15|\n",
      "|   1|   3|2019|    2| 21| 102| 111|            19.625|  26|\n",
      "|   1|   3|2011|    3| 24|  12|  17|13.555555555555555|NULL|\n",
      "|   1|   3|2013|    3|  8|  35|  43|13.555555555555555|  24|\n",
      "|   1|   3|2014|    3| 16|  50|  57|13.555555555555555|   8|\n",
      "|   1|   3|2014|    3|  6|  49|  56|13.555555555555555|  16|\n",
      "|   1|   3|2016|    3| 12|  72|  79|13.555555555555555|   6|\n",
      "|   1|   3|2017|    3| 26|  82|  91|13.555555555555555|  12|\n",
      "+----+----+----+-----+---+----+----+------------------+----+\n",
      "only showing top 20 rows\n",
      "\n"
     ]
    }
   ],
   "source": [
    "trans_data_simple.select('User', 'Card', 'Year', 'Month', 'Day')\\\n",
    ".withColumn('rn_1', F.row_number().over(Window.partitionBy('User', 'Card').orderBy(F.col('Year').asc())))\\\n",
    ".withColumn('rn_2', F.row_number().over(Window.partitionBy('User', 'Card').orderBy(F.col('Year').asc(), F.col('Month').desc())))\\\n",
    ".withColumn('mean', F.mean('Day').over(Window.partitionBy('User', 'Card', 'Month')))\\\n",
    ".withColumn('lag', F.lag('Day').over(Window.partitionBy('User', 'Card', 'Month').orderBy(F.col('Year').asc(),\n",
    "                                                                                         F.col('Month').desc(),\n",
    "                                                                                         F.col('Day').desc())))\\\n",
    ".show()"
   ]
  },
  {
   "cell_type": "markdown",
   "metadata": {},
   "source": [
    "### Сборка последовательностей"
   ]
  },
  {
   "cell_type": "markdown",
   "metadata": {
    "id": "l5kvR2tz8GzD"
   },
   "source": [
    "Сборка последовательностей через **collect_list()**"
   ]
  },
  {
   "cell_type": "code",
   "execution_count": 153,
   "metadata": {
    "colab": {
     "base_uri": "https://localhost:8080/"
    },
    "id": "0yWD7_HZhklz",
    "outputId": "c3d4ccd3-fad0-4f81-cab5-b09a1bc91c94"
   },
   "outputs": [
    {
     "name": "stdout",
     "output_type": "stream",
     "text": [
      "root\n",
      " |-- User: long (nullable = true)\n",
      " |-- Card: long (nullable = true)\n",
      " |-- Year: long (nullable = true)\n",
      " |-- Month: long (nullable = true)\n",
      " |-- Day: long (nullable = true)\n",
      " |-- Time: string (nullable = true)\n",
      " |-- Amount: string (nullable = true)\n",
      " |-- UseChip: string (nullable = true)\n",
      " |-- MerchantCity: string (nullable = true)\n",
      " |-- MerchantState: string (nullable = true)\n",
      " |-- Zip: double (nullable = true)\n",
      " |-- MCC: long (nullable = true)\n",
      " |-- IsFraud: string (nullable = true)\n",
      " |-- target: integer (nullable = false)\n",
      "\n"
     ]
    }
   ],
   "source": [
    "trans_data.printSchema()"
   ]
  },
  {
   "cell_type": "code",
   "execution_count": 154,
   "metadata": {
    "id": "Rf9_lhZwg951"
   },
   "outputs": [],
   "source": [
    "trans_data_simple_seq = trans_data_simple.select('User', 'Card', F.struct('Amount', 'Day').alias('sequence'))"
   ]
  },
  {
   "cell_type": "code",
   "execution_count": 155,
   "metadata": {
    "colab": {
     "base_uri": "https://localhost:8080/"
    },
    "id": "zUhoyMlPh3Tv",
    "outputId": "613cb6f5-cc0f-4c6c-da12-2c66301cdcc0"
   },
   "outputs": [
    {
     "name": "stdout",
     "output_type": "stream",
     "text": [
      "+----+----+-------------+\n",
      "|User|Card|     sequence|\n",
      "+----+----+-------------+\n",
      "|   0|   0| {$134.09, 1}|\n",
      "|   0|   0|  {$53.91, 5}|\n",
      "|   0|   0|  {$65.50, 9}|\n",
      "|   0|   0| {$144.90, 9}|\n",
      "|   0|   0|{$134.89, 23}|\n",
      "|   0|   0|{$100.00, 25}|\n",
      "|   0|   0| {$57.64, 27}|\n",
      "|   0|   0|{$142.06, 10}|\n",
      "|   0|   0|{$207.00, 14}|\n",
      "|   0|   0| {$99.09, 15}|\n",
      "|   0|   0| {$35.82, 25}|\n",
      "|   0|   0|{$216.47, 26}|\n",
      "|   0|   0| {$35.92, 30}|\n",
      "|   0|   0|  {$42.01, 8}|\n",
      "|   0|   0|{$151.49, 14}|\n",
      "|   0|   0|{$113.32, 14}|\n",
      "|   0|   0|{$127.33, 18}|\n",
      "|   0|   0|{$228.92, 23}|\n",
      "|   0|   0|{$148.42, 27}|\n",
      "|   0|   0| {$210.96, 8}|\n",
      "+----+----+-------------+\n",
      "only showing top 20 rows\n",
      "\n"
     ]
    }
   ],
   "source": [
    "trans_data_simple_seq.show()"
   ]
  },
  {
   "cell_type": "code",
   "execution_count": 156,
   "metadata": {
    "id": "IsS936Krh9RH"
   },
   "outputs": [],
   "source": [
    "trans_data_simple_seq = trans_data_simple_seq.groupBy('User', 'Card')\\\n",
    "                                             .agg(F.collect_list('sequence').alias('sequence'))"
   ]
  },
  {
   "cell_type": "code",
   "execution_count": 157,
   "metadata": {
    "colab": {
     "base_uri": "https://localhost:8080/"
    },
    "id": "Z-NZsqmxiSSG",
    "outputId": "d8050751-b986-45b3-904d-90bcc68480a3"
   },
   "outputs": [
    {
     "name": "stdout",
     "output_type": "stream",
     "text": [
      "+----+----+--------------------------------------------------+\n",
      "|User|Card|                                          sequence|\n",
      "+----+----+--------------------------------------------------+\n",
      "|   1|   3|[{$15.61, 1}, {$51.90, 8}, {$85.96, 16}, {$62.8...|\n",
      "|   3|   0|[{$87.52, 15}, {$398.49, 16}, {$135.19, 19}, {$...|\n",
      "|   4|   0|[{$16.52, 1}, {$44.15, 5}, {$82.86, 8}, {$92.88...|\n",
      "|  13|   1|[{$43.04, 18}, {$100.00, 19}, {$100.00, 19}, {$...|\n",
      "|  16|   4|[{$39.82, 2}, {$57.01, 4}, {$71.12, 24}, {$35.6...|\n",
      "|  19|   2|[{$27.33, 2}, {$18.92, 2}, {$33.42, 8}, {$44.64...|\n",
      "|  27|   0|[{$5.27, 7}, {$125.02, 7}, {$4.11, 9}, {$9.48, ...|\n",
      "|  29|   3|[{$22.45, 8}, {$2.82, 12}, {$109.43, 13}, {$2.9...|\n",
      "|  31|   0|[{$13.13, 2}, {$7.21, 17}, {$5.80, 18}, {$8.22,...|\n",
      "|  33|   0|[{$978.44, 1}, {$1.69, 4}, {$1.61, 21}, {$160.0...|\n",
      "|  36|   0|[{$0.40, 7}, {$9.50, 14}, {$120.00, 23}, {$0.29...|\n",
      "|  46|   0|[{$31.44, 1}, {$34.95, 2}, {$36.23, 26}, {$80.0...|\n",
      "|  49|   0|[{$10.83, 14}, {$6.49, 19}, {$0.91, 3}, {$35.98...|\n",
      "|  50|   1|[{$70.00, 3}, {$19.78, 9}, {$222.86, 17}, {$5.6...|\n",
      "|  52|   0|[{$44.93, 1}, {$57.93, 4}, {$41.38, 10}, {$19.9...|\n",
      "|  61|   1|[{$17.53, 3}, {$50.00, 8}, {$-78.00, 2}, {$27.2...|\n",
      "|  61|   5|[{$63.25, 12}, {$22.32, 22}, {$21.12, 12}, {$32...|\n",
      "|  63|   1|                                    [{$51.43, 25}]|\n",
      "|  67|   0|[{$4.08, 6}, {$4.16, 12}, {$3.33, 1}, {$-95.00,...|\n",
      "|  67|   2|[{$3.29, 27}, {$13.74, 18}, {$28.04, 20}, {$183...|\n",
      "+----+----+--------------------------------------------------+\n",
      "only showing top 20 rows\n",
      "\n"
     ]
    }
   ],
   "source": [
    "trans_data_simple_seq.show(truncate=50)"
   ]
  },
  {
   "cell_type": "markdown",
   "metadata": {
    "id": "Rd8ITh5XikuI"
   },
   "source": [
    "А что с этим делать дальше? Можно перейти к RDD и построчно обрабатывать"
   ]
  },
  {
   "cell_type": "code",
   "execution_count": 158,
   "metadata": {
    "id": "Jq8hyqcsikLw"
   },
   "outputs": [],
   "source": [
    "row = trans_data_simple_seq.rdd.take(1)"
   ]
  },
  {
   "cell_type": "code",
   "execution_count": 159,
   "metadata": {
    "colab": {
     "base_uri": "https://localhost:8080/"
    },
    "id": "TrbCyyt1ivcg",
    "outputId": "ae4e7fe5-8ca6-4e6b-a9a2-4033278f9326"
   },
   "outputs": [
    {
     "data": {
      "text/plain": [
       "[Row(User=1, Card=3, sequence=[Row(Amount='$15.61', Day=1), Row(Amount='$51.90', Day=8), Row(Amount='$85.96', Day=16), Row(Amount='$62.83', Day=27), Row(Amount='$16.73', Day=20), Row(Amount='$3.91', Day=17), Row(Amount='$80.00', Day=10), Row(Amount='$24.61', Day=18), Row(Amount='$0.40', Day=8), Row(Amount='$172.53', Day=21), Row(Amount='$17.54', Day=23), Row(Amount='$69.50', Day=24), Row(Amount='$17.40', Day=24), Row(Amount='$15.99', Day=10), Row(Amount='$96.37', Day=3), Row(Amount='$17.83', Day=10), Row(Amount='$0.65', Day=16), Row(Amount='$14.95', Day=30), Row(Amount='$62.98', Day=10), Row(Amount='$78.70', Day=27), Row(Amount='$29.71', Day=28), Row(Amount='$89.99', Day=23), Row(Amount='$19.44', Day=11), Row(Amount='$61.89', Day=29), Row(Amount='$16.52', Day=21), Row(Amount='$18.14', Day=24), Row(Amount='$62.72', Day=17), Row(Amount='$107.61', Day=17), Row(Amount='$95.00', Day=17), Row(Amount='$-95.00', Day=17), Row(Amount='$97.27', Day=1), Row(Amount='$26.49', Day=28), Row(Amount='$25.56', Day=19), Row(Amount='$84.63', Day=21), Row(Amount='$97.38', Day=8), Row(Amount='$16.29', Day=15), Row(Amount='$0.53', Day=21), Row(Amount='$77.08', Day=7), Row(Amount='$8.94', Day=28), Row(Amount='$68.22', Day=5), Row(Amount='$22.15', Day=24), Row(Amount='$14.61', Day=26), Row(Amount='$72.06', Day=20), Row(Amount='$73.05', Day=29), Row(Amount='$15.72', Day=8), Row(Amount='$92.45', Day=22), Row(Amount='$13.21', Day=28), Row(Amount='$44.48', Day=30), Row(Amount='$3.84', Day=6), Row(Amount='$18.54', Day=16), Row(Amount='$75.47', Day=2), Row(Amount='$72.31', Day=14), Row(Amount='$5.59', Day=30), Row(Amount='$27.60', Day=7), Row(Amount='$0.86', Day=19), Row(Amount='$32.26', Day=1), Row(Amount='$51.18', Day=19), Row(Amount='$21.17', Day=27), Row(Amount='$90.68', Day=11), Row(Amount='$17.04', Day=5), Row(Amount='$-60.00', Day=7), Row(Amount='$56.05', Day=21), Row(Amount='$66.34', Day=26), Row(Amount='$70.37', Day=10), Row(Amount='$9.95', Day=11), Row(Amount='$19.25', Day=25), Row(Amount='$66.33', Day=20), Row(Amount='$68.25', Day=27), Row(Amount='$64.89', Day=9), Row(Amount='$74.05', Day=30), Row(Amount='$65.30', Day=2), Row(Amount='$72.18', Day=12), Row(Amount='$15.35', Day=21), Row(Amount='$67.11', Day=3), Row(Amount='$14.78', Day=12), Row(Amount='$66.62', Day=18), Row(Amount='$80.58', Day=22), Row(Amount='$12.40', Day=6), Row(Amount='$51.89', Day=9), Row(Amount='$-81.00', Day=6), Row(Amount='$11.65', Day=15), Row(Amount='$77.59', Day=26), Row(Amount='$14.92', Day=15), Row(Amount='$65.91', Day=26), Row(Amount='$19.66', Day=25), Row(Amount='$16.24', Day=31), Row(Amount='$-62.00', Day=12), Row(Amount='$66.83', Day=14), Row(Amount='$67.90', Day=18), Row(Amount='$91.79', Day=21), Row(Amount='$77.45', Day=19), Row(Amount='$-96.00', Day=21), Row(Amount='$72.46', Day=10), Row(Amount='$86.87', Day=8), Row(Amount='$76.06', Day=14), Row(Amount='$61.95', Day=14), Row(Amount='$57.39', Day=20), Row(Amount='$19.72', Day=28), Row(Amount='$44.56', Day=7), Row(Amount='$66.30', Day=24), Row(Amount='$17.80', Day=9), Row(Amount='$13.81', Day=21), Row(Amount='$74.07', Day=26), Row(Amount='$74.14', Day=2), Row(Amount='$45.86', Day=11), Row(Amount='$95.66', Day=17), Row(Amount='$12.89', Day=5), Row(Amount='$14.17', Day=2), Row(Amount='$14.00', Day=9), Row(Amount='$74.01', Day=8), Row(Amount='$97.16', Day=15), Row(Amount='$71.27', Day=31)])]"
      ]
     },
     "execution_count": 159,
     "metadata": {},
     "output_type": "execute_result"
    }
   ],
   "source": [
    "row"
   ]
  },
  {
   "cell_type": "code",
   "execution_count": 160,
   "metadata": {
    "colab": {
     "base_uri": "https://localhost:8080/"
    },
    "id": "O30kjweEix_C",
    "outputId": "155a30c3-b539-4de5-ad40-44e08408447d"
   },
   "outputs": [
    {
     "data": {
      "text/plain": [
       "[Row(Amount='$15.61', Day=1),\n",
       " Row(Amount='$51.90', Day=8),\n",
       " Row(Amount='$85.96', Day=16),\n",
       " Row(Amount='$62.83', Day=27),\n",
       " Row(Amount='$16.73', Day=20),\n",
       " Row(Amount='$3.91', Day=17),\n",
       " Row(Amount='$80.00', Day=10),\n",
       " Row(Amount='$24.61', Day=18),\n",
       " Row(Amount='$0.40', Day=8),\n",
       " Row(Amount='$172.53', Day=21),\n",
       " Row(Amount='$17.54', Day=23),\n",
       " Row(Amount='$69.50', Day=24),\n",
       " Row(Amount='$17.40', Day=24),\n",
       " Row(Amount='$15.99', Day=10),\n",
       " Row(Amount='$96.37', Day=3),\n",
       " Row(Amount='$17.83', Day=10),\n",
       " Row(Amount='$0.65', Day=16),\n",
       " Row(Amount='$14.95', Day=30),\n",
       " Row(Amount='$62.98', Day=10),\n",
       " Row(Amount='$78.70', Day=27),\n",
       " Row(Amount='$29.71', Day=28),\n",
       " Row(Amount='$89.99', Day=23),\n",
       " Row(Amount='$19.44', Day=11),\n",
       " Row(Amount='$61.89', Day=29),\n",
       " Row(Amount='$16.52', Day=21),\n",
       " Row(Amount='$18.14', Day=24),\n",
       " Row(Amount='$62.72', Day=17),\n",
       " Row(Amount='$107.61', Day=17),\n",
       " Row(Amount='$95.00', Day=17),\n",
       " Row(Amount='$-95.00', Day=17),\n",
       " Row(Amount='$97.27', Day=1),\n",
       " Row(Amount='$26.49', Day=28),\n",
       " Row(Amount='$25.56', Day=19),\n",
       " Row(Amount='$84.63', Day=21),\n",
       " Row(Amount='$97.38', Day=8),\n",
       " Row(Amount='$16.29', Day=15),\n",
       " Row(Amount='$0.53', Day=21),\n",
       " Row(Amount='$77.08', Day=7),\n",
       " Row(Amount='$8.94', Day=28),\n",
       " Row(Amount='$68.22', Day=5),\n",
       " Row(Amount='$22.15', Day=24),\n",
       " Row(Amount='$14.61', Day=26),\n",
       " Row(Amount='$72.06', Day=20),\n",
       " Row(Amount='$73.05', Day=29),\n",
       " Row(Amount='$15.72', Day=8),\n",
       " Row(Amount='$92.45', Day=22),\n",
       " Row(Amount='$13.21', Day=28),\n",
       " Row(Amount='$44.48', Day=30),\n",
       " Row(Amount='$3.84', Day=6),\n",
       " Row(Amount='$18.54', Day=16),\n",
       " Row(Amount='$75.47', Day=2),\n",
       " Row(Amount='$72.31', Day=14),\n",
       " Row(Amount='$5.59', Day=30),\n",
       " Row(Amount='$27.60', Day=7),\n",
       " Row(Amount='$0.86', Day=19),\n",
       " Row(Amount='$32.26', Day=1),\n",
       " Row(Amount='$51.18', Day=19),\n",
       " Row(Amount='$21.17', Day=27),\n",
       " Row(Amount='$90.68', Day=11),\n",
       " Row(Amount='$17.04', Day=5),\n",
       " Row(Amount='$-60.00', Day=7),\n",
       " Row(Amount='$56.05', Day=21),\n",
       " Row(Amount='$66.34', Day=26),\n",
       " Row(Amount='$70.37', Day=10),\n",
       " Row(Amount='$9.95', Day=11),\n",
       " Row(Amount='$19.25', Day=25),\n",
       " Row(Amount='$66.33', Day=20),\n",
       " Row(Amount='$68.25', Day=27),\n",
       " Row(Amount='$64.89', Day=9),\n",
       " Row(Amount='$74.05', Day=30),\n",
       " Row(Amount='$65.30', Day=2),\n",
       " Row(Amount='$72.18', Day=12),\n",
       " Row(Amount='$15.35', Day=21),\n",
       " Row(Amount='$67.11', Day=3),\n",
       " Row(Amount='$14.78', Day=12),\n",
       " Row(Amount='$66.62', Day=18),\n",
       " Row(Amount='$80.58', Day=22),\n",
       " Row(Amount='$12.40', Day=6),\n",
       " Row(Amount='$51.89', Day=9),\n",
       " Row(Amount='$-81.00', Day=6),\n",
       " Row(Amount='$11.65', Day=15),\n",
       " Row(Amount='$77.59', Day=26),\n",
       " Row(Amount='$14.92', Day=15),\n",
       " Row(Amount='$65.91', Day=26),\n",
       " Row(Amount='$19.66', Day=25),\n",
       " Row(Amount='$16.24', Day=31),\n",
       " Row(Amount='$-62.00', Day=12),\n",
       " Row(Amount='$66.83', Day=14),\n",
       " Row(Amount='$67.90', Day=18),\n",
       " Row(Amount='$91.79', Day=21),\n",
       " Row(Amount='$77.45', Day=19),\n",
       " Row(Amount='$-96.00', Day=21),\n",
       " Row(Amount='$72.46', Day=10),\n",
       " Row(Amount='$86.87', Day=8),\n",
       " Row(Amount='$76.06', Day=14),\n",
       " Row(Amount='$61.95', Day=14),\n",
       " Row(Amount='$57.39', Day=20),\n",
       " Row(Amount='$19.72', Day=28),\n",
       " Row(Amount='$44.56', Day=7),\n",
       " Row(Amount='$66.30', Day=24),\n",
       " Row(Amount='$17.80', Day=9),\n",
       " Row(Amount='$13.81', Day=21),\n",
       " Row(Amount='$74.07', Day=26),\n",
       " Row(Amount='$74.14', Day=2),\n",
       " Row(Amount='$45.86', Day=11),\n",
       " Row(Amount='$95.66', Day=17),\n",
       " Row(Amount='$12.89', Day=5),\n",
       " Row(Amount='$14.17', Day=2),\n",
       " Row(Amount='$14.00', Day=9),\n",
       " Row(Amount='$74.01', Day=8),\n",
       " Row(Amount='$97.16', Day=15),\n",
       " Row(Amount='$71.27', Day=31)]"
      ]
     },
     "execution_count": 160,
     "metadata": {},
     "output_type": "execute_result"
    }
   ],
   "source": [
    "row[0]['sequence']"
   ]
  },
  {
   "cell_type": "markdown",
   "metadata": {},
   "source": [
    "# Домашнее задание"
   ]
  },
  {
   "cell_type": "markdown",
   "metadata": {
    "id": "vAVfOjcTcdGQ"
   },
   "source": [
    "Куда же без домашки, верно?\n",
    "\n",
    "Есть данные по транзакциям клиентов, ваша задача состоит в анализе этих данных и подготовки к структуре, которая похожа на ту структуру, которая сейчас часто нами используется при построении моделей на транзакциях + промежуточные задания.\n",
    "\n",
    "Не забудьте делать всякие show после каждого задания, чтобы было видно результат\n",
    "\n",
    "**Файл spark_transactions.parquet можете забрать в папке с записями лекций**\n",
    "\n",
    "**Важно**\n",
    "В домашнем задании старайтесь использовать максимально dataframe api, а не sql запросы."
   ]
  },
  {
   "cell_type": "markdown",
   "metadata": {},
   "source": [
    "## Данные"
   ]
  },
  {
   "cell_type": "code",
   "execution_count": 161,
   "metadata": {
    "id": "C-0T0sTY5Odw"
   },
   "outputs": [],
   "source": [
    "trans_data = spark.read.parquet('./spark_transactions.parquet')"
   ]
  },
  {
   "cell_type": "code",
   "execution_count": 162,
   "metadata": {
    "colab": {
     "base_uri": "https://localhost:8080/"
    },
    "id": "ULuAEhmOmEC4",
    "outputId": "e2d3d87f-c97f-46df-fead-09ca9e414261"
   },
   "outputs": [
    {
     "data": {
      "text/plain": [
       "24386900"
      ]
     },
     "execution_count": 162,
     "metadata": {},
     "output_type": "execute_result"
    }
   ],
   "source": [
    "trans_data.count()"
   ]
  },
  {
   "cell_type": "code",
   "execution_count": 163,
   "metadata": {
    "colab": {
     "base_uri": "https://localhost:8080/"
    },
    "id": "wTg-84Tr7tq4",
    "outputId": "6c7a44df-fc4d-408e-9587-2a2f21f676b3"
   },
   "outputs": [
    {
     "name": "stdout",
     "output_type": "stream",
     "text": [
      "+----+----+----+-----+---+-----+-------+-----------------+-------------+-------------+-------+----+-------+\n",
      "|User|Card|Year|Month|Day| Time| Amount|          UseChip| MerchantCity|MerchantState|    Zip| MCC|IsFraud|\n",
      "+----+----+----+-----+---+-----+-------+-----------------+-------------+-------------+-------+----+-------+\n",
      "|   0|   0|2002|    9|  1|06:21|$134.09|Swipe Transaction|     La Verne|           CA|91750.0|5300|     No|\n",
      "|   0|   0|2002|    9|  1|06:42| $38.48|Swipe Transaction|Monterey Park|           CA|91754.0|5411|     No|\n",
      "|   0|   0|2002|    9|  2|06:22|$120.34|Swipe Transaction|Monterey Park|           CA|91754.0|5411|     No|\n",
      "|   0|   0|2002|    9|  2|17:45|$128.95|Swipe Transaction|Monterey Park|           CA|91754.0|5651|     No|\n",
      "|   0|   0|2002|    9|  3|06:23|$104.71|Swipe Transaction|     La Verne|           CA|91750.0|5912|     No|\n",
      "+----+----+----+-----+---+-----+-------+-----------------+-------------+-------------+-------+----+-------+\n",
      "only showing top 5 rows\n",
      "\n"
     ]
    }
   ],
   "source": [
    "trans_data.show(5)"
   ]
  },
  {
   "cell_type": "markdown",
   "metadata": {
    "id": "Wa1YHO4iJNlU"
   },
   "source": [
    "Схема данных"
   ]
  },
  {
   "cell_type": "code",
   "execution_count": 164,
   "metadata": {
    "id": "97WEy56hXtsj"
   },
   "outputs": [
    {
     "name": "stdout",
     "output_type": "stream",
     "text": [
      "root\n",
      " |-- User: long (nullable = true)\n",
      " |-- Card: long (nullable = true)\n",
      " |-- Year: long (nullable = true)\n",
      " |-- Month: long (nullable = true)\n",
      " |-- Day: long (nullable = true)\n",
      " |-- Time: string (nullable = true)\n",
      " |-- Amount: string (nullable = true)\n",
      " |-- UseChip: string (nullable = true)\n",
      " |-- MerchantCity: string (nullable = true)\n",
      " |-- MerchantState: string (nullable = true)\n",
      " |-- Zip: double (nullable = true)\n",
      " |-- MCC: long (nullable = true)\n",
      " |-- IsFraud: string (nullable = true)\n",
      "\n"
     ]
    }
   ],
   "source": [
    "trans_data.printSchema()"
   ]
  },
  {
   "cell_type": "markdown",
   "metadata": {
    "id": "yfi4rGq8IP70"
   },
   "source": [
    "## Среднее количество транзакций у пользователя"
   ]
  },
  {
   "cell_type": "code",
   "execution_count": 165,
   "metadata": {
    "id": "Q6tW6OGiXtsj"
   },
   "outputs": [
    {
     "name": "stdout",
     "output_type": "stream",
     "text": [
      "+------------------+\n",
      "|   mean_user_trans|\n",
      "+------------------+\n",
      "|1001.0193350938414|\n",
      "+------------------+\n",
      "\n"
     ]
    }
   ],
   "source": [
    "trans_data.select(F.mean('User').alias('mean_user_trans')).show()"
   ]
  },
  {
   "cell_type": "markdown",
   "metadata": {
    "id": "NQ65xaaxGfyZ"
   },
   "source": [
    "## Среднее количество карт у пользователя"
   ]
  },
  {
   "cell_type": "code",
   "execution_count": 166,
   "metadata": {
    "id": "3eJP7vzNXtsj"
   },
   "outputs": [
    {
     "name": "stdout",
     "output_type": "stream",
     "text": [
      "+------------------+\n",
      "|    mean_user_card|\n",
      "+------------------+\n",
      "|1.4720638540478905|\n",
      "+------------------+\n",
      "\n"
     ]
    }
   ],
   "source": [
    "trans_data.select('User', 'Card')\\\n",
    "          .distinct()\\\n",
    "          .select(F.mean('Card').alias('mean_user_card'))\\\n",
    "          .show()"
   ]
  },
  {
   "cell_type": "markdown",
   "metadata": {},
   "source": [
    "## Предобработка данных"
   ]
  },
  {
   "cell_type": "markdown",
   "metadata": {
    "id": "LQ5tOK9AJMbJ"
   },
   "source": [
    "Немного обработаем данные: Amount в float, из Time вытянем час транзакции и удалим исходный Time, Zip  к типу int"
   ]
  },
  {
   "cell_type": "code",
   "execution_count": 167,
   "metadata": {},
   "outputs": [
    {
     "name": "stdout",
     "output_type": "stream",
     "text": [
      "+----+----+----+-----+---+-----+-------+-----------------+-------------+-------------+-------+----+-------+\n",
      "|User|Card|Year|Month|Day| Time| Amount|          UseChip| MerchantCity|MerchantState|    Zip| MCC|IsFraud|\n",
      "+----+----+----+-----+---+-----+-------+-----------------+-------------+-------------+-------+----+-------+\n",
      "|   0|   0|2002|    9|  1|06:21|$134.09|Swipe Transaction|     La Verne|           CA|91750.0|5300|     No|\n",
      "|   0|   0|2002|    9|  1|06:42| $38.48|Swipe Transaction|Monterey Park|           CA|91754.0|5411|     No|\n",
      "|   0|   0|2002|    9|  2|06:22|$120.34|Swipe Transaction|Monterey Park|           CA|91754.0|5411|     No|\n",
      "+----+----+----+-----+---+-----+-------+-----------------+-------------+-------------+-------+----+-------+\n",
      "only showing top 3 rows\n",
      "\n"
     ]
    }
   ],
   "source": [
    "trans_data.show(3)"
   ]
  },
  {
   "cell_type": "code",
   "execution_count": 168,
   "metadata": {},
   "outputs": [],
   "source": [
    "trans_data = trans_data.withColumn(\n",
    "    'Amount', F.regexp_extract('Amount', r'\\d+\\.\\d+(?:\\.\\d+)?', 0).cast('float'))\\\n",
    "                       .withColumn('Hour', F.hour('Time'))\\\n",
    "                       .withColumn('Minute', F.minute('Time'))\\\n",
    "                       .withColumn('Zip', F.col('Zip').cast('integer'))\\\n",
    "                       .drop('Time')"
   ]
  },
  {
   "cell_type": "code",
   "execution_count": 169,
   "metadata": {
    "id": "x9DfG79tXtsj"
   },
   "outputs": [
    {
     "name": "stdout",
     "output_type": "stream",
     "text": [
      "+----+----+----+-----+---+------+-----------------+-------------+-------------+-----+----+-------+----+------+\n",
      "|User|Card|Year|Month|Day|Amount|          UseChip| MerchantCity|MerchantState|  Zip| MCC|IsFraud|Hour|Minute|\n",
      "+----+----+----+-----+---+------+-----------------+-------------+-------------+-----+----+-------+----+------+\n",
      "|   0|   0|2002|    9|  1|134.09|Swipe Transaction|     La Verne|           CA|91750|5300|     No|   6|    21|\n",
      "|   0|   0|2002|    9|  1| 38.48|Swipe Transaction|Monterey Park|           CA|91754|5411|     No|   6|    42|\n",
      "|   0|   0|2002|    9|  2|120.34|Swipe Transaction|Monterey Park|           CA|91754|5411|     No|   6|    22|\n",
      "+----+----+----+-----+---+------+-----------------+-------------+-------------+-----+----+-------+----+------+\n",
      "only showing top 3 rows\n",
      "\n"
     ]
    }
   ],
   "source": [
    "trans_data.show(3)"
   ]
  },
  {
   "cell_type": "code",
   "execution_count": 170,
   "metadata": {},
   "outputs": [
    {
     "data": {
      "text/plain": [
       "[('User', 'bigint'),\n",
       " ('Card', 'bigint'),\n",
       " ('Year', 'bigint'),\n",
       " ('Month', 'bigint'),\n",
       " ('Day', 'bigint'),\n",
       " ('Amount', 'float'),\n",
       " ('UseChip', 'string'),\n",
       " ('MerchantCity', 'string'),\n",
       " ('MerchantState', 'string'),\n",
       " ('Zip', 'int'),\n",
       " ('MCC', 'bigint'),\n",
       " ('IsFraud', 'string'),\n",
       " ('Hour', 'int'),\n",
       " ('Minute', 'int')]"
      ]
     },
     "metadata": {},
     "output_type": "display_data"
    }
   ],
   "source": [
    "display(trans_data.dtypes)"
   ]
  },
  {
   "cell_type": "markdown",
   "metadata": {},
   "source": [
    "## Количество транзакций по годам"
   ]
  },
  {
   "cell_type": "markdown",
   "metadata": {
    "id": "Km4bInOzTf2d"
   },
   "source": [
    "Посчитайте количество транзакций по годам, учитывая только те транзакции, объем которых был больше 100"
   ]
  },
  {
   "cell_type": "code",
   "execution_count": 171,
   "metadata": {
    "id": "YXb_dT5BXtsj"
   },
   "outputs": [
    {
     "name": "stdout",
     "output_type": "stream",
     "text": [
      "+----+------+\n",
      "|Year| count|\n",
      "+----+------+\n",
      "|1991|   341|\n",
      "|1992|  1218|\n",
      "|1993|  1639|\n",
      "|1994|  2195|\n",
      "|1995|  2853|\n",
      "|1996|  3959|\n",
      "|1997|  6724|\n",
      "|1998| 10618|\n",
      "|1999| 16116|\n",
      "|2000| 24207|\n",
      "|2001| 35099|\n",
      "|2002| 47663|\n",
      "|2003| 63374|\n",
      "|2004| 81136|\n",
      "|2005|101705|\n",
      "|2006|122186|\n",
      "|2007|140863|\n",
      "|2008|159085|\n",
      "|2009|173619|\n",
      "|2010|190408|\n",
      "|2011|198661|\n",
      "|2012|201125|\n",
      "|2013|205754|\n",
      "|2014|206629|\n",
      "|2015|208457|\n",
      "|2016|210013|\n",
      "|2017|210154|\n",
      "|2018|209575|\n",
      "|2019|209429|\n",
      "|2020| 40096|\n",
      "+----+------+\n",
      "\n"
     ]
    }
   ],
   "source": [
    "trans_data.filter(F.col('Amount') >= 100)\\\n",
    "          .groupBy('Year')\\\n",
    "          .count()\\\n",
    "          .orderBy('Year')\\\n",
    "          .show(n=30)"
   ]
  },
  {
   "cell_type": "markdown",
   "metadata": {},
   "source": [
    "## Проверка пустых значений"
   ]
  },
  {
   "cell_type": "markdown",
   "metadata": {
    "id": "lPQ3E9SGDtWJ"
   },
   "source": [
    "Определите, есть ли пропуски в данных по каждому столбцу"
   ]
  },
  {
   "cell_type": "code",
   "execution_count": 172,
   "metadata": {},
   "outputs": [],
   "source": [
    "def count_missing(df):\n",
    "    return df.select([F.count(F.when(F.isnan(c) | F.col(c).isNull(), c)).alias(c) for c in df.columns])"
   ]
  },
  {
   "cell_type": "code",
   "execution_count": 173,
   "metadata": {},
   "outputs": [
    {
     "name": "stdout",
     "output_type": "stream",
     "text": [
      "+----+----+----+-----+---+------+-------+------------+-------------+-------+---+-------+----+------+\n",
      "|User|Card|Year|Month|Day|Amount|UseChip|MerchantCity|MerchantState|    Zip|MCC|IsFraud|Hour|Minute|\n",
      "+----+----+----+-----+---+------+-------+------------+-------------+-------+---+-------+----+------+\n",
      "|   0|   0|   0|    0|  0|     0|      0|           0|      2720821|2878135|  0|      0|   0|     0|\n",
      "+----+----+----+-----+---+------+-------+------------+-------------+-------+---+-------+----+------+\n",
      "\n",
      "CPU times: total: 78.1 ms\n",
      "Wall time: 4min 9s\n"
     ]
    }
   ],
   "source": [
    "%%time\n",
    "count_missing(trans_data).show()"
   ]
  },
  {
   "cell_type": "markdown",
   "metadata": {},
   "source": [
    "## Заполнение пустых значений"
   ]
  },
  {
   "cell_type": "markdown",
   "metadata": {
    "id": "Rg3ZKFXYGF1I"
   },
   "source": [
    "Заполните пропуски исходя из типа данных"
   ]
  },
  {
   "cell_type": "code",
   "execution_count": 174,
   "metadata": {
    "id": "nlld3xRkXtsk"
   },
   "outputs": [
    {
     "data": {
      "text/plain": [
       "[('User', 'bigint'),\n",
       " ('Card', 'bigint'),\n",
       " ('Year', 'bigint'),\n",
       " ('Month', 'bigint'),\n",
       " ('Day', 'bigint'),\n",
       " ('Amount', 'float'),\n",
       " ('UseChip', 'string'),\n",
       " ('MerchantCity', 'string'),\n",
       " ('MerchantState', 'string'),\n",
       " ('Zip', 'int'),\n",
       " ('MCC', 'bigint'),\n",
       " ('IsFraud', 'string'),\n",
       " ('Hour', 'int'),\n",
       " ('Minute', 'int')]"
      ]
     },
     "metadata": {},
     "output_type": "display_data"
    }
   ],
   "source": [
    "display(trans_data.dtypes)"
   ]
  },
  {
   "cell_type": "code",
   "execution_count": 175,
   "metadata": {},
   "outputs": [],
   "source": [
    "trans_data = trans_data.fillna({\n",
    "    'MerchantState': 'Unknown',\n",
    "    'Zip': -1\n",
    "})"
   ]
  },
  {
   "cell_type": "code",
   "execution_count": 176,
   "metadata": {},
   "outputs": [
    {
     "name": "stdout",
     "output_type": "stream",
     "text": [
      "+----+----+----+-----+---+------+-------+------------+-------------+---+---+-------+----+------+\n",
      "|User|Card|Year|Month|Day|Amount|UseChip|MerchantCity|MerchantState|Zip|MCC|IsFraud|Hour|Minute|\n",
      "+----+----+----+-----+---+------+-------+------------+-------------+---+---+-------+----+------+\n",
      "|   0|   0|   0|    0|  0|     0|      0|           0|            0|  0|  0|      0|   0|     0|\n",
      "+----+----+----+-----+---+------+-------+------------+-------------+---+---+-------+----+------+\n",
      "\n",
      "CPU times: total: 78.1 ms\n",
      "Wall time: 6min 20s\n"
     ]
    }
   ],
   "source": [
    "%%time\n",
    "count_missing(trans_data).show()"
   ]
  },
  {
   "cell_type": "markdown",
   "metadata": {},
   "source": [
    "## Статистики с использованием оконных функций"
   ]
  },
  {
   "cell_type": "markdown",
   "metadata": {
    "id": "iKumnBpJNR1H"
   },
   "source": [
    "При помощи оконных функций для каждого клиента рассчитайте средний размер транзакции, количество транзакций и последнюю по дате транзакцию."
   ]
  },
  {
   "cell_type": "code",
   "execution_count": 177,
   "metadata": {},
   "outputs": [],
   "source": [
    "# Добавим поле с датой и временем транзакции:\n",
    "trans_data = trans_data.withColumn(\n",
    "    'TransDate',\n",
    "    F.to_timestamp(\n",
    "        F.concat(\n",
    "            F.col('Year'), F.lit('-'), F.col('Month'), F.lit('-'), F.col('Day'),\n",
    "            F.lit(' '),\n",
    "            F.col('Hour'), F.lit(':'), F.col('Minute')\n",
    "        )\n",
    "    )\n",
    ")"
   ]
  },
  {
   "cell_type": "code",
   "execution_count": 178,
   "metadata": {},
   "outputs": [],
   "source": [
    "# Рассчитываем статистики с помощью оконных функций:\n",
    "w = Window.partitionBy('User')\n",
    "user_stats = trans_data.select(\n",
    "    'User',\n",
    "    F.avg('Amount').over(w).alias('mean_trans_amount'),\n",
    "    F.count('*').over(w).alias('trans_count'),\n",
    "    F.max('TransDate').over(w).alias('last_TransDate')\n",
    ")"
   ]
  },
  {
   "cell_type": "code",
   "execution_count": 179,
   "metadata": {},
   "outputs": [
    {
     "name": "stdout",
     "output_type": "stream",
     "text": [
      "+----+-----------------+-----------+-------------------+\n",
      "|User|mean_trans_amount|trans_count|     last_TransDate|\n",
      "+----+-----------------+-----------+-------------------+\n",
      "|   0|90.17621047155345|      19963|2020-02-28 07:36:00|\n",
      "|   0|90.17621047155345|      19963|2020-02-28 07:36:00|\n",
      "|   0|90.17621047155345|      19963|2020-02-28 07:36:00|\n",
      "|   0|90.17621047155345|      19963|2020-02-28 07:36:00|\n",
      "|   0|90.17621047155345|      19963|2020-02-28 07:36:00|\n",
      "+----+-----------------+-----------+-------------------+\n",
      "only showing top 5 rows\n",
      "\n",
      "CPU times: total: 15.6 ms\n",
      "Wall time: 2min 7s\n"
     ]
    }
   ],
   "source": [
    "%%time\n",
    "user_stats.show(5)"
   ]
  },
  {
   "cell_type": "markdown",
   "metadata": {},
   "source": [
    "## Изменение структуры"
   ]
  },
  {
   "cell_type": "markdown",
   "metadata": {
    "id": "EkiD1y5xGfet"
   },
   "source": [
    "Теперь самое время сгруппировать данные по каждому клиенту (можно использовать collect_list для сбора данных после агрегации)\n",
    "Когда будете делать агрегацию, то возьмите только часть выборки, например, через sample, для всей выборки либо не хватит памяти, либо очень долго считать"
   ]
  },
  {
   "cell_type": "code",
   "execution_count": 180,
   "metadata": {},
   "outputs": [
    {
     "name": "stdout",
     "output_type": "stream",
     "text": [
      "24349\n",
      "+----+----+----+-----+---+------+-----------------+-------------+-------------+-----+----+-------+----+------+-------------------+\n",
      "|User|Card|Year|Month|Day|Amount|          UseChip| MerchantCity|MerchantState|  Zip| MCC|IsFraud|Hour|Minute|          TransDate|\n",
      "+----+----+----+-----+---+------+-----------------+-------------+-------------+-----+----+-------+----+------+-------------------+\n",
      "|   0|   0|2002|    9| 11|  99.0|Swipe Transaction|    Mira Loma|           CA|91752|5541|     No|  13|    23|2002-09-11 13:23:00|\n",
      "|   0|   0|2006|    9|  2| 61.89|Swipe Transaction|Monterey Park|           CA|91755|5942|     No|  13|    39|2006-09-02 13:39:00|\n",
      "|   0|   0|2010|    9|  3|109.28|Swipe Transaction|     La Verne|           CA|91750|5912|     No|   6|    18|2010-09-03 06:18:00|\n",
      "|   0|   0|2013|    1| 21|114.79|Swipe Transaction|     La Verne|           CA|91750|5311|     No|   6|     3|2013-01-21 06:03:00|\n",
      "|   0|   0|2014|    5|  5| 77.67|Swipe Transaction|     La Verne|           CA|91750|5912|     No|   6|    28|2014-05-05 06:28:00|\n",
      "+----+----+----+-----+---+------+-----------------+-------------+-------------+-----+----+-------+----+------+-------------------+\n",
      "only showing top 5 rows\n",
      "\n"
     ]
    }
   ],
   "source": [
    "trans_data_simple = trans_data.sample(withReplacement=False, fraction=0.001, seed=777)\n",
    "\n",
    "print(trans_data_simple.count())\n",
    "trans_data_simple.show(5)"
   ]
  },
  {
   "cell_type": "code",
   "execution_count": 181,
   "metadata": {},
   "outputs": [
    {
     "name": "stdout",
     "output_type": "stream",
     "text": [
      "+----+----+--------------------+\n",
      "|User|Card|        Transactions|\n",
      "+----+----+--------------------+\n",
      "|1528|   0|{138.24, 2002-08-...|\n",
      "| 842|   2|{89.62, 2020-02-0...|\n",
      "|1868|   0|{70.45, 2016-05-0...|\n",
      "|1704|   0|{57.28, 2014-01-0...|\n",
      "|1616|   0|{8.96, 2016-06-03...|\n",
      "+----+----+--------------------+\n",
      "only showing top 5 rows\n",
      "\n"
     ]
    }
   ],
   "source": [
    "trans_data_simple_seq = trans_data_simple.select('User', 'Card', F.struct('Amount', 'TransDate', 'MCC').alias('Transactions'))\\\n",
    "                                         .select(\"*\").orderBy(F.rand(seed=777)) # Тут шафлим, иначе и так все упорядочено\n",
    "trans_data_simple_seq.show(5)"
   ]
  },
  {
   "cell_type": "code",
   "execution_count": 182,
   "metadata": {
    "id": "bEYl8-giXtsk"
   },
   "outputs": [
    {
     "name": "stdout",
     "output_type": "stream",
     "text": [
      "+----+----+------------------------------------------------------------------------------------------------------------------------+\n",
      "|User|Card|                                                                                                            Transactions|\n",
      "+----+----+------------------------------------------------------------------------------------------------------------------------+\n",
      "|   0|   0|[{77.67, 2014-05-05 06:28:00, 5912}, {61.89, 2006-09-02 13:39:00, 5942}, {114.79, 2013-01-21 06:03:00, 5311}, {99.0, ...|\n",
      "|   0|   2|[{39.73, 2017-08-26 06:44:00, 5912}, {26.48, 2006-09-15 21:49:00, 7832}, {119.57, 2017-01-16 05:57:00, 3504}, {59.4, ...|\n",
      "|   0|   3|[{138.13, 2014-05-11 06:13:00, 5411}, {66.5, 2016-09-09 09:48:00, 7538}, {51.89, 2011-04-05 06:56:00, 5411}, {58.51, ...|\n",
      "|   1|   1|[{124.54, 2015-08-21 04:38:00, 4900}, {0.75, 2019-09-14 13:10:00, 5411}, {62.55, 2011-06-08 10:10:00, 5411}, {128.75,...|\n",
      "|   1|   2|[{0.6, 2009-06-15 13:29:00, 5651}, {100.69, 2010-10-05 06:57:00, 5311}, {51.75, 2014-05-29 13:12:00, 4814}, {72.55, 2...|\n",
      "+----+----+------------------------------------------------------------------------------------------------------------------------+\n",
      "only showing top 5 rows\n",
      "\n"
     ]
    }
   ],
   "source": [
    "trans_data_simple_seq = trans_data_simple_seq.groupBy('User', 'Card')\\\n",
    "                                             .agg(F.collect_list('Transactions').alias('Transactions'))\n",
    "trans_data_simple_seq.show(5, truncate=120)"
   ]
  },
  {
   "cell_type": "markdown",
   "metadata": {},
   "source": [
    "## Обработка последовательностей"
   ]
  },
  {
   "cell_type": "markdown",
   "metadata": {
    "id": "66WJoh15jf0P"
   },
   "source": [
    "Напишите python функцию, которая возьмет данные после агрегации последовательностей, отсортирует их внутри по дате и времени и преобразует к формату python dict:\n",
    "{'User': User,\n",
    "'Card': Card,\n",
    "'sequence':{\n",
    "    'amount': [последовательность],\n",
    "    'year': [последовательность],\n",
    "    'month': [последовательность],\n",
    "    'day': [последовательность],\n",
    "    'time': [последовательность],\n",
    "    'MCC': [последовательность]\n",
    "}\n",
    "}\n",
    "\n",
    "\n"
   ]
  },
  {
   "cell_type": "markdown",
   "metadata": {
    "id": "dDC5b3iBk0Ti"
   },
   "source": [
    "Выведите как пример одну преобразованную запись, результаты сохраните на диск через rdd в pickle"
   ]
  },
  {
   "cell_type": "code",
   "execution_count": 183,
   "metadata": {},
   "outputs": [],
   "source": [
    "def preprocess_trans(row):\n",
    "    \n",
    "    sorted_transactions = sorted(row.Transactions, key=lambda x: x.TransDate)\n",
    "    \n",
    "    amount_list = [transaction.Amount for transaction in sorted_transactions]\n",
    "    date_list = [str(transaction.TransDate) for transaction in sorted_transactions]\n",
    "    mcc_list = [transaction.MCC for transaction in sorted_transactions]\n",
    "\n",
    "    return {\n",
    "        'User': row.User,\n",
    "        'Card': row.Card,\n",
    "        'Transactions': {\n",
    "            'Amount': amount_list,\n",
    "            'TransDate': date_list,\n",
    "            'MCC': mcc_list\n",
    "        }\n",
    "    }"
   ]
  },
  {
   "cell_type": "code",
   "execution_count": 184,
   "metadata": {},
   "outputs": [],
   "source": [
    "trans_dict = trans_data_simple_seq.rdd.map(preprocess_trans)"
   ]
  },
  {
   "cell_type": "code",
   "execution_count": 185,
   "metadata": {},
   "outputs": [
    {
     "data": {
      "text/plain": [
       "{'User': 0,\n",
       " 'Card': 0,\n",
       " 'Transactions': {'Amount': [99.0,\n",
       "   61.88999938964844,\n",
       "   109.27999877929688,\n",
       "   114.79000091552734,\n",
       "   77.66999816894531],\n",
       "  'TransDate': ['2002-09-11 12:23:00',\n",
       "   '2006-09-02 12:39:00',\n",
       "   '2010-09-03 05:18:00',\n",
       "   '2013-01-21 05:03:00',\n",
       "   '2014-05-05 05:28:00'],\n",
       "  'MCC': [5541, 5942, 5912, 5311, 5912]}}"
      ]
     },
     "execution_count": 185,
     "metadata": {},
     "output_type": "execute_result"
    }
   ],
   "source": [
    "trans_dict.collect()[0]"
   ]
  },
  {
   "cell_type": "code",
   "execution_count": 186,
   "metadata": {},
   "outputs": [
    {
     "name": "stdout",
     "output_type": "stream",
     "text": [
      "+----+----+------+-------------------+----+\n",
      "|User|Card|Amount|          TransDate| MCC|\n",
      "+----+----+------+-------------------+----+\n",
      "|   0|   0|  99.0|2002-09-11 13:23:00|5541|\n",
      "|   0|   0| 61.89|2006-09-02 13:39:00|5942|\n",
      "|   0|   0|109.28|2010-09-03 06:18:00|5912|\n",
      "|   0|   0|114.79|2013-01-21 06:03:00|5311|\n",
      "|   0|   0| 77.67|2014-05-05 06:28:00|5912|\n",
      "|   0|   2| 26.48|2006-09-15 21:49:00|7832|\n",
      "|   0|   2|  59.4|2009-05-13 13:33:00|5211|\n",
      "|   0|   2| 11.38|2011-05-23 13:30:00|5812|\n",
      "|   0|   2|119.57|2017-01-16 05:57:00|3504|\n",
      "|   0|   2| 39.73|2017-08-26 06:44:00|5912|\n",
      "|   0|   3|142.77|2003-09-16 06:20:00|5912|\n",
      "|   0|   3| 80.37|2005-06-18 14:13:00|5719|\n",
      "|   0|   3| 450.0|2005-06-30 06:36:00|4722|\n",
      "|   0|   3| 51.89|2011-04-05 06:56:00|5411|\n",
      "|   0|   3| 58.51|2011-08-22 13:36:00|5311|\n",
      "|   0|   3| 83.93|2012-01-04 06:14:00|5300|\n",
      "|   0|   3|139.41|2012-06-04 05:05:00|5411|\n",
      "|   0|   3|138.13|2014-05-11 06:13:00|5411|\n",
      "|   0|   3|125.54|2016-04-19 06:18:00|5311|\n",
      "|   0|   3|  66.5|2016-09-09 09:48:00|7538|\n",
      "+----+----+------+-------------------+----+\n",
      "only showing top 20 rows\n",
      "\n"
     ]
    }
   ],
   "source": [
    "trans_data_simple_seq.select(\"User\", \"Card\", F.explode(\"Transactions\"))\\\n",
    "                     .select(\"User\", \"Card\", F.col(\"col.*\"))\\\n",
    "                     .orderBy(\"User\", \"Card\", \"TransDate\")\\\n",
    "                     .show()"
   ]
  },
  {
   "cell_type": "code",
   "execution_count": 187,
   "metadata": {},
   "outputs": [],
   "source": [
    "sc.stop()"
   ]
  },
  {
   "cell_type": "code",
   "execution_count": 188,
   "metadata": {},
   "outputs": [
    {
     "data": {
      "text/plain": [
       "{'status': 'ok', 'restart': True}"
      ]
     },
     "execution_count": 188,
     "metadata": {},
     "output_type": "execute_result"
    }
   ],
   "source": [
    "import IPython\n",
    "IPython.Application.instance().kernel.do_shutdown(True)"
   ]
  },
  {
   "cell_type": "code",
   "execution_count": null,
   "metadata": {},
   "outputs": [],
   "source": []
  }
 ],
 "metadata": {
  "colab": {
   "provenance": []
  },
  "kernelspec": {
   "display_name": "Python 3 (ipykernel)",
   "language": "python",
   "name": "python3"
  },
  "language_info": {
   "codemirror_mode": {
    "name": "ipython",
    "version": 3
   },
   "file_extension": ".py",
   "mimetype": "text/x-python",
   "name": "python",
   "nbconvert_exporter": "python",
   "pygments_lexer": "ipython3",
   "version": "3.11.8"
  }
 },
 "nbformat": 4,
 "nbformat_minor": 4
}
